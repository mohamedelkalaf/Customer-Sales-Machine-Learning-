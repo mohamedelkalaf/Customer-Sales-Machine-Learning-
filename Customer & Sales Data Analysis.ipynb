{
 "cells": [
  {
   "cell_type": "markdown",
   "metadata": {},
   "source": [
    "# **1--IMPORT**\n"
   ]
  },
  {
   "cell_type": "code",
   "execution_count": null,
   "metadata": {
    "execution": {
     "iopub.execute_input": "2024-12-10T13:08:49.548522Z",
     "iopub.status.busy": "2024-12-10T13:08:49.548138Z",
     "iopub.status.idle": "2024-12-10T13:08:51.595565Z",
     "shell.execute_reply": "2024-12-10T13:08:51.594232Z",
     "shell.execute_reply.started": "2024-12-10T13:08:49.548466Z"
    },
    "trusted": true
   },
   "outputs": [],
   "source": [
    "import numpy as np\n",
    "import pandas as pd \n",
    "import matplotlib.pyplot as plt \n",
    "import seaborn as sns\n",
    "import plotly.express as px\n",
    "from sklearn.model_selection import train_test_split\n",
    "from sklearn.linear_model import LinearRegression\n",
    "from sklearn.ensemble import RandomForestRegressor, GradientBoostingRegressor\n",
    "from sklearn.metrics import mean_squared_error, r2_score\n",
    "\n"
   ]
  },
  {
   "cell_type": "markdown",
   "metadata": {},
   "source": [
    "# ***2--Load DATA SET***"
   ]
  },
  {
   "cell_type": "code",
   "execution_count": null,
   "metadata": {
    "execution": {
     "iopub.execute_input": "2024-12-10T13:08:51.879249Z",
     "iopub.status.busy": "2024-12-10T13:08:51.878721Z",
     "iopub.status.idle": "2024-12-10T13:08:52.258767Z",
     "shell.execute_reply": "2024-12-10T13:08:52.257744Z",
     "shell.execute_reply.started": "2024-12-10T13:08:51.879216Z"
    },
    "trusted": true
   },
   "outputs": [],
   "source": [
    "file_path = r\"E:\\Projects\\Customer project\\Data.xlsx\"\n",
    "data = pd.read_excel(file_path)\n",
    "\n",
    "def figlayout(f):\n",
    "    fig.update_layout(\n",
    "    plot_bgcolor='white',\n",
    "    font=dict(size=16),\n",
    "    title_font=dict(size=22),\n",
    "    xaxis_title_font=dict(size=18),\n",
    "    yaxis_title_font=dict(size=18),\n",
    "    xaxis_tickangle=-45 \n",
    ")"
   ]
  },
  {
   "cell_type": "code",
   "execution_count": 43,
   "metadata": {
    "execution": {
     "iopub.execute_input": "2024-12-10T13:08:53.740708Z",
     "iopub.status.busy": "2024-12-10T13:08:53.740134Z",
     "iopub.status.idle": "2024-12-10T13:08:53.77394Z",
     "shell.execute_reply": "2024-12-10T13:08:53.772687Z",
     "shell.execute_reply.started": "2024-12-10T13:08:53.74067Z"
    },
    "trusted": true
   },
   "outputs": [
    {
     "name": "stdout",
     "output_type": "stream",
     "text": [
      "<class 'pandas.core.frame.DataFrame'>\n",
      "RangeIndex: 80 entries, 0 to 79\n",
      "Data columns (total 26 columns):\n",
      " #   Column                   Non-Null Count  Dtype         \n",
      "---  ------                   --------------  -----         \n",
      " 0   Product ID               80 non-null     int64         \n",
      " 1   Product Category         80 non-null     object        \n",
      " 2   Product Subcategory      80 non-null     object        \n",
      " 3   Product Name             80 non-null     object        \n",
      " 4   Product Description      80 non-null     object        \n",
      " 5   Product Price            80 non-null     float64       \n",
      " 6   Product Weight           80 non-null     float64       \n",
      " 7   Product Size             80 non-null     object        \n",
      " 8   Product Region           80 non-null     object        \n",
      " 9   Product Color            80 non-null     object        \n",
      " 10  Product Stock            80 non-null     int64         \n",
      " 11  Order ID                 80 non-null     int64         \n",
      " 12  Customer ID              80 non-null     int64         \n",
      " 13  Customer Name            80 non-null     object        \n",
      " 14  Customer Location        80 non-null     object        \n",
      " 15  Month Number             80 non-null     int64         \n",
      " 16  Month                    80 non-null     object        \n",
      " 17  Order Date               80 non-null     datetime64[ns]\n",
      " 18  Order Status             80 non-null     object        \n",
      " 19  Order Quantity           80 non-null     int64         \n",
      " 20  Order Total              80 non-null     int64         \n",
      " 21  Payment Method           80 non-null     object        \n",
      " 22  Shipping Method          80 non-null     object        \n",
      " 23  Shipping Time (in Days)  80 non-null     int64         \n",
      " 24  Estimated Delivery Date  80 non-null     datetime64[ns]\n",
      " 25  Customer Feedback        80 non-null     object        \n",
      "dtypes: datetime64[ns](2), float64(2), int64(8), object(14)\n",
      "memory usage: 16.4+ KB\n"
     ]
    }
   ],
   "source": [
    "data.info()"
   ]
  },
  {
   "cell_type": "code",
   "execution_count": 44,
   "metadata": {
    "execution": {
     "iopub.execute_input": "2024-12-10T13:08:53.798587Z",
     "iopub.status.busy": "2024-12-10T13:08:53.798154Z",
     "iopub.status.idle": "2024-12-10T13:08:53.818853Z",
     "shell.execute_reply": "2024-12-10T13:08:53.817745Z",
     "shell.execute_reply.started": "2024-12-10T13:08:53.798549Z"
    },
    "trusted": true
   },
   "outputs": [
    {
     "data": {
      "text/html": [
       "<div>\n",
       "<style scoped>\n",
       "    .dataframe tbody tr th:only-of-type {\n",
       "        vertical-align: middle;\n",
       "    }\n",
       "\n",
       "    .dataframe tbody tr th {\n",
       "        vertical-align: top;\n",
       "    }\n",
       "\n",
       "    .dataframe thead th {\n",
       "        text-align: right;\n",
       "    }\n",
       "</style>\n",
       "<table border=\"1\" class=\"dataframe\">\n",
       "  <thead>\n",
       "    <tr style=\"text-align: right;\">\n",
       "      <th></th>\n",
       "      <th>Product ID</th>\n",
       "      <th>Product Category</th>\n",
       "      <th>Product Subcategory</th>\n",
       "      <th>Product Name</th>\n",
       "      <th>Product Description</th>\n",
       "      <th>Product Price</th>\n",
       "      <th>Product Weight</th>\n",
       "      <th>Product Size</th>\n",
       "      <th>Product Region</th>\n",
       "      <th>Product Color</th>\n",
       "      <th>...</th>\n",
       "      <th>Month</th>\n",
       "      <th>Order Date</th>\n",
       "      <th>Order Status</th>\n",
       "      <th>Order Quantity</th>\n",
       "      <th>Order Total</th>\n",
       "      <th>Payment Method</th>\n",
       "      <th>Shipping Method</th>\n",
       "      <th>Shipping Time (in Days)</th>\n",
       "      <th>Estimated Delivery Date</th>\n",
       "      <th>Customer Feedback</th>\n",
       "    </tr>\n",
       "  </thead>\n",
       "  <tbody>\n",
       "    <tr>\n",
       "      <th>0</th>\n",
       "      <td>1001</td>\n",
       "      <td>Mountain Bikes</td>\n",
       "      <td>Cross Country</td>\n",
       "      <td>TrailBlazer 1000</td>\n",
       "      <td>Lightweight and versatile</td>\n",
       "      <td>1200.0</td>\n",
       "      <td>25.0</td>\n",
       "      <td>M</td>\n",
       "      <td>North America</td>\n",
       "      <td>Red</td>\n",
       "      <td>...</td>\n",
       "      <td>April</td>\n",
       "      <td>2023-04-01</td>\n",
       "      <td>Shipped</td>\n",
       "      <td>4</td>\n",
       "      <td>4800</td>\n",
       "      <td>Credit Card</td>\n",
       "      <td>Ground</td>\n",
       "      <td>3</td>\n",
       "      <td>2023-04-04</td>\n",
       "      <td>Positive</td>\n",
       "    </tr>\n",
       "    <tr>\n",
       "      <th>1</th>\n",
       "      <td>1002</td>\n",
       "      <td>Mountain Bikes</td>\n",
       "      <td>Cross Country</td>\n",
       "      <td>TrailBlazer 2000</td>\n",
       "      <td>High-performance mountain bike</td>\n",
       "      <td>1500.0</td>\n",
       "      <td>22.0</td>\n",
       "      <td>L</td>\n",
       "      <td>Europe</td>\n",
       "      <td>Blue</td>\n",
       "      <td>...</td>\n",
       "      <td>April</td>\n",
       "      <td>2023-04-02</td>\n",
       "      <td>Processing</td>\n",
       "      <td>2</td>\n",
       "      <td>3000</td>\n",
       "      <td>PayPal</td>\n",
       "      <td>Air</td>\n",
       "      <td>2</td>\n",
       "      <td>2023-04-03</td>\n",
       "      <td>Neutral</td>\n",
       "    </tr>\n",
       "    <tr>\n",
       "      <th>2</th>\n",
       "      <td>1003</td>\n",
       "      <td>Road Bikes</td>\n",
       "      <td>Racing</td>\n",
       "      <td>SpeedMaster 1000</td>\n",
       "      <td>Agile and aerodynamic road bike</td>\n",
       "      <td>1800.0</td>\n",
       "      <td>18.0</td>\n",
       "      <td>M</td>\n",
       "      <td>Asia</td>\n",
       "      <td>Yellow</td>\n",
       "      <td>...</td>\n",
       "      <td>April</td>\n",
       "      <td>2023-04-03</td>\n",
       "      <td>Cancelled</td>\n",
       "      <td>1</td>\n",
       "      <td>1800</td>\n",
       "      <td>Credit Card</td>\n",
       "      <td>Ground</td>\n",
       "      <td>5</td>\n",
       "      <td>2023-04-07</td>\n",
       "      <td>Positive</td>\n",
       "    </tr>\n",
       "    <tr>\n",
       "      <th>3</th>\n",
       "      <td>1004</td>\n",
       "      <td>Road Bikes</td>\n",
       "      <td>Racing</td>\n",
       "      <td>SpeedMaster 2000</td>\n",
       "      <td>Premium racing road bike</td>\n",
       "      <td>2100.0</td>\n",
       "      <td>16.0</td>\n",
       "      <td>L</td>\n",
       "      <td>North America</td>\n",
       "      <td>Black</td>\n",
       "      <td>...</td>\n",
       "      <td>April</td>\n",
       "      <td>2023-04-04</td>\n",
       "      <td>Shipped</td>\n",
       "      <td>2</td>\n",
       "      <td>4200</td>\n",
       "      <td>Credit Card</td>\n",
       "      <td>Air</td>\n",
       "      <td>1</td>\n",
       "      <td>2023-04-04</td>\n",
       "      <td>Negative</td>\n",
       "    </tr>\n",
       "    <tr>\n",
       "      <th>4</th>\n",
       "      <td>1005</td>\n",
       "      <td>Touring Bikes</td>\n",
       "      <td>Long Distance</td>\n",
       "      <td>Explorer 1000</td>\n",
       "      <td>Comfortable and durable touring bike</td>\n",
       "      <td>1300.0</td>\n",
       "      <td>27.0</td>\n",
       "      <td>M</td>\n",
       "      <td>Europe</td>\n",
       "      <td>Green</td>\n",
       "      <td>...</td>\n",
       "      <td>April</td>\n",
       "      <td>2023-04-05</td>\n",
       "      <td>Processing</td>\n",
       "      <td>1</td>\n",
       "      <td>1300</td>\n",
       "      <td>PayPal</td>\n",
       "      <td>Ground</td>\n",
       "      <td>4</td>\n",
       "      <td>2023-04-08</td>\n",
       "      <td>Positive</td>\n",
       "    </tr>\n",
       "  </tbody>\n",
       "</table>\n",
       "<p>5 rows × 26 columns</p>\n",
       "</div>"
      ],
      "text/plain": [
       "   Product ID Product Category Product Subcategory      Product Name  \\\n",
       "0        1001   Mountain Bikes       Cross Country  TrailBlazer 1000   \n",
       "1        1002   Mountain Bikes       Cross Country  TrailBlazer 2000   \n",
       "2        1003       Road Bikes              Racing  SpeedMaster 1000   \n",
       "3        1004       Road Bikes              Racing  SpeedMaster 2000   \n",
       "4        1005    Touring Bikes       Long Distance     Explorer 1000   \n",
       "\n",
       "                    Product Description  Product Price  Product Weight  \\\n",
       "0             Lightweight and versatile         1200.0            25.0   \n",
       "1        High-performance mountain bike         1500.0            22.0   \n",
       "2       Agile and aerodynamic road bike         1800.0            18.0   \n",
       "3              Premium racing road bike         2100.0            16.0   \n",
       "4  Comfortable and durable touring bike         1300.0            27.0   \n",
       "\n",
       "  Product Size Product Region Product Color  ...  Month  Order Date  \\\n",
       "0            M  North America           Red  ...  April  2023-04-01   \n",
       "1            L         Europe          Blue  ...  April  2023-04-02   \n",
       "2            M           Asia        Yellow  ...  April  2023-04-03   \n",
       "3            L  North America         Black  ...  April  2023-04-04   \n",
       "4            M         Europe         Green  ...  April  2023-04-05   \n",
       "\n",
       "   Order Status Order Quantity Order Total  Payment Method Shipping Method  \\\n",
       "0       Shipped              4        4800     Credit Card          Ground   \n",
       "1    Processing              2        3000          PayPal             Air   \n",
       "2     Cancelled              1        1800     Credit Card          Ground   \n",
       "3       Shipped              2        4200     Credit Card             Air   \n",
       "4    Processing              1        1300          PayPal          Ground   \n",
       "\n",
       "  Shipping Time (in Days) Estimated Delivery Date  Customer Feedback  \n",
       "0                       3              2023-04-04           Positive  \n",
       "1                       2              2023-04-03            Neutral  \n",
       "2                       5              2023-04-07           Positive  \n",
       "3                       1              2023-04-04           Negative  \n",
       "4                       4              2023-04-08           Positive  \n",
       "\n",
       "[5 rows x 26 columns]"
      ]
     },
     "execution_count": 44,
     "metadata": {},
     "output_type": "execute_result"
    }
   ],
   "source": [
    "data.head()"
   ]
  },
  {
   "cell_type": "markdown",
   "metadata": {},
   "source": [
    "# ***4- preprocessing on the data***\n"
   ]
  },
  {
   "cell_type": "code",
   "execution_count": 79,
   "metadata": {
    "execution": {
     "iopub.execute_input": "2024-12-10T13:08:53.865323Z",
     "iopub.status.busy": "2024-12-10T13:08:53.864116Z",
     "iopub.status.idle": "2024-12-10T13:08:53.87109Z",
     "shell.execute_reply": "2024-12-10T13:08:53.86982Z",
     "shell.execute_reply.started": "2024-12-10T13:08:53.865278Z"
    },
    "trusted": true
   },
   "outputs": [],
   "source": [
    "data.dropna(inplace=True)\n",
    "data.drop_duplicates(inplace=True)"
   ]
  },
  {
   "cell_type": "code",
   "execution_count": 80,
   "metadata": {
    "execution": {
     "iopub.execute_input": "2024-12-10T13:08:53.89746Z",
     "iopub.status.busy": "2024-12-10T13:08:53.897073Z",
     "iopub.status.idle": "2024-12-10T13:08:53.905813Z",
     "shell.execute_reply": "2024-12-10T13:08:53.904587Z",
     "shell.execute_reply.started": "2024-12-10T13:08:53.897423Z"
    },
    "trusted": true
   },
   "outputs": [
    {
     "name": "stderr",
     "output_type": "stream",
     "text": [
      "<>:3: SyntaxWarning: invalid escape sequence '\\$'\n",
      "<>:3: SyntaxWarning: invalid escape sequence '\\$'\n",
      "C:\\Users\\Mohamed\\AppData\\Local\\Temp\\ipykernel_26436\\2272017476.py:3: SyntaxWarning: invalid escape sequence '\\$'\n",
      "  data['Order Total'] = data['Order Total'].replace({'\\$': '', ',': ''}, regex=True).astype(float)\n"
     ]
    }
   ],
   "source": [
    "data['Order Date'] = pd.to_datetime(data['Order Date'])\n",
    "data['Order Quantity'] = data['Order Quantity'].astype(int)\n",
    "data['Order Total'] = data['Order Total'].replace({'\\$': '', ',': ''}, regex=True).astype(float)\n",
    "data['Order Total'] = data['Product Price'] * data['Order Quantity']"
   ]
  },
  {
   "cell_type": "code",
   "execution_count": 48,
   "metadata": {
    "execution": {
     "iopub.execute_input": "2024-12-10T13:08:54.028221Z",
     "iopub.status.busy": "2024-12-10T13:08:54.027796Z",
     "iopub.status.idle": "2024-12-10T13:08:54.034566Z",
     "shell.execute_reply": "2024-12-10T13:08:54.033239Z",
     "shell.execute_reply.started": "2024-12-10T13:08:54.028185Z"
    },
    "trusted": true
   },
   "outputs": [],
   "source": [
    "data['Month'] = data['Order Date'].dt.month_name()#Create or import month name from order date  new col called 'Month' "
   ]
  },
  {
   "cell_type": "code",
   "execution_count": 49,
   "metadata": {
    "execution": {
     "iopub.execute_input": "2024-12-10T13:08:54.066406Z",
     "iopub.status.busy": "2024-12-10T13:08:54.065608Z",
     "iopub.status.idle": "2024-12-10T13:08:54.075771Z",
     "shell.execute_reply": "2024-12-10T13:08:54.074592Z",
     "shell.execute_reply.started": "2024-12-10T13:08:54.066368Z"
    },
    "trusted": true
   },
   "outputs": [
    {
     "data": {
      "text/html": [
       "<div>\n",
       "<style scoped>\n",
       "    .dataframe tbody tr th:only-of-type {\n",
       "        vertical-align: middle;\n",
       "    }\n",
       "\n",
       "    .dataframe tbody tr th {\n",
       "        vertical-align: top;\n",
       "    }\n",
       "\n",
       "    .dataframe thead th {\n",
       "        text-align: right;\n",
       "    }\n",
       "</style>\n",
       "<table border=\"1\" class=\"dataframe\">\n",
       "  <thead>\n",
       "    <tr style=\"text-align: right;\">\n",
       "      <th></th>\n",
       "      <th>Product Category</th>\n",
       "      <th>Order Total</th>\n",
       "    </tr>\n",
       "  </thead>\n",
       "  <tbody>\n",
       "    <tr>\n",
       "      <th>0</th>\n",
       "      <td>BMX Bikes</td>\n",
       "      <td>1800.0</td>\n",
       "    </tr>\n",
       "    <tr>\n",
       "      <th>1</th>\n",
       "      <td>E-Bikes</td>\n",
       "      <td>58900.0</td>\n",
       "    </tr>\n",
       "    <tr>\n",
       "      <th>2</th>\n",
       "      <td>Hybrid Bikes</td>\n",
       "      <td>3900.0</td>\n",
       "    </tr>\n",
       "    <tr>\n",
       "      <th>3</th>\n",
       "      <td>Kids Bikes</td>\n",
       "      <td>500.0</td>\n",
       "    </tr>\n",
       "    <tr>\n",
       "      <th>4</th>\n",
       "      <td>Mountain Bikes</td>\n",
       "      <td>113900.0</td>\n",
       "    </tr>\n",
       "    <tr>\n",
       "      <th>5</th>\n",
       "      <td>Road Bikes</td>\n",
       "      <td>95600.0</td>\n",
       "    </tr>\n",
       "    <tr>\n",
       "      <th>6</th>\n",
       "      <td>Touring Bikes</td>\n",
       "      <td>70600.0</td>\n",
       "    </tr>\n",
       "  </tbody>\n",
       "</table>\n",
       "</div>"
      ],
      "text/plain": [
       "  Product Category  Order Total\n",
       "0        BMX Bikes       1800.0\n",
       "1          E-Bikes      58900.0\n",
       "2     Hybrid Bikes       3900.0\n",
       "3       Kids Bikes        500.0\n",
       "4   Mountain Bikes     113900.0\n",
       "5       Road Bikes      95600.0\n",
       "6    Touring Bikes      70600.0"
      ]
     },
     "execution_count": 49,
     "metadata": {},
     "output_type": "execute_result"
    }
   ],
   "source": [
    "sales_by_category = data.groupby('Product Category')['Order Total'].sum().reset_index()\n",
    "sales_by_category"
   ]
  },
  {
   "cell_type": "markdown",
   "metadata": {},
   "source": [
    "# ***5- Visualization***"
   ]
  },
  {
   "cell_type": "code",
   "execution_count": 113,
   "metadata": {
    "execution": {
     "iopub.execute_input": "2024-12-10T13:08:54.13202Z",
     "iopub.status.busy": "2024-12-10T13:08:54.131622Z",
     "iopub.status.idle": "2024-12-10T13:08:54.431431Z",
     "shell.execute_reply": "2024-12-10T13:08:54.430384Z",
     "shell.execute_reply.started": "2024-12-10T13:08:54.131986Z"
    },
    "trusted": true
   },
   "outputs": [
    {
     "data": {
      "application/vnd.plotly.v1+json": {
       "config": {
        "plotlyServerURL": "https://plot.ly"
       },
       "data": [
        {
         "hovertemplate": "Total Sales ($)=%{marker.color}<br>Product Category=%{y}<extra></extra>",
         "legendgroup": "",
         "marker": {
          "color": {
           "bdata": "AAAAAAAgnEAAAAAAgMLsQAAAAAAAeK5AAAAAAABAf0AAAAAAwM77QAAAAAAAV/dAAAAAAIA88UA=",
           "dtype": "f8"
          },
          "coloraxis": "coloraxis",
          "pattern": {
           "shape": ""
          }
         },
         "name": "",
         "orientation": "h",
         "showlegend": false,
         "textposition": "auto",
         "type": "bar",
         "x": {
          "bdata": "AAAAAAAgnEAAAAAAgMLsQAAAAAAAeK5AAAAAAABAf0AAAAAAwM77QAAAAAAAV/dAAAAAAIA88UA=",
          "dtype": "f8"
         },
         "xaxis": "x",
         "y": [
          "BMX Bikes",
          "E-Bikes",
          "Hybrid Bikes",
          "Kids Bikes",
          "Mountain Bikes",
          "Road Bikes",
          "Touring Bikes"
         ],
         "yaxis": "y"
        }
       ],
       "layout": {
        "barmode": "relative",
        "coloraxis": {
         "colorbar": {
          "title": {
           "text": "Total Sales ($)"
          }
         },
         "colorscale": [
          [
           0,
           "#440154"
          ],
          [
           0.1111111111111111,
           "#482878"
          ],
          [
           0.2222222222222222,
           "#3e4989"
          ],
          [
           0.3333333333333333,
           "#31688e"
          ],
          [
           0.4444444444444444,
           "#26828e"
          ],
          [
           0.5555555555555556,
           "#1f9e89"
          ],
          [
           0.6666666666666666,
           "#35b779"
          ],
          [
           0.7777777777777778,
           "#6ece58"
          ],
          [
           0.8888888888888888,
           "#b5de2b"
          ],
          [
           1,
           "#fde725"
          ]
         ]
        },
        "font": {
         "size": 16
        },
        "legend": {
         "tracegroupgap": 0
        },
        "plot_bgcolor": "white",
        "template": {
         "data": {
          "bar": [
           {
            "error_x": {
             "color": "#2a3f5f"
            },
            "error_y": {
             "color": "#2a3f5f"
            },
            "marker": {
             "line": {
              "color": "#E5ECF6",
              "width": 0.5
             },
             "pattern": {
              "fillmode": "overlay",
              "size": 10,
              "solidity": 0.2
             }
            },
            "type": "bar"
           }
          ],
          "barpolar": [
           {
            "marker": {
             "line": {
              "color": "#E5ECF6",
              "width": 0.5
             },
             "pattern": {
              "fillmode": "overlay",
              "size": 10,
              "solidity": 0.2
             }
            },
            "type": "barpolar"
           }
          ],
          "carpet": [
           {
            "aaxis": {
             "endlinecolor": "#2a3f5f",
             "gridcolor": "white",
             "linecolor": "white",
             "minorgridcolor": "white",
             "startlinecolor": "#2a3f5f"
            },
            "baxis": {
             "endlinecolor": "#2a3f5f",
             "gridcolor": "white",
             "linecolor": "white",
             "minorgridcolor": "white",
             "startlinecolor": "#2a3f5f"
            },
            "type": "carpet"
           }
          ],
          "choropleth": [
           {
            "colorbar": {
             "outlinewidth": 0,
             "ticks": ""
            },
            "type": "choropleth"
           }
          ],
          "contour": [
           {
            "colorbar": {
             "outlinewidth": 0,
             "ticks": ""
            },
            "colorscale": [
             [
              0,
              "#0d0887"
             ],
             [
              0.1111111111111111,
              "#46039f"
             ],
             [
              0.2222222222222222,
              "#7201a8"
             ],
             [
              0.3333333333333333,
              "#9c179e"
             ],
             [
              0.4444444444444444,
              "#bd3786"
             ],
             [
              0.5555555555555556,
              "#d8576b"
             ],
             [
              0.6666666666666666,
              "#ed7953"
             ],
             [
              0.7777777777777778,
              "#fb9f3a"
             ],
             [
              0.8888888888888888,
              "#fdca26"
             ],
             [
              1,
              "#f0f921"
             ]
            ],
            "type": "contour"
           }
          ],
          "contourcarpet": [
           {
            "colorbar": {
             "outlinewidth": 0,
             "ticks": ""
            },
            "type": "contourcarpet"
           }
          ],
          "heatmap": [
           {
            "colorbar": {
             "outlinewidth": 0,
             "ticks": ""
            },
            "colorscale": [
             [
              0,
              "#0d0887"
             ],
             [
              0.1111111111111111,
              "#46039f"
             ],
             [
              0.2222222222222222,
              "#7201a8"
             ],
             [
              0.3333333333333333,
              "#9c179e"
             ],
             [
              0.4444444444444444,
              "#bd3786"
             ],
             [
              0.5555555555555556,
              "#d8576b"
             ],
             [
              0.6666666666666666,
              "#ed7953"
             ],
             [
              0.7777777777777778,
              "#fb9f3a"
             ],
             [
              0.8888888888888888,
              "#fdca26"
             ],
             [
              1,
              "#f0f921"
             ]
            ],
            "type": "heatmap"
           }
          ],
          "histogram": [
           {
            "marker": {
             "pattern": {
              "fillmode": "overlay",
              "size": 10,
              "solidity": 0.2
             }
            },
            "type": "histogram"
           }
          ],
          "histogram2d": [
           {
            "colorbar": {
             "outlinewidth": 0,
             "ticks": ""
            },
            "colorscale": [
             [
              0,
              "#0d0887"
             ],
             [
              0.1111111111111111,
              "#46039f"
             ],
             [
              0.2222222222222222,
              "#7201a8"
             ],
             [
              0.3333333333333333,
              "#9c179e"
             ],
             [
              0.4444444444444444,
              "#bd3786"
             ],
             [
              0.5555555555555556,
              "#d8576b"
             ],
             [
              0.6666666666666666,
              "#ed7953"
             ],
             [
              0.7777777777777778,
              "#fb9f3a"
             ],
             [
              0.8888888888888888,
              "#fdca26"
             ],
             [
              1,
              "#f0f921"
             ]
            ],
            "type": "histogram2d"
           }
          ],
          "histogram2dcontour": [
           {
            "colorbar": {
             "outlinewidth": 0,
             "ticks": ""
            },
            "colorscale": [
             [
              0,
              "#0d0887"
             ],
             [
              0.1111111111111111,
              "#46039f"
             ],
             [
              0.2222222222222222,
              "#7201a8"
             ],
             [
              0.3333333333333333,
              "#9c179e"
             ],
             [
              0.4444444444444444,
              "#bd3786"
             ],
             [
              0.5555555555555556,
              "#d8576b"
             ],
             [
              0.6666666666666666,
              "#ed7953"
             ],
             [
              0.7777777777777778,
              "#fb9f3a"
             ],
             [
              0.8888888888888888,
              "#fdca26"
             ],
             [
              1,
              "#f0f921"
             ]
            ],
            "type": "histogram2dcontour"
           }
          ],
          "mesh3d": [
           {
            "colorbar": {
             "outlinewidth": 0,
             "ticks": ""
            },
            "type": "mesh3d"
           }
          ],
          "parcoords": [
           {
            "line": {
             "colorbar": {
              "outlinewidth": 0,
              "ticks": ""
             }
            },
            "type": "parcoords"
           }
          ],
          "pie": [
           {
            "automargin": true,
            "type": "pie"
           }
          ],
          "scatter": [
           {
            "fillpattern": {
             "fillmode": "overlay",
             "size": 10,
             "solidity": 0.2
            },
            "type": "scatter"
           }
          ],
          "scatter3d": [
           {
            "line": {
             "colorbar": {
              "outlinewidth": 0,
              "ticks": ""
             }
            },
            "marker": {
             "colorbar": {
              "outlinewidth": 0,
              "ticks": ""
             }
            },
            "type": "scatter3d"
           }
          ],
          "scattercarpet": [
           {
            "marker": {
             "colorbar": {
              "outlinewidth": 0,
              "ticks": ""
             }
            },
            "type": "scattercarpet"
           }
          ],
          "scattergeo": [
           {
            "marker": {
             "colorbar": {
              "outlinewidth": 0,
              "ticks": ""
             }
            },
            "type": "scattergeo"
           }
          ],
          "scattergl": [
           {
            "marker": {
             "colorbar": {
              "outlinewidth": 0,
              "ticks": ""
             }
            },
            "type": "scattergl"
           }
          ],
          "scattermap": [
           {
            "marker": {
             "colorbar": {
              "outlinewidth": 0,
              "ticks": ""
             }
            },
            "type": "scattermap"
           }
          ],
          "scattermapbox": [
           {
            "marker": {
             "colorbar": {
              "outlinewidth": 0,
              "ticks": ""
             }
            },
            "type": "scattermapbox"
           }
          ],
          "scatterpolar": [
           {
            "marker": {
             "colorbar": {
              "outlinewidth": 0,
              "ticks": ""
             }
            },
            "type": "scatterpolar"
           }
          ],
          "scatterpolargl": [
           {
            "marker": {
             "colorbar": {
              "outlinewidth": 0,
              "ticks": ""
             }
            },
            "type": "scatterpolargl"
           }
          ],
          "scatterternary": [
           {
            "marker": {
             "colorbar": {
              "outlinewidth": 0,
              "ticks": ""
             }
            },
            "type": "scatterternary"
           }
          ],
          "surface": [
           {
            "colorbar": {
             "outlinewidth": 0,
             "ticks": ""
            },
            "colorscale": [
             [
              0,
              "#0d0887"
             ],
             [
              0.1111111111111111,
              "#46039f"
             ],
             [
              0.2222222222222222,
              "#7201a8"
             ],
             [
              0.3333333333333333,
              "#9c179e"
             ],
             [
              0.4444444444444444,
              "#bd3786"
             ],
             [
              0.5555555555555556,
              "#d8576b"
             ],
             [
              0.6666666666666666,
              "#ed7953"
             ],
             [
              0.7777777777777778,
              "#fb9f3a"
             ],
             [
              0.8888888888888888,
              "#fdca26"
             ],
             [
              1,
              "#f0f921"
             ]
            ],
            "type": "surface"
           }
          ],
          "table": [
           {
            "cells": {
             "fill": {
              "color": "#EBF0F8"
             },
             "line": {
              "color": "white"
             }
            },
            "header": {
             "fill": {
              "color": "#C8D4E3"
             },
             "line": {
              "color": "white"
             }
            },
            "type": "table"
           }
          ]
         },
         "layout": {
          "annotationdefaults": {
           "arrowcolor": "#2a3f5f",
           "arrowhead": 0,
           "arrowwidth": 1
          },
          "autotypenumbers": "strict",
          "coloraxis": {
           "colorbar": {
            "outlinewidth": 0,
            "ticks": ""
           }
          },
          "colorscale": {
           "diverging": [
            [
             0,
             "#8e0152"
            ],
            [
             0.1,
             "#c51b7d"
            ],
            [
             0.2,
             "#de77ae"
            ],
            [
             0.3,
             "#f1b6da"
            ],
            [
             0.4,
             "#fde0ef"
            ],
            [
             0.5,
             "#f7f7f7"
            ],
            [
             0.6,
             "#e6f5d0"
            ],
            [
             0.7,
             "#b8e186"
            ],
            [
             0.8,
             "#7fbc41"
            ],
            [
             0.9,
             "#4d9221"
            ],
            [
             1,
             "#276419"
            ]
           ],
           "sequential": [
            [
             0,
             "#0d0887"
            ],
            [
             0.1111111111111111,
             "#46039f"
            ],
            [
             0.2222222222222222,
             "#7201a8"
            ],
            [
             0.3333333333333333,
             "#9c179e"
            ],
            [
             0.4444444444444444,
             "#bd3786"
            ],
            [
             0.5555555555555556,
             "#d8576b"
            ],
            [
             0.6666666666666666,
             "#ed7953"
            ],
            [
             0.7777777777777778,
             "#fb9f3a"
            ],
            [
             0.8888888888888888,
             "#fdca26"
            ],
            [
             1,
             "#f0f921"
            ]
           ],
           "sequentialminus": [
            [
             0,
             "#0d0887"
            ],
            [
             0.1111111111111111,
             "#46039f"
            ],
            [
             0.2222222222222222,
             "#7201a8"
            ],
            [
             0.3333333333333333,
             "#9c179e"
            ],
            [
             0.4444444444444444,
             "#bd3786"
            ],
            [
             0.5555555555555556,
             "#d8576b"
            ],
            [
             0.6666666666666666,
             "#ed7953"
            ],
            [
             0.7777777777777778,
             "#fb9f3a"
            ],
            [
             0.8888888888888888,
             "#fdca26"
            ],
            [
             1,
             "#f0f921"
            ]
           ]
          },
          "colorway": [
           "#636efa",
           "#EF553B",
           "#00cc96",
           "#ab63fa",
           "#FFA15A",
           "#19d3f3",
           "#FF6692",
           "#B6E880",
           "#FF97FF",
           "#FECB52"
          ],
          "font": {
           "color": "#2a3f5f"
          },
          "geo": {
           "bgcolor": "white",
           "lakecolor": "white",
           "landcolor": "#E5ECF6",
           "showlakes": true,
           "showland": true,
           "subunitcolor": "white"
          },
          "hoverlabel": {
           "align": "left"
          },
          "hovermode": "closest",
          "mapbox": {
           "style": "light"
          },
          "paper_bgcolor": "white",
          "plot_bgcolor": "#E5ECF6",
          "polar": {
           "angularaxis": {
            "gridcolor": "white",
            "linecolor": "white",
            "ticks": ""
           },
           "bgcolor": "#E5ECF6",
           "radialaxis": {
            "gridcolor": "white",
            "linecolor": "white",
            "ticks": ""
           }
          },
          "scene": {
           "xaxis": {
            "backgroundcolor": "#E5ECF6",
            "gridcolor": "white",
            "gridwidth": 2,
            "linecolor": "white",
            "showbackground": true,
            "ticks": "",
            "zerolinecolor": "white"
           },
           "yaxis": {
            "backgroundcolor": "#E5ECF6",
            "gridcolor": "white",
            "gridwidth": 2,
            "linecolor": "white",
            "showbackground": true,
            "ticks": "",
            "zerolinecolor": "white"
           },
           "zaxis": {
            "backgroundcolor": "#E5ECF6",
            "gridcolor": "white",
            "gridwidth": 2,
            "linecolor": "white",
            "showbackground": true,
            "ticks": "",
            "zerolinecolor": "white"
           }
          },
          "shapedefaults": {
           "line": {
            "color": "#2a3f5f"
           }
          },
          "ternary": {
           "aaxis": {
            "gridcolor": "white",
            "linecolor": "white",
            "ticks": ""
           },
           "baxis": {
            "gridcolor": "white",
            "linecolor": "white",
            "ticks": ""
           },
           "bgcolor": "#E5ECF6",
           "caxis": {
            "gridcolor": "white",
            "linecolor": "white",
            "ticks": ""
           }
          },
          "title": {
           "x": 0.05
          },
          "xaxis": {
           "automargin": true,
           "gridcolor": "white",
           "linecolor": "white",
           "ticks": "",
           "title": {
            "standoff": 15
           },
           "zerolinecolor": "white",
           "zerolinewidth": 2
          },
          "yaxis": {
           "automargin": true,
           "gridcolor": "white",
           "linecolor": "white",
           "ticks": "",
           "title": {
            "standoff": 15
           },
           "zerolinecolor": "white",
           "zerolinewidth": 2
          }
         }
        },
        "title": {
         "font": {
          "size": 22
         },
         "text": " Total Sales by Product Category"
        },
        "xaxis": {
         "anchor": "y",
         "domain": [
          0,
          1
         ],
         "tickangle": -45,
         "title": {
          "font": {
           "size": 18
          },
          "text": "Total Sales ($)"
         }
        },
        "yaxis": {
         "anchor": "x",
         "domain": [
          0,
          1
         ],
         "title": {
          "font": {
           "size": 18
          },
          "text": "Product Category"
         }
        }
       }
      }
     },
     "metadata": {},
     "output_type": "display_data"
    }
   ],
   "source": [
    "\n",
    "fig = px.bar(\n",
    "    sales_by_category,\n",
    "    x='Order Total',\n",
    "    y='Product Category',\n",
    "    orientation='h',\n",
    "    color='Order Total',\n",
    "    color_continuous_scale='viridis',\n",
    "    title=' Total Sales by Product Category',\n",
    "    labels={'Order Total': 'Total Sales ($)', 'Product Category': 'Product Category'}\n",
    ")\n",
    "\n",
    "figlayout(fig)\n",
    "\n",
    "fig.show()\n"
   ]
  },
  {
   "cell_type": "code",
   "execution_count": 51,
   "metadata": {
    "execution": {
     "iopub.execute_input": "2024-12-10T13:08:54.433609Z",
     "iopub.status.busy": "2024-12-10T13:08:54.433155Z",
     "iopub.status.idle": "2024-12-10T13:08:54.442589Z",
     "shell.execute_reply": "2024-12-10T13:08:54.441375Z",
     "shell.execute_reply.started": "2024-12-10T13:08:54.433563Z"
    },
    "trusted": true
   },
   "outputs": [],
   "source": [
    "sales_by_region = data.groupby('Product Region')['Order Total'].sum().reset_index()"
   ]
  },
  {
   "cell_type": "code",
   "execution_count": 112,
   "metadata": {
    "execution": {
     "iopub.execute_input": "2024-12-10T13:08:54.444482Z",
     "iopub.status.busy": "2024-12-10T13:08:54.444038Z",
     "iopub.status.idle": "2024-12-10T13:08:54.628483Z",
     "shell.execute_reply": "2024-12-10T13:08:54.627521Z",
     "shell.execute_reply.started": "2024-12-10T13:08:54.444414Z"
    },
    "trusted": true
   },
   "outputs": [
    {
     "data": {
      "application/vnd.plotly.v1+json": {
       "config": {
        "plotlyServerURL": "https://plot.ly"
       },
       "data": [
        {
         "hovertemplate": "Total Sales ($)=%{x}<br>Region=%{y}<extra></extra>",
         "legendgroup": "",
         "marker": {
          "color": "#636efa",
          "pattern": {
           "shape": ""
          }
         },
         "name": "",
         "orientation": "h",
         "showlegend": false,
         "textposition": "auto",
         "type": "bar",
         "x": {
          "bdata": "AAAAAECW+kAAAAAAoKMBQQAAAACAafZA",
          "dtype": "f8"
         },
         "xaxis": "x",
         "y": [
          "Asia",
          "Europe",
          "North America"
         ],
         "yaxis": "y"
        }
       ],
       "layout": {
        "barmode": "relative",
        "font": {
         "size": 16
        },
        "legend": {
         "tracegroupgap": 0
        },
        "plot_bgcolor": "white",
        "template": {
         "data": {
          "bar": [
           {
            "error_x": {
             "color": "#2a3f5f"
            },
            "error_y": {
             "color": "#2a3f5f"
            },
            "marker": {
             "line": {
              "color": "#E5ECF6",
              "width": 0.5
             },
             "pattern": {
              "fillmode": "overlay",
              "size": 10,
              "solidity": 0.2
             }
            },
            "type": "bar"
           }
          ],
          "barpolar": [
           {
            "marker": {
             "line": {
              "color": "#E5ECF6",
              "width": 0.5
             },
             "pattern": {
              "fillmode": "overlay",
              "size": 10,
              "solidity": 0.2
             }
            },
            "type": "barpolar"
           }
          ],
          "carpet": [
           {
            "aaxis": {
             "endlinecolor": "#2a3f5f",
             "gridcolor": "white",
             "linecolor": "white",
             "minorgridcolor": "white",
             "startlinecolor": "#2a3f5f"
            },
            "baxis": {
             "endlinecolor": "#2a3f5f",
             "gridcolor": "white",
             "linecolor": "white",
             "minorgridcolor": "white",
             "startlinecolor": "#2a3f5f"
            },
            "type": "carpet"
           }
          ],
          "choropleth": [
           {
            "colorbar": {
             "outlinewidth": 0,
             "ticks": ""
            },
            "type": "choropleth"
           }
          ],
          "contour": [
           {
            "colorbar": {
             "outlinewidth": 0,
             "ticks": ""
            },
            "colorscale": [
             [
              0,
              "#0d0887"
             ],
             [
              0.1111111111111111,
              "#46039f"
             ],
             [
              0.2222222222222222,
              "#7201a8"
             ],
             [
              0.3333333333333333,
              "#9c179e"
             ],
             [
              0.4444444444444444,
              "#bd3786"
             ],
             [
              0.5555555555555556,
              "#d8576b"
             ],
             [
              0.6666666666666666,
              "#ed7953"
             ],
             [
              0.7777777777777778,
              "#fb9f3a"
             ],
             [
              0.8888888888888888,
              "#fdca26"
             ],
             [
              1,
              "#f0f921"
             ]
            ],
            "type": "contour"
           }
          ],
          "contourcarpet": [
           {
            "colorbar": {
             "outlinewidth": 0,
             "ticks": ""
            },
            "type": "contourcarpet"
           }
          ],
          "heatmap": [
           {
            "colorbar": {
             "outlinewidth": 0,
             "ticks": ""
            },
            "colorscale": [
             [
              0,
              "#0d0887"
             ],
             [
              0.1111111111111111,
              "#46039f"
             ],
             [
              0.2222222222222222,
              "#7201a8"
             ],
             [
              0.3333333333333333,
              "#9c179e"
             ],
             [
              0.4444444444444444,
              "#bd3786"
             ],
             [
              0.5555555555555556,
              "#d8576b"
             ],
             [
              0.6666666666666666,
              "#ed7953"
             ],
             [
              0.7777777777777778,
              "#fb9f3a"
             ],
             [
              0.8888888888888888,
              "#fdca26"
             ],
             [
              1,
              "#f0f921"
             ]
            ],
            "type": "heatmap"
           }
          ],
          "histogram": [
           {
            "marker": {
             "pattern": {
              "fillmode": "overlay",
              "size": 10,
              "solidity": 0.2
             }
            },
            "type": "histogram"
           }
          ],
          "histogram2d": [
           {
            "colorbar": {
             "outlinewidth": 0,
             "ticks": ""
            },
            "colorscale": [
             [
              0,
              "#0d0887"
             ],
             [
              0.1111111111111111,
              "#46039f"
             ],
             [
              0.2222222222222222,
              "#7201a8"
             ],
             [
              0.3333333333333333,
              "#9c179e"
             ],
             [
              0.4444444444444444,
              "#bd3786"
             ],
             [
              0.5555555555555556,
              "#d8576b"
             ],
             [
              0.6666666666666666,
              "#ed7953"
             ],
             [
              0.7777777777777778,
              "#fb9f3a"
             ],
             [
              0.8888888888888888,
              "#fdca26"
             ],
             [
              1,
              "#f0f921"
             ]
            ],
            "type": "histogram2d"
           }
          ],
          "histogram2dcontour": [
           {
            "colorbar": {
             "outlinewidth": 0,
             "ticks": ""
            },
            "colorscale": [
             [
              0,
              "#0d0887"
             ],
             [
              0.1111111111111111,
              "#46039f"
             ],
             [
              0.2222222222222222,
              "#7201a8"
             ],
             [
              0.3333333333333333,
              "#9c179e"
             ],
             [
              0.4444444444444444,
              "#bd3786"
             ],
             [
              0.5555555555555556,
              "#d8576b"
             ],
             [
              0.6666666666666666,
              "#ed7953"
             ],
             [
              0.7777777777777778,
              "#fb9f3a"
             ],
             [
              0.8888888888888888,
              "#fdca26"
             ],
             [
              1,
              "#f0f921"
             ]
            ],
            "type": "histogram2dcontour"
           }
          ],
          "mesh3d": [
           {
            "colorbar": {
             "outlinewidth": 0,
             "ticks": ""
            },
            "type": "mesh3d"
           }
          ],
          "parcoords": [
           {
            "line": {
             "colorbar": {
              "outlinewidth": 0,
              "ticks": ""
             }
            },
            "type": "parcoords"
           }
          ],
          "pie": [
           {
            "automargin": true,
            "type": "pie"
           }
          ],
          "scatter": [
           {
            "fillpattern": {
             "fillmode": "overlay",
             "size": 10,
             "solidity": 0.2
            },
            "type": "scatter"
           }
          ],
          "scatter3d": [
           {
            "line": {
             "colorbar": {
              "outlinewidth": 0,
              "ticks": ""
             }
            },
            "marker": {
             "colorbar": {
              "outlinewidth": 0,
              "ticks": ""
             }
            },
            "type": "scatter3d"
           }
          ],
          "scattercarpet": [
           {
            "marker": {
             "colorbar": {
              "outlinewidth": 0,
              "ticks": ""
             }
            },
            "type": "scattercarpet"
           }
          ],
          "scattergeo": [
           {
            "marker": {
             "colorbar": {
              "outlinewidth": 0,
              "ticks": ""
             }
            },
            "type": "scattergeo"
           }
          ],
          "scattergl": [
           {
            "marker": {
             "colorbar": {
              "outlinewidth": 0,
              "ticks": ""
             }
            },
            "type": "scattergl"
           }
          ],
          "scattermap": [
           {
            "marker": {
             "colorbar": {
              "outlinewidth": 0,
              "ticks": ""
             }
            },
            "type": "scattermap"
           }
          ],
          "scattermapbox": [
           {
            "marker": {
             "colorbar": {
              "outlinewidth": 0,
              "ticks": ""
             }
            },
            "type": "scattermapbox"
           }
          ],
          "scatterpolar": [
           {
            "marker": {
             "colorbar": {
              "outlinewidth": 0,
              "ticks": ""
             }
            },
            "type": "scatterpolar"
           }
          ],
          "scatterpolargl": [
           {
            "marker": {
             "colorbar": {
              "outlinewidth": 0,
              "ticks": ""
             }
            },
            "type": "scatterpolargl"
           }
          ],
          "scatterternary": [
           {
            "marker": {
             "colorbar": {
              "outlinewidth": 0,
              "ticks": ""
             }
            },
            "type": "scatterternary"
           }
          ],
          "surface": [
           {
            "colorbar": {
             "outlinewidth": 0,
             "ticks": ""
            },
            "colorscale": [
             [
              0,
              "#0d0887"
             ],
             [
              0.1111111111111111,
              "#46039f"
             ],
             [
              0.2222222222222222,
              "#7201a8"
             ],
             [
              0.3333333333333333,
              "#9c179e"
             ],
             [
              0.4444444444444444,
              "#bd3786"
             ],
             [
              0.5555555555555556,
              "#d8576b"
             ],
             [
              0.6666666666666666,
              "#ed7953"
             ],
             [
              0.7777777777777778,
              "#fb9f3a"
             ],
             [
              0.8888888888888888,
              "#fdca26"
             ],
             [
              1,
              "#f0f921"
             ]
            ],
            "type": "surface"
           }
          ],
          "table": [
           {
            "cells": {
             "fill": {
              "color": "#EBF0F8"
             },
             "line": {
              "color": "white"
             }
            },
            "header": {
             "fill": {
              "color": "#C8D4E3"
             },
             "line": {
              "color": "white"
             }
            },
            "type": "table"
           }
          ]
         },
         "layout": {
          "annotationdefaults": {
           "arrowcolor": "#2a3f5f",
           "arrowhead": 0,
           "arrowwidth": 1
          },
          "autotypenumbers": "strict",
          "coloraxis": {
           "colorbar": {
            "outlinewidth": 0,
            "ticks": ""
           }
          },
          "colorscale": {
           "diverging": [
            [
             0,
             "#8e0152"
            ],
            [
             0.1,
             "#c51b7d"
            ],
            [
             0.2,
             "#de77ae"
            ],
            [
             0.3,
             "#f1b6da"
            ],
            [
             0.4,
             "#fde0ef"
            ],
            [
             0.5,
             "#f7f7f7"
            ],
            [
             0.6,
             "#e6f5d0"
            ],
            [
             0.7,
             "#b8e186"
            ],
            [
             0.8,
             "#7fbc41"
            ],
            [
             0.9,
             "#4d9221"
            ],
            [
             1,
             "#276419"
            ]
           ],
           "sequential": [
            [
             0,
             "#0d0887"
            ],
            [
             0.1111111111111111,
             "#46039f"
            ],
            [
             0.2222222222222222,
             "#7201a8"
            ],
            [
             0.3333333333333333,
             "#9c179e"
            ],
            [
             0.4444444444444444,
             "#bd3786"
            ],
            [
             0.5555555555555556,
             "#d8576b"
            ],
            [
             0.6666666666666666,
             "#ed7953"
            ],
            [
             0.7777777777777778,
             "#fb9f3a"
            ],
            [
             0.8888888888888888,
             "#fdca26"
            ],
            [
             1,
             "#f0f921"
            ]
           ],
           "sequentialminus": [
            [
             0,
             "#0d0887"
            ],
            [
             0.1111111111111111,
             "#46039f"
            ],
            [
             0.2222222222222222,
             "#7201a8"
            ],
            [
             0.3333333333333333,
             "#9c179e"
            ],
            [
             0.4444444444444444,
             "#bd3786"
            ],
            [
             0.5555555555555556,
             "#d8576b"
            ],
            [
             0.6666666666666666,
             "#ed7953"
            ],
            [
             0.7777777777777778,
             "#fb9f3a"
            ],
            [
             0.8888888888888888,
             "#fdca26"
            ],
            [
             1,
             "#f0f921"
            ]
           ]
          },
          "colorway": [
           "#636efa",
           "#EF553B",
           "#00cc96",
           "#ab63fa",
           "#FFA15A",
           "#19d3f3",
           "#FF6692",
           "#B6E880",
           "#FF97FF",
           "#FECB52"
          ],
          "font": {
           "color": "#2a3f5f"
          },
          "geo": {
           "bgcolor": "white",
           "lakecolor": "white",
           "landcolor": "#E5ECF6",
           "showlakes": true,
           "showland": true,
           "subunitcolor": "white"
          },
          "hoverlabel": {
           "align": "left"
          },
          "hovermode": "closest",
          "mapbox": {
           "style": "light"
          },
          "paper_bgcolor": "white",
          "plot_bgcolor": "#E5ECF6",
          "polar": {
           "angularaxis": {
            "gridcolor": "white",
            "linecolor": "white",
            "ticks": ""
           },
           "bgcolor": "#E5ECF6",
           "radialaxis": {
            "gridcolor": "white",
            "linecolor": "white",
            "ticks": ""
           }
          },
          "scene": {
           "xaxis": {
            "backgroundcolor": "#E5ECF6",
            "gridcolor": "white",
            "gridwidth": 2,
            "linecolor": "white",
            "showbackground": true,
            "ticks": "",
            "zerolinecolor": "white"
           },
           "yaxis": {
            "backgroundcolor": "#E5ECF6",
            "gridcolor": "white",
            "gridwidth": 2,
            "linecolor": "white",
            "showbackground": true,
            "ticks": "",
            "zerolinecolor": "white"
           },
           "zaxis": {
            "backgroundcolor": "#E5ECF6",
            "gridcolor": "white",
            "gridwidth": 2,
            "linecolor": "white",
            "showbackground": true,
            "ticks": "",
            "zerolinecolor": "white"
           }
          },
          "shapedefaults": {
           "line": {
            "color": "#2a3f5f"
           }
          },
          "ternary": {
           "aaxis": {
            "gridcolor": "white",
            "linecolor": "white",
            "ticks": ""
           },
           "baxis": {
            "gridcolor": "white",
            "linecolor": "white",
            "ticks": ""
           },
           "bgcolor": "#E5ECF6",
           "caxis": {
            "gridcolor": "white",
            "linecolor": "white",
            "ticks": ""
           }
          },
          "title": {
           "x": 0.05
          },
          "xaxis": {
           "automargin": true,
           "gridcolor": "white",
           "linecolor": "white",
           "ticks": "",
           "title": {
            "standoff": 15
           },
           "zerolinecolor": "white",
           "zerolinewidth": 2
          },
          "yaxis": {
           "automargin": true,
           "gridcolor": "white",
           "linecolor": "white",
           "ticks": "",
           "title": {
            "standoff": 15
           },
           "zerolinecolor": "white",
           "zerolinewidth": 2
          }
         }
        },
        "title": {
         "font": {
          "size": 22
         },
         "text": "Sales by Region"
        },
        "xaxis": {
         "anchor": "y",
         "domain": [
          0,
          1
         ],
         "tickangle": -45,
         "title": {
          "font": {
           "size": 18
          },
          "text": "Total Sales ($)"
         }
        },
        "yaxis": {
         "anchor": "x",
         "domain": [
          0,
          1
         ],
         "title": {
          "font": {
           "size": 18
          },
          "text": "Region"
         }
        }
       }
      }
     },
     "metadata": {},
     "output_type": "display_data"
    }
   ],
   "source": [
    "fig=px.bar(\n",
    "    sales_by_region,\n",
    "     x='Order Total',\n",
    "    y='Product Region',\n",
    "    orientation='h',\n",
    "    color_continuous_scale='viridis',\n",
    "    title='Sales by Region',\n",
    "    labels={'Order Total': 'Total Sales ($)', 'Product Region': 'Region'}\n",
    "\n",
    ")\n",
    "\n",
    "figlayout(fig)\n",
    "\n",
    "\n",
    "fig.show()"
   ]
  },
  {
   "cell_type": "code",
   "execution_count": 105,
   "metadata": {
    "execution": {
     "iopub.execute_input": "2024-12-10T13:08:54.63229Z",
     "iopub.status.busy": "2024-12-10T13:08:54.63157Z",
     "iopub.status.idle": "2024-12-10T13:08:54.638707Z",
     "shell.execute_reply": "2024-12-10T13:08:54.637576Z",
     "shell.execute_reply.started": "2024-12-10T13:08:54.63224Z"
    },
    "trusted": true
   },
   "outputs": [],
   "source": [
    "monthly_sales = data.groupby('Month')['Order Total'].sum().reset_index()\n"
   ]
  },
  {
   "cell_type": "code",
   "execution_count": 110,
   "metadata": {
    "execution": {
     "iopub.execute_input": "2024-12-10T13:08:54.640264Z",
     "iopub.status.busy": "2024-12-10T13:08:54.639953Z",
     "iopub.status.idle": "2024-12-10T13:08:54.94562Z",
     "shell.execute_reply": "2024-12-10T13:08:54.944538Z",
     "shell.execute_reply.started": "2024-12-10T13:08:54.640235Z"
    },
    "trusted": true
   },
   "outputs": [
    {
     "data": {
      "application/vnd.plotly.v1+json": {
       "config": {
        "plotlyServerURL": "https://plot.ly"
       },
       "data": [
        {
         "hovertemplate": "Month=%{x}<br>Total Sales ($)=%{y}<extra></extra>",
         "legendgroup": "",
         "line": {
          "color": "#636efa",
          "dash": "solid",
          "shape": "linear"
         },
         "marker": {
          "symbol": "circle"
         },
         "mode": "lines+markers",
         "name": "",
         "orientation": "v",
         "showlegend": false,
         "type": "scatter",
         "x": [
          "April",
          "February",
          "March"
         ],
         "xaxis": "x",
         "y": {
          "bdata": "AAAAACClB0EAAAAAgILmQAAAAACAu/lA",
          "dtype": "f8"
         },
         "yaxis": "y"
        }
       ],
       "layout": {
        "font": {
         "size": 16
        },
        "legend": {
         "tracegroupgap": 0
        },
        "plot_bgcolor": "white",
        "template": {
         "data": {
          "bar": [
           {
            "error_x": {
             "color": "#2a3f5f"
            },
            "error_y": {
             "color": "#2a3f5f"
            },
            "marker": {
             "line": {
              "color": "#E5ECF6",
              "width": 0.5
             },
             "pattern": {
              "fillmode": "overlay",
              "size": 10,
              "solidity": 0.2
             }
            },
            "type": "bar"
           }
          ],
          "barpolar": [
           {
            "marker": {
             "line": {
              "color": "#E5ECF6",
              "width": 0.5
             },
             "pattern": {
              "fillmode": "overlay",
              "size": 10,
              "solidity": 0.2
             }
            },
            "type": "barpolar"
           }
          ],
          "carpet": [
           {
            "aaxis": {
             "endlinecolor": "#2a3f5f",
             "gridcolor": "white",
             "linecolor": "white",
             "minorgridcolor": "white",
             "startlinecolor": "#2a3f5f"
            },
            "baxis": {
             "endlinecolor": "#2a3f5f",
             "gridcolor": "white",
             "linecolor": "white",
             "minorgridcolor": "white",
             "startlinecolor": "#2a3f5f"
            },
            "type": "carpet"
           }
          ],
          "choropleth": [
           {
            "colorbar": {
             "outlinewidth": 0,
             "ticks": ""
            },
            "type": "choropleth"
           }
          ],
          "contour": [
           {
            "colorbar": {
             "outlinewidth": 0,
             "ticks": ""
            },
            "colorscale": [
             [
              0,
              "#0d0887"
             ],
             [
              0.1111111111111111,
              "#46039f"
             ],
             [
              0.2222222222222222,
              "#7201a8"
             ],
             [
              0.3333333333333333,
              "#9c179e"
             ],
             [
              0.4444444444444444,
              "#bd3786"
             ],
             [
              0.5555555555555556,
              "#d8576b"
             ],
             [
              0.6666666666666666,
              "#ed7953"
             ],
             [
              0.7777777777777778,
              "#fb9f3a"
             ],
             [
              0.8888888888888888,
              "#fdca26"
             ],
             [
              1,
              "#f0f921"
             ]
            ],
            "type": "contour"
           }
          ],
          "contourcarpet": [
           {
            "colorbar": {
             "outlinewidth": 0,
             "ticks": ""
            },
            "type": "contourcarpet"
           }
          ],
          "heatmap": [
           {
            "colorbar": {
             "outlinewidth": 0,
             "ticks": ""
            },
            "colorscale": [
             [
              0,
              "#0d0887"
             ],
             [
              0.1111111111111111,
              "#46039f"
             ],
             [
              0.2222222222222222,
              "#7201a8"
             ],
             [
              0.3333333333333333,
              "#9c179e"
             ],
             [
              0.4444444444444444,
              "#bd3786"
             ],
             [
              0.5555555555555556,
              "#d8576b"
             ],
             [
              0.6666666666666666,
              "#ed7953"
             ],
             [
              0.7777777777777778,
              "#fb9f3a"
             ],
             [
              0.8888888888888888,
              "#fdca26"
             ],
             [
              1,
              "#f0f921"
             ]
            ],
            "type": "heatmap"
           }
          ],
          "histogram": [
           {
            "marker": {
             "pattern": {
              "fillmode": "overlay",
              "size": 10,
              "solidity": 0.2
             }
            },
            "type": "histogram"
           }
          ],
          "histogram2d": [
           {
            "colorbar": {
             "outlinewidth": 0,
             "ticks": ""
            },
            "colorscale": [
             [
              0,
              "#0d0887"
             ],
             [
              0.1111111111111111,
              "#46039f"
             ],
             [
              0.2222222222222222,
              "#7201a8"
             ],
             [
              0.3333333333333333,
              "#9c179e"
             ],
             [
              0.4444444444444444,
              "#bd3786"
             ],
             [
              0.5555555555555556,
              "#d8576b"
             ],
             [
              0.6666666666666666,
              "#ed7953"
             ],
             [
              0.7777777777777778,
              "#fb9f3a"
             ],
             [
              0.8888888888888888,
              "#fdca26"
             ],
             [
              1,
              "#f0f921"
             ]
            ],
            "type": "histogram2d"
           }
          ],
          "histogram2dcontour": [
           {
            "colorbar": {
             "outlinewidth": 0,
             "ticks": ""
            },
            "colorscale": [
             [
              0,
              "#0d0887"
             ],
             [
              0.1111111111111111,
              "#46039f"
             ],
             [
              0.2222222222222222,
              "#7201a8"
             ],
             [
              0.3333333333333333,
              "#9c179e"
             ],
             [
              0.4444444444444444,
              "#bd3786"
             ],
             [
              0.5555555555555556,
              "#d8576b"
             ],
             [
              0.6666666666666666,
              "#ed7953"
             ],
             [
              0.7777777777777778,
              "#fb9f3a"
             ],
             [
              0.8888888888888888,
              "#fdca26"
             ],
             [
              1,
              "#f0f921"
             ]
            ],
            "type": "histogram2dcontour"
           }
          ],
          "mesh3d": [
           {
            "colorbar": {
             "outlinewidth": 0,
             "ticks": ""
            },
            "type": "mesh3d"
           }
          ],
          "parcoords": [
           {
            "line": {
             "colorbar": {
              "outlinewidth": 0,
              "ticks": ""
             }
            },
            "type": "parcoords"
           }
          ],
          "pie": [
           {
            "automargin": true,
            "type": "pie"
           }
          ],
          "scatter": [
           {
            "fillpattern": {
             "fillmode": "overlay",
             "size": 10,
             "solidity": 0.2
            },
            "type": "scatter"
           }
          ],
          "scatter3d": [
           {
            "line": {
             "colorbar": {
              "outlinewidth": 0,
              "ticks": ""
             }
            },
            "marker": {
             "colorbar": {
              "outlinewidth": 0,
              "ticks": ""
             }
            },
            "type": "scatter3d"
           }
          ],
          "scattercarpet": [
           {
            "marker": {
             "colorbar": {
              "outlinewidth": 0,
              "ticks": ""
             }
            },
            "type": "scattercarpet"
           }
          ],
          "scattergeo": [
           {
            "marker": {
             "colorbar": {
              "outlinewidth": 0,
              "ticks": ""
             }
            },
            "type": "scattergeo"
           }
          ],
          "scattergl": [
           {
            "marker": {
             "colorbar": {
              "outlinewidth": 0,
              "ticks": ""
             }
            },
            "type": "scattergl"
           }
          ],
          "scattermap": [
           {
            "marker": {
             "colorbar": {
              "outlinewidth": 0,
              "ticks": ""
             }
            },
            "type": "scattermap"
           }
          ],
          "scattermapbox": [
           {
            "marker": {
             "colorbar": {
              "outlinewidth": 0,
              "ticks": ""
             }
            },
            "type": "scattermapbox"
           }
          ],
          "scatterpolar": [
           {
            "marker": {
             "colorbar": {
              "outlinewidth": 0,
              "ticks": ""
             }
            },
            "type": "scatterpolar"
           }
          ],
          "scatterpolargl": [
           {
            "marker": {
             "colorbar": {
              "outlinewidth": 0,
              "ticks": ""
             }
            },
            "type": "scatterpolargl"
           }
          ],
          "scatterternary": [
           {
            "marker": {
             "colorbar": {
              "outlinewidth": 0,
              "ticks": ""
             }
            },
            "type": "scatterternary"
           }
          ],
          "surface": [
           {
            "colorbar": {
             "outlinewidth": 0,
             "ticks": ""
            },
            "colorscale": [
             [
              0,
              "#0d0887"
             ],
             [
              0.1111111111111111,
              "#46039f"
             ],
             [
              0.2222222222222222,
              "#7201a8"
             ],
             [
              0.3333333333333333,
              "#9c179e"
             ],
             [
              0.4444444444444444,
              "#bd3786"
             ],
             [
              0.5555555555555556,
              "#d8576b"
             ],
             [
              0.6666666666666666,
              "#ed7953"
             ],
             [
              0.7777777777777778,
              "#fb9f3a"
             ],
             [
              0.8888888888888888,
              "#fdca26"
             ],
             [
              1,
              "#f0f921"
             ]
            ],
            "type": "surface"
           }
          ],
          "table": [
           {
            "cells": {
             "fill": {
              "color": "#EBF0F8"
             },
             "line": {
              "color": "white"
             }
            },
            "header": {
             "fill": {
              "color": "#C8D4E3"
             },
             "line": {
              "color": "white"
             }
            },
            "type": "table"
           }
          ]
         },
         "layout": {
          "annotationdefaults": {
           "arrowcolor": "#2a3f5f",
           "arrowhead": 0,
           "arrowwidth": 1
          },
          "autotypenumbers": "strict",
          "coloraxis": {
           "colorbar": {
            "outlinewidth": 0,
            "ticks": ""
           }
          },
          "colorscale": {
           "diverging": [
            [
             0,
             "#8e0152"
            ],
            [
             0.1,
             "#c51b7d"
            ],
            [
             0.2,
             "#de77ae"
            ],
            [
             0.3,
             "#f1b6da"
            ],
            [
             0.4,
             "#fde0ef"
            ],
            [
             0.5,
             "#f7f7f7"
            ],
            [
             0.6,
             "#e6f5d0"
            ],
            [
             0.7,
             "#b8e186"
            ],
            [
             0.8,
             "#7fbc41"
            ],
            [
             0.9,
             "#4d9221"
            ],
            [
             1,
             "#276419"
            ]
           ],
           "sequential": [
            [
             0,
             "#0d0887"
            ],
            [
             0.1111111111111111,
             "#46039f"
            ],
            [
             0.2222222222222222,
             "#7201a8"
            ],
            [
             0.3333333333333333,
             "#9c179e"
            ],
            [
             0.4444444444444444,
             "#bd3786"
            ],
            [
             0.5555555555555556,
             "#d8576b"
            ],
            [
             0.6666666666666666,
             "#ed7953"
            ],
            [
             0.7777777777777778,
             "#fb9f3a"
            ],
            [
             0.8888888888888888,
             "#fdca26"
            ],
            [
             1,
             "#f0f921"
            ]
           ],
           "sequentialminus": [
            [
             0,
             "#0d0887"
            ],
            [
             0.1111111111111111,
             "#46039f"
            ],
            [
             0.2222222222222222,
             "#7201a8"
            ],
            [
             0.3333333333333333,
             "#9c179e"
            ],
            [
             0.4444444444444444,
             "#bd3786"
            ],
            [
             0.5555555555555556,
             "#d8576b"
            ],
            [
             0.6666666666666666,
             "#ed7953"
            ],
            [
             0.7777777777777778,
             "#fb9f3a"
            ],
            [
             0.8888888888888888,
             "#fdca26"
            ],
            [
             1,
             "#f0f921"
            ]
           ]
          },
          "colorway": [
           "#636efa",
           "#EF553B",
           "#00cc96",
           "#ab63fa",
           "#FFA15A",
           "#19d3f3",
           "#FF6692",
           "#B6E880",
           "#FF97FF",
           "#FECB52"
          ],
          "font": {
           "color": "#2a3f5f"
          },
          "geo": {
           "bgcolor": "white",
           "lakecolor": "white",
           "landcolor": "#E5ECF6",
           "showlakes": true,
           "showland": true,
           "subunitcolor": "white"
          },
          "hoverlabel": {
           "align": "left"
          },
          "hovermode": "closest",
          "mapbox": {
           "style": "light"
          },
          "paper_bgcolor": "white",
          "plot_bgcolor": "#E5ECF6",
          "polar": {
           "angularaxis": {
            "gridcolor": "white",
            "linecolor": "white",
            "ticks": ""
           },
           "bgcolor": "#E5ECF6",
           "radialaxis": {
            "gridcolor": "white",
            "linecolor": "white",
            "ticks": ""
           }
          },
          "scene": {
           "xaxis": {
            "backgroundcolor": "#E5ECF6",
            "gridcolor": "white",
            "gridwidth": 2,
            "linecolor": "white",
            "showbackground": true,
            "ticks": "",
            "zerolinecolor": "white"
           },
           "yaxis": {
            "backgroundcolor": "#E5ECF6",
            "gridcolor": "white",
            "gridwidth": 2,
            "linecolor": "white",
            "showbackground": true,
            "ticks": "",
            "zerolinecolor": "white"
           },
           "zaxis": {
            "backgroundcolor": "#E5ECF6",
            "gridcolor": "white",
            "gridwidth": 2,
            "linecolor": "white",
            "showbackground": true,
            "ticks": "",
            "zerolinecolor": "white"
           }
          },
          "shapedefaults": {
           "line": {
            "color": "#2a3f5f"
           }
          },
          "ternary": {
           "aaxis": {
            "gridcolor": "white",
            "linecolor": "white",
            "ticks": ""
           },
           "baxis": {
            "gridcolor": "white",
            "linecolor": "white",
            "ticks": ""
           },
           "bgcolor": "#E5ECF6",
           "caxis": {
            "gridcolor": "white",
            "linecolor": "white",
            "ticks": ""
           }
          },
          "title": {
           "x": 0.05
          },
          "xaxis": {
           "automargin": true,
           "gridcolor": "white",
           "linecolor": "white",
           "ticks": "",
           "title": {
            "standoff": 15
           },
           "zerolinecolor": "white",
           "zerolinewidth": 2
          },
          "yaxis": {
           "automargin": true,
           "gridcolor": "white",
           "linecolor": "white",
           "ticks": "",
           "title": {
            "standoff": 15
           },
           "zerolinecolor": "white",
           "zerolinewidth": 2
          }
         }
        },
        "title": {
         "font": {
          "size": 22
         },
         "text": "Monthly Sales Trends"
        },
        "xaxis": {
         "anchor": "y",
         "domain": [
          0,
          1
         ],
         "tickangle": -45,
         "title": {
          "font": {
           "size": 18
          },
          "text": "Month"
         }
        },
        "yaxis": {
         "anchor": "x",
         "domain": [
          0,
          1
         ],
         "title": {
          "font": {
           "size": 18
          },
          "text": "Total Sales ($)"
         }
        }
       }
      }
     },
     "metadata": {},
     "output_type": "display_data"
    }
   ],
   "source": [
    "fig = px.line(\n",
    "    monthly_sales,\n",
    "    x='Month',\n",
    "    y='Order Total',\n",
    "    title='Monthly Sales Trends',\n",
    "    markers=True, \n",
    "    labels={'Month': 'Month', 'Order Total': 'Total Sales ($)'},\n",
    "    line_shape='linear'  \n",
    ")\n",
    "\n",
    "figlayout(fig)\n",
    "\n",
    "fig.show()\n"
   ]
  },
  {
   "cell_type": "code",
   "execution_count": 55,
   "metadata": {
    "execution": {
     "iopub.execute_input": "2024-12-10T13:08:54.947239Z",
     "iopub.status.busy": "2024-12-10T13:08:54.946919Z",
     "iopub.status.idle": "2024-12-10T13:08:54.954149Z",
     "shell.execute_reply": "2024-12-10T13:08:54.952947Z",
     "shell.execute_reply.started": "2024-12-10T13:08:54.947207Z"
    },
    "trusted": true
   },
   "outputs": [],
   "source": [
    "sales_by_payment = data.groupby('Payment Method')['Order Total'].sum().reset_index()"
   ]
  },
  {
   "cell_type": "code",
   "execution_count": null,
   "metadata": {
    "execution": {
     "iopub.execute_input": "2024-12-10T13:08:54.956004Z",
     "iopub.status.busy": "2024-12-10T13:08:54.955637Z",
     "iopub.status.idle": "2024-12-10T13:08:55.227336Z",
     "shell.execute_reply": "2024-12-10T13:08:55.226332Z",
     "shell.execute_reply.started": "2024-12-10T13:08:54.95597Z"
    },
    "trusted": true
   },
   "outputs": [
    {
     "data": {
      "application/vnd.plotly.v1+json": {
       "config": {
        "plotlyServerURL": "https://plot.ly"
       },
       "data": [
        {
         "domain": {
          "x": [
           0,
           1
          ],
          "y": [
           0,
           1
          ]
         },
         "hovertemplate": "Payment Method=%{label}<br>Order Total=%{value}<extra></extra>",
         "labels": [
          "Credit Card",
          "PayPal"
         ],
         "legendgroup": "",
         "name": "",
         "showlegend": true,
         "textinfo": "percent+label",
         "textposition": "inside",
         "type": "pie",
         "values": {
          "bdata": "AAAAAKC+CUEAAAAA4GQAQQ==",
          "dtype": "f8"
         }
        }
       ],
       "layout": {
        "font": {
         "size": 16
        },
        "legend": {
         "tracegroupgap": 0
        },
        "piecolorway": [
         "#000004",
         "#180f3d",
         "#440f76",
         "#721f81",
         "#9e2f7f",
         "#cd4071",
         "#f1605d",
         "#fd9668",
         "#feca8d",
         "#fcfdbf"
        ],
        "plot_bgcolor": "white",
        "showlegend": true,
        "template": {
         "data": {
          "bar": [
           {
            "error_x": {
             "color": "#2a3f5f"
            },
            "error_y": {
             "color": "#2a3f5f"
            },
            "marker": {
             "line": {
              "color": "#E5ECF6",
              "width": 0.5
             },
             "pattern": {
              "fillmode": "overlay",
              "size": 10,
              "solidity": 0.2
             }
            },
            "type": "bar"
           }
          ],
          "barpolar": [
           {
            "marker": {
             "line": {
              "color": "#E5ECF6",
              "width": 0.5
             },
             "pattern": {
              "fillmode": "overlay",
              "size": 10,
              "solidity": 0.2
             }
            },
            "type": "barpolar"
           }
          ],
          "carpet": [
           {
            "aaxis": {
             "endlinecolor": "#2a3f5f",
             "gridcolor": "white",
             "linecolor": "white",
             "minorgridcolor": "white",
             "startlinecolor": "#2a3f5f"
            },
            "baxis": {
             "endlinecolor": "#2a3f5f",
             "gridcolor": "white",
             "linecolor": "white",
             "minorgridcolor": "white",
             "startlinecolor": "#2a3f5f"
            },
            "type": "carpet"
           }
          ],
          "choropleth": [
           {
            "colorbar": {
             "outlinewidth": 0,
             "ticks": ""
            },
            "type": "choropleth"
           }
          ],
          "contour": [
           {
            "colorbar": {
             "outlinewidth": 0,
             "ticks": ""
            },
            "colorscale": [
             [
              0,
              "#0d0887"
             ],
             [
              0.1111111111111111,
              "#46039f"
             ],
             [
              0.2222222222222222,
              "#7201a8"
             ],
             [
              0.3333333333333333,
              "#9c179e"
             ],
             [
              0.4444444444444444,
              "#bd3786"
             ],
             [
              0.5555555555555556,
              "#d8576b"
             ],
             [
              0.6666666666666666,
              "#ed7953"
             ],
             [
              0.7777777777777778,
              "#fb9f3a"
             ],
             [
              0.8888888888888888,
              "#fdca26"
             ],
             [
              1,
              "#f0f921"
             ]
            ],
            "type": "contour"
           }
          ],
          "contourcarpet": [
           {
            "colorbar": {
             "outlinewidth": 0,
             "ticks": ""
            },
            "type": "contourcarpet"
           }
          ],
          "heatmap": [
           {
            "colorbar": {
             "outlinewidth": 0,
             "ticks": ""
            },
            "colorscale": [
             [
              0,
              "#0d0887"
             ],
             [
              0.1111111111111111,
              "#46039f"
             ],
             [
              0.2222222222222222,
              "#7201a8"
             ],
             [
              0.3333333333333333,
              "#9c179e"
             ],
             [
              0.4444444444444444,
              "#bd3786"
             ],
             [
              0.5555555555555556,
              "#d8576b"
             ],
             [
              0.6666666666666666,
              "#ed7953"
             ],
             [
              0.7777777777777778,
              "#fb9f3a"
             ],
             [
              0.8888888888888888,
              "#fdca26"
             ],
             [
              1,
              "#f0f921"
             ]
            ],
            "type": "heatmap"
           }
          ],
          "histogram": [
           {
            "marker": {
             "pattern": {
              "fillmode": "overlay",
              "size": 10,
              "solidity": 0.2
             }
            },
            "type": "histogram"
           }
          ],
          "histogram2d": [
           {
            "colorbar": {
             "outlinewidth": 0,
             "ticks": ""
            },
            "colorscale": [
             [
              0,
              "#0d0887"
             ],
             [
              0.1111111111111111,
              "#46039f"
             ],
             [
              0.2222222222222222,
              "#7201a8"
             ],
             [
              0.3333333333333333,
              "#9c179e"
             ],
             [
              0.4444444444444444,
              "#bd3786"
             ],
             [
              0.5555555555555556,
              "#d8576b"
             ],
             [
              0.6666666666666666,
              "#ed7953"
             ],
             [
              0.7777777777777778,
              "#fb9f3a"
             ],
             [
              0.8888888888888888,
              "#fdca26"
             ],
             [
              1,
              "#f0f921"
             ]
            ],
            "type": "histogram2d"
           }
          ],
          "histogram2dcontour": [
           {
            "colorbar": {
             "outlinewidth": 0,
             "ticks": ""
            },
            "colorscale": [
             [
              0,
              "#0d0887"
             ],
             [
              0.1111111111111111,
              "#46039f"
             ],
             [
              0.2222222222222222,
              "#7201a8"
             ],
             [
              0.3333333333333333,
              "#9c179e"
             ],
             [
              0.4444444444444444,
              "#bd3786"
             ],
             [
              0.5555555555555556,
              "#d8576b"
             ],
             [
              0.6666666666666666,
              "#ed7953"
             ],
             [
              0.7777777777777778,
              "#fb9f3a"
             ],
             [
              0.8888888888888888,
              "#fdca26"
             ],
             [
              1,
              "#f0f921"
             ]
            ],
            "type": "histogram2dcontour"
           }
          ],
          "mesh3d": [
           {
            "colorbar": {
             "outlinewidth": 0,
             "ticks": ""
            },
            "type": "mesh3d"
           }
          ],
          "parcoords": [
           {
            "line": {
             "colorbar": {
              "outlinewidth": 0,
              "ticks": ""
             }
            },
            "type": "parcoords"
           }
          ],
          "pie": [
           {
            "automargin": true,
            "type": "pie"
           }
          ],
          "scatter": [
           {
            "fillpattern": {
             "fillmode": "overlay",
             "size": 10,
             "solidity": 0.2
            },
            "type": "scatter"
           }
          ],
          "scatter3d": [
           {
            "line": {
             "colorbar": {
              "outlinewidth": 0,
              "ticks": ""
             }
            },
            "marker": {
             "colorbar": {
              "outlinewidth": 0,
              "ticks": ""
             }
            },
            "type": "scatter3d"
           }
          ],
          "scattercarpet": [
           {
            "marker": {
             "colorbar": {
              "outlinewidth": 0,
              "ticks": ""
             }
            },
            "type": "scattercarpet"
           }
          ],
          "scattergeo": [
           {
            "marker": {
             "colorbar": {
              "outlinewidth": 0,
              "ticks": ""
             }
            },
            "type": "scattergeo"
           }
          ],
          "scattergl": [
           {
            "marker": {
             "colorbar": {
              "outlinewidth": 0,
              "ticks": ""
             }
            },
            "type": "scattergl"
           }
          ],
          "scattermap": [
           {
            "marker": {
             "colorbar": {
              "outlinewidth": 0,
              "ticks": ""
             }
            },
            "type": "scattermap"
           }
          ],
          "scattermapbox": [
           {
            "marker": {
             "colorbar": {
              "outlinewidth": 0,
              "ticks": ""
             }
            },
            "type": "scattermapbox"
           }
          ],
          "scatterpolar": [
           {
            "marker": {
             "colorbar": {
              "outlinewidth": 0,
              "ticks": ""
             }
            },
            "type": "scatterpolar"
           }
          ],
          "scatterpolargl": [
           {
            "marker": {
             "colorbar": {
              "outlinewidth": 0,
              "ticks": ""
             }
            },
            "type": "scatterpolargl"
           }
          ],
          "scatterternary": [
           {
            "marker": {
             "colorbar": {
              "outlinewidth": 0,
              "ticks": ""
             }
            },
            "type": "scatterternary"
           }
          ],
          "surface": [
           {
            "colorbar": {
             "outlinewidth": 0,
             "ticks": ""
            },
            "colorscale": [
             [
              0,
              "#0d0887"
             ],
             [
              0.1111111111111111,
              "#46039f"
             ],
             [
              0.2222222222222222,
              "#7201a8"
             ],
             [
              0.3333333333333333,
              "#9c179e"
             ],
             [
              0.4444444444444444,
              "#bd3786"
             ],
             [
              0.5555555555555556,
              "#d8576b"
             ],
             [
              0.6666666666666666,
              "#ed7953"
             ],
             [
              0.7777777777777778,
              "#fb9f3a"
             ],
             [
              0.8888888888888888,
              "#fdca26"
             ],
             [
              1,
              "#f0f921"
             ]
            ],
            "type": "surface"
           }
          ],
          "table": [
           {
            "cells": {
             "fill": {
              "color": "#EBF0F8"
             },
             "line": {
              "color": "white"
             }
            },
            "header": {
             "fill": {
              "color": "#C8D4E3"
             },
             "line": {
              "color": "white"
             }
            },
            "type": "table"
           }
          ]
         },
         "layout": {
          "annotationdefaults": {
           "arrowcolor": "#2a3f5f",
           "arrowhead": 0,
           "arrowwidth": 1
          },
          "autotypenumbers": "strict",
          "coloraxis": {
           "colorbar": {
            "outlinewidth": 0,
            "ticks": ""
           }
          },
          "colorscale": {
           "diverging": [
            [
             0,
             "#8e0152"
            ],
            [
             0.1,
             "#c51b7d"
            ],
            [
             0.2,
             "#de77ae"
            ],
            [
             0.3,
             "#f1b6da"
            ],
            [
             0.4,
             "#fde0ef"
            ],
            [
             0.5,
             "#f7f7f7"
            ],
            [
             0.6,
             "#e6f5d0"
            ],
            [
             0.7,
             "#b8e186"
            ],
            [
             0.8,
             "#7fbc41"
            ],
            [
             0.9,
             "#4d9221"
            ],
            [
             1,
             "#276419"
            ]
           ],
           "sequential": [
            [
             0,
             "#0d0887"
            ],
            [
             0.1111111111111111,
             "#46039f"
            ],
            [
             0.2222222222222222,
             "#7201a8"
            ],
            [
             0.3333333333333333,
             "#9c179e"
            ],
            [
             0.4444444444444444,
             "#bd3786"
            ],
            [
             0.5555555555555556,
             "#d8576b"
            ],
            [
             0.6666666666666666,
             "#ed7953"
            ],
            [
             0.7777777777777778,
             "#fb9f3a"
            ],
            [
             0.8888888888888888,
             "#fdca26"
            ],
            [
             1,
             "#f0f921"
            ]
           ],
           "sequentialminus": [
            [
             0,
             "#0d0887"
            ],
            [
             0.1111111111111111,
             "#46039f"
            ],
            [
             0.2222222222222222,
             "#7201a8"
            ],
            [
             0.3333333333333333,
             "#9c179e"
            ],
            [
             0.4444444444444444,
             "#bd3786"
            ],
            [
             0.5555555555555556,
             "#d8576b"
            ],
            [
             0.6666666666666666,
             "#ed7953"
            ],
            [
             0.7777777777777778,
             "#fb9f3a"
            ],
            [
             0.8888888888888888,
             "#fdca26"
            ],
            [
             1,
             "#f0f921"
            ]
           ]
          },
          "colorway": [
           "#636efa",
           "#EF553B",
           "#00cc96",
           "#ab63fa",
           "#FFA15A",
           "#19d3f3",
           "#FF6692",
           "#B6E880",
           "#FF97FF",
           "#FECB52"
          ],
          "font": {
           "color": "#2a3f5f"
          },
          "geo": {
           "bgcolor": "white",
           "lakecolor": "white",
           "landcolor": "#E5ECF6",
           "showlakes": true,
           "showland": true,
           "subunitcolor": "white"
          },
          "hoverlabel": {
           "align": "left"
          },
          "hovermode": "closest",
          "mapbox": {
           "style": "light"
          },
          "paper_bgcolor": "white",
          "plot_bgcolor": "#E5ECF6",
          "polar": {
           "angularaxis": {
            "gridcolor": "white",
            "linecolor": "white",
            "ticks": ""
           },
           "bgcolor": "#E5ECF6",
           "radialaxis": {
            "gridcolor": "white",
            "linecolor": "white",
            "ticks": ""
           }
          },
          "scene": {
           "xaxis": {
            "backgroundcolor": "#E5ECF6",
            "gridcolor": "white",
            "gridwidth": 2,
            "linecolor": "white",
            "showbackground": true,
            "ticks": "",
            "zerolinecolor": "white"
           },
           "yaxis": {
            "backgroundcolor": "#E5ECF6",
            "gridcolor": "white",
            "gridwidth": 2,
            "linecolor": "white",
            "showbackground": true,
            "ticks": "",
            "zerolinecolor": "white"
           },
           "zaxis": {
            "backgroundcolor": "#E5ECF6",
            "gridcolor": "white",
            "gridwidth": 2,
            "linecolor": "white",
            "showbackground": true,
            "ticks": "",
            "zerolinecolor": "white"
           }
          },
          "shapedefaults": {
           "line": {
            "color": "#2a3f5f"
           }
          },
          "ternary": {
           "aaxis": {
            "gridcolor": "white",
            "linecolor": "white",
            "ticks": ""
           },
           "baxis": {
            "gridcolor": "white",
            "linecolor": "white",
            "ticks": ""
           },
           "bgcolor": "#E5ECF6",
           "caxis": {
            "gridcolor": "white",
            "linecolor": "white",
            "ticks": ""
           }
          },
          "title": {
           "x": 0.05
          },
          "xaxis": {
           "automargin": true,
           "gridcolor": "white",
           "linecolor": "white",
           "ticks": "",
           "title": {
            "standoff": 15
           },
           "zerolinecolor": "white",
           "zerolinewidth": 2
          },
          "yaxis": {
           "automargin": true,
           "gridcolor": "white",
           "linecolor": "white",
           "ticks": "",
           "title": {
            "standoff": 15
           },
           "zerolinecolor": "white",
           "zerolinewidth": 2
          }
         }
        },
        "title": {
         "font": {
          "size": 22
         },
         "text": "Sales Distribution by Payment Method"
        }
       }
      }
     },
     "metadata": {},
     "output_type": "display_data"
    }
   ],
   "source": [
    "\n",
    "fig = px.pie(\n",
    "    sales_by_payment,\n",
    "    names='Payment Method',\n",
    "    values='Order Total',\n",
    "color_discrete_sequence=px.colors.sequential.Magma,\n",
    "    title='Sales Distribution by Payment Method'\n",
    ")\n",
    "\n",
    "fig.update_traces(textposition='inside', textinfo='percent+label')\n",
    "\n",
    "fig.update_layout(\n",
    "    font=dict(size=16),\n",
    "    title_font=dict(size=22),\n",
    "    plot_bgcolor='white',\n",
    "    showlegend=True\n",
    ")\n",
    "\n",
    "fig.show()\n"
   ]
  },
  {
   "cell_type": "code",
   "execution_count": 119,
   "metadata": {
    "execution": {
     "iopub.execute_input": "2024-12-10T13:08:55.229399Z",
     "iopub.status.busy": "2024-12-10T13:08:55.228955Z",
     "iopub.status.idle": "2024-12-10T13:08:55.235594Z",
     "shell.execute_reply": "2024-12-10T13:08:55.234471Z",
     "shell.execute_reply.started": "2024-12-10T13:08:55.229352Z"
    },
    "trusted": true
   },
   "outputs": [
    {
     "data": {
      "text/plain": [
       "Customer Feedback\n",
       "Positive    42\n",
       "Neutral     25\n",
       "Negative    13\n",
       "Name: count, dtype: int64"
      ]
     },
     "execution_count": 119,
     "metadata": {},
     "output_type": "execute_result"
    }
   ],
   "source": [
    "feedback_counts = data['Customer Feedback'].value_counts()\n",
    "feedback_counts"
   ]
  },
  {
   "cell_type": "code",
   "execution_count": null,
   "metadata": {
    "execution": {
     "iopub.execute_input": "2024-12-10T13:08:55.237282Z",
     "iopub.status.busy": "2024-12-10T13:08:55.23697Z",
     "iopub.status.idle": "2024-12-10T13:08:55.424184Z",
     "shell.execute_reply": "2024-12-10T13:08:55.423105Z",
     "shell.execute_reply.started": "2024-12-10T13:08:55.237251Z"
    },
    "trusted": true
   },
   "outputs": [
    {
     "data": {
      "application/vnd.plotly.v1+json": {
       "config": {
        "plotlyServerURL": "https://plot.ly"
       },
       "data": [
        {
         "hovertemplate": "Feedback=%{x}<br>Count=%{y}<br>color=%{marker.color}<extra></extra>",
         "legendgroup": "",
         "marker": {
          "color": {
           "bdata": "KhkN",
           "dtype": "i1"
          },
          "coloraxis": "coloraxis",
          "pattern": {
           "shape": ""
          }
         },
         "name": "",
         "orientation": "v",
         "showlegend": false,
         "textposition": "auto",
         "type": "bar",
         "x": [
          "Positive",
          "Neutral",
          "Negative"
         ],
         "xaxis": "x",
         "y": {
          "bdata": "KhkN",
          "dtype": "i1"
         },
         "yaxis": "y"
        }
       ],
       "layout": {
        "barmode": "relative",
        "coloraxis": {
         "colorbar": {
          "title": {
           "text": "color"
          }
         },
         "colorscale": [
          [
           0,
           "rgb(176, 242, 188)"
          ],
          [
           0.16666666666666666,
           "rgb(137, 232, 172)"
          ],
          [
           0.3333333333333333,
           "rgb(103, 219, 165)"
          ],
          [
           0.5,
           "rgb(76, 200, 163)"
          ],
          [
           0.6666666666666666,
           "rgb(56, 178, 163)"
          ],
          [
           0.8333333333333334,
           "rgb(44, 152, 160)"
          ],
          [
           1,
           "rgb(37, 125, 152)"
          ]
         ]
        },
        "font": {
         "size": 16
        },
        "legend": {
         "tracegroupgap": 0
        },
        "plot_bgcolor": "white",
        "template": {
         "data": {
          "bar": [
           {
            "error_x": {
             "color": "#2a3f5f"
            },
            "error_y": {
             "color": "#2a3f5f"
            },
            "marker": {
             "line": {
              "color": "#E5ECF6",
              "width": 0.5
             },
             "pattern": {
              "fillmode": "overlay",
              "size": 10,
              "solidity": 0.2
             }
            },
            "type": "bar"
           }
          ],
          "barpolar": [
           {
            "marker": {
             "line": {
              "color": "#E5ECF6",
              "width": 0.5
             },
             "pattern": {
              "fillmode": "overlay",
              "size": 10,
              "solidity": 0.2
             }
            },
            "type": "barpolar"
           }
          ],
          "carpet": [
           {
            "aaxis": {
             "endlinecolor": "#2a3f5f",
             "gridcolor": "white",
             "linecolor": "white",
             "minorgridcolor": "white",
             "startlinecolor": "#2a3f5f"
            },
            "baxis": {
             "endlinecolor": "#2a3f5f",
             "gridcolor": "white",
             "linecolor": "white",
             "minorgridcolor": "white",
             "startlinecolor": "#2a3f5f"
            },
            "type": "carpet"
           }
          ],
          "choropleth": [
           {
            "colorbar": {
             "outlinewidth": 0,
             "ticks": ""
            },
            "type": "choropleth"
           }
          ],
          "contour": [
           {
            "colorbar": {
             "outlinewidth": 0,
             "ticks": ""
            },
            "colorscale": [
             [
              0,
              "#0d0887"
             ],
             [
              0.1111111111111111,
              "#46039f"
             ],
             [
              0.2222222222222222,
              "#7201a8"
             ],
             [
              0.3333333333333333,
              "#9c179e"
             ],
             [
              0.4444444444444444,
              "#bd3786"
             ],
             [
              0.5555555555555556,
              "#d8576b"
             ],
             [
              0.6666666666666666,
              "#ed7953"
             ],
             [
              0.7777777777777778,
              "#fb9f3a"
             ],
             [
              0.8888888888888888,
              "#fdca26"
             ],
             [
              1,
              "#f0f921"
             ]
            ],
            "type": "contour"
           }
          ],
          "contourcarpet": [
           {
            "colorbar": {
             "outlinewidth": 0,
             "ticks": ""
            },
            "type": "contourcarpet"
           }
          ],
          "heatmap": [
           {
            "colorbar": {
             "outlinewidth": 0,
             "ticks": ""
            },
            "colorscale": [
             [
              0,
              "#0d0887"
             ],
             [
              0.1111111111111111,
              "#46039f"
             ],
             [
              0.2222222222222222,
              "#7201a8"
             ],
             [
              0.3333333333333333,
              "#9c179e"
             ],
             [
              0.4444444444444444,
              "#bd3786"
             ],
             [
              0.5555555555555556,
              "#d8576b"
             ],
             [
              0.6666666666666666,
              "#ed7953"
             ],
             [
              0.7777777777777778,
              "#fb9f3a"
             ],
             [
              0.8888888888888888,
              "#fdca26"
             ],
             [
              1,
              "#f0f921"
             ]
            ],
            "type": "heatmap"
           }
          ],
          "histogram": [
           {
            "marker": {
             "pattern": {
              "fillmode": "overlay",
              "size": 10,
              "solidity": 0.2
             }
            },
            "type": "histogram"
           }
          ],
          "histogram2d": [
           {
            "colorbar": {
             "outlinewidth": 0,
             "ticks": ""
            },
            "colorscale": [
             [
              0,
              "#0d0887"
             ],
             [
              0.1111111111111111,
              "#46039f"
             ],
             [
              0.2222222222222222,
              "#7201a8"
             ],
             [
              0.3333333333333333,
              "#9c179e"
             ],
             [
              0.4444444444444444,
              "#bd3786"
             ],
             [
              0.5555555555555556,
              "#d8576b"
             ],
             [
              0.6666666666666666,
              "#ed7953"
             ],
             [
              0.7777777777777778,
              "#fb9f3a"
             ],
             [
              0.8888888888888888,
              "#fdca26"
             ],
             [
              1,
              "#f0f921"
             ]
            ],
            "type": "histogram2d"
           }
          ],
          "histogram2dcontour": [
           {
            "colorbar": {
             "outlinewidth": 0,
             "ticks": ""
            },
            "colorscale": [
             [
              0,
              "#0d0887"
             ],
             [
              0.1111111111111111,
              "#46039f"
             ],
             [
              0.2222222222222222,
              "#7201a8"
             ],
             [
              0.3333333333333333,
              "#9c179e"
             ],
             [
              0.4444444444444444,
              "#bd3786"
             ],
             [
              0.5555555555555556,
              "#d8576b"
             ],
             [
              0.6666666666666666,
              "#ed7953"
             ],
             [
              0.7777777777777778,
              "#fb9f3a"
             ],
             [
              0.8888888888888888,
              "#fdca26"
             ],
             [
              1,
              "#f0f921"
             ]
            ],
            "type": "histogram2dcontour"
           }
          ],
          "mesh3d": [
           {
            "colorbar": {
             "outlinewidth": 0,
             "ticks": ""
            },
            "type": "mesh3d"
           }
          ],
          "parcoords": [
           {
            "line": {
             "colorbar": {
              "outlinewidth": 0,
              "ticks": ""
             }
            },
            "type": "parcoords"
           }
          ],
          "pie": [
           {
            "automargin": true,
            "type": "pie"
           }
          ],
          "scatter": [
           {
            "fillpattern": {
             "fillmode": "overlay",
             "size": 10,
             "solidity": 0.2
            },
            "type": "scatter"
           }
          ],
          "scatter3d": [
           {
            "line": {
             "colorbar": {
              "outlinewidth": 0,
              "ticks": ""
             }
            },
            "marker": {
             "colorbar": {
              "outlinewidth": 0,
              "ticks": ""
             }
            },
            "type": "scatter3d"
           }
          ],
          "scattercarpet": [
           {
            "marker": {
             "colorbar": {
              "outlinewidth": 0,
              "ticks": ""
             }
            },
            "type": "scattercarpet"
           }
          ],
          "scattergeo": [
           {
            "marker": {
             "colorbar": {
              "outlinewidth": 0,
              "ticks": ""
             }
            },
            "type": "scattergeo"
           }
          ],
          "scattergl": [
           {
            "marker": {
             "colorbar": {
              "outlinewidth": 0,
              "ticks": ""
             }
            },
            "type": "scattergl"
           }
          ],
          "scattermap": [
           {
            "marker": {
             "colorbar": {
              "outlinewidth": 0,
              "ticks": ""
             }
            },
            "type": "scattermap"
           }
          ],
          "scattermapbox": [
           {
            "marker": {
             "colorbar": {
              "outlinewidth": 0,
              "ticks": ""
             }
            },
            "type": "scattermapbox"
           }
          ],
          "scatterpolar": [
           {
            "marker": {
             "colorbar": {
              "outlinewidth": 0,
              "ticks": ""
             }
            },
            "type": "scatterpolar"
           }
          ],
          "scatterpolargl": [
           {
            "marker": {
             "colorbar": {
              "outlinewidth": 0,
              "ticks": ""
             }
            },
            "type": "scatterpolargl"
           }
          ],
          "scatterternary": [
           {
            "marker": {
             "colorbar": {
              "outlinewidth": 0,
              "ticks": ""
             }
            },
            "type": "scatterternary"
           }
          ],
          "surface": [
           {
            "colorbar": {
             "outlinewidth": 0,
             "ticks": ""
            },
            "colorscale": [
             [
              0,
              "#0d0887"
             ],
             [
              0.1111111111111111,
              "#46039f"
             ],
             [
              0.2222222222222222,
              "#7201a8"
             ],
             [
              0.3333333333333333,
              "#9c179e"
             ],
             [
              0.4444444444444444,
              "#bd3786"
             ],
             [
              0.5555555555555556,
              "#d8576b"
             ],
             [
              0.6666666666666666,
              "#ed7953"
             ],
             [
              0.7777777777777778,
              "#fb9f3a"
             ],
             [
              0.8888888888888888,
              "#fdca26"
             ],
             [
              1,
              "#f0f921"
             ]
            ],
            "type": "surface"
           }
          ],
          "table": [
           {
            "cells": {
             "fill": {
              "color": "#EBF0F8"
             },
             "line": {
              "color": "white"
             }
            },
            "header": {
             "fill": {
              "color": "#C8D4E3"
             },
             "line": {
              "color": "white"
             }
            },
            "type": "table"
           }
          ]
         },
         "layout": {
          "annotationdefaults": {
           "arrowcolor": "#2a3f5f",
           "arrowhead": 0,
           "arrowwidth": 1
          },
          "autotypenumbers": "strict",
          "coloraxis": {
           "colorbar": {
            "outlinewidth": 0,
            "ticks": ""
           }
          },
          "colorscale": {
           "diverging": [
            [
             0,
             "#8e0152"
            ],
            [
             0.1,
             "#c51b7d"
            ],
            [
             0.2,
             "#de77ae"
            ],
            [
             0.3,
             "#f1b6da"
            ],
            [
             0.4,
             "#fde0ef"
            ],
            [
             0.5,
             "#f7f7f7"
            ],
            [
             0.6,
             "#e6f5d0"
            ],
            [
             0.7,
             "#b8e186"
            ],
            [
             0.8,
             "#7fbc41"
            ],
            [
             0.9,
             "#4d9221"
            ],
            [
             1,
             "#276419"
            ]
           ],
           "sequential": [
            [
             0,
             "#0d0887"
            ],
            [
             0.1111111111111111,
             "#46039f"
            ],
            [
             0.2222222222222222,
             "#7201a8"
            ],
            [
             0.3333333333333333,
             "#9c179e"
            ],
            [
             0.4444444444444444,
             "#bd3786"
            ],
            [
             0.5555555555555556,
             "#d8576b"
            ],
            [
             0.6666666666666666,
             "#ed7953"
            ],
            [
             0.7777777777777778,
             "#fb9f3a"
            ],
            [
             0.8888888888888888,
             "#fdca26"
            ],
            [
             1,
             "#f0f921"
            ]
           ],
           "sequentialminus": [
            [
             0,
             "#0d0887"
            ],
            [
             0.1111111111111111,
             "#46039f"
            ],
            [
             0.2222222222222222,
             "#7201a8"
            ],
            [
             0.3333333333333333,
             "#9c179e"
            ],
            [
             0.4444444444444444,
             "#bd3786"
            ],
            [
             0.5555555555555556,
             "#d8576b"
            ],
            [
             0.6666666666666666,
             "#ed7953"
            ],
            [
             0.7777777777777778,
             "#fb9f3a"
            ],
            [
             0.8888888888888888,
             "#fdca26"
            ],
            [
             1,
             "#f0f921"
            ]
           ]
          },
          "colorway": [
           "#636efa",
           "#EF553B",
           "#00cc96",
           "#ab63fa",
           "#FFA15A",
           "#19d3f3",
           "#FF6692",
           "#B6E880",
           "#FF97FF",
           "#FECB52"
          ],
          "font": {
           "color": "#2a3f5f"
          },
          "geo": {
           "bgcolor": "white",
           "lakecolor": "white",
           "landcolor": "#E5ECF6",
           "showlakes": true,
           "showland": true,
           "subunitcolor": "white"
          },
          "hoverlabel": {
           "align": "left"
          },
          "hovermode": "closest",
          "mapbox": {
           "style": "light"
          },
          "paper_bgcolor": "white",
          "plot_bgcolor": "#E5ECF6",
          "polar": {
           "angularaxis": {
            "gridcolor": "white",
            "linecolor": "white",
            "ticks": ""
           },
           "bgcolor": "#E5ECF6",
           "radialaxis": {
            "gridcolor": "white",
            "linecolor": "white",
            "ticks": ""
           }
          },
          "scene": {
           "xaxis": {
            "backgroundcolor": "#E5ECF6",
            "gridcolor": "white",
            "gridwidth": 2,
            "linecolor": "white",
            "showbackground": true,
            "ticks": "",
            "zerolinecolor": "white"
           },
           "yaxis": {
            "backgroundcolor": "#E5ECF6",
            "gridcolor": "white",
            "gridwidth": 2,
            "linecolor": "white",
            "showbackground": true,
            "ticks": "",
            "zerolinecolor": "white"
           },
           "zaxis": {
            "backgroundcolor": "#E5ECF6",
            "gridcolor": "white",
            "gridwidth": 2,
            "linecolor": "white",
            "showbackground": true,
            "ticks": "",
            "zerolinecolor": "white"
           }
          },
          "shapedefaults": {
           "line": {
            "color": "#2a3f5f"
           }
          },
          "ternary": {
           "aaxis": {
            "gridcolor": "white",
            "linecolor": "white",
            "ticks": ""
           },
           "baxis": {
            "gridcolor": "white",
            "linecolor": "white",
            "ticks": ""
           },
           "bgcolor": "#E5ECF6",
           "caxis": {
            "gridcolor": "white",
            "linecolor": "white",
            "ticks": ""
           }
          },
          "title": {
           "x": 0.05
          },
          "xaxis": {
           "automargin": true,
           "gridcolor": "white",
           "linecolor": "white",
           "ticks": "",
           "title": {
            "standoff": 15
           },
           "zerolinecolor": "white",
           "zerolinewidth": 2
          },
          "yaxis": {
           "automargin": true,
           "gridcolor": "white",
           "linecolor": "white",
           "ticks": "",
           "title": {
            "standoff": 15
           },
           "zerolinecolor": "white",
           "zerolinewidth": 2
          }
         }
        },
        "title": {
         "font": {
          "size": 22
         },
         "text": " Customer Feedback Distribution"
        },
        "xaxis": {
         "anchor": "y",
         "domain": [
          0,
          1
         ],
         "title": {
          "font": {
           "size": 18
          },
          "text": "Feedback"
         }
        },
        "yaxis": {
         "anchor": "x",
         "domain": [
          0,
          1
         ],
         "title": {
          "font": {
           "size": 18
          },
          "text": "Count"
         }
        }
       }
      }
     },
     "metadata": {},
     "output_type": "display_data"
    }
   ],
   "source": [
    "\n",
    "fig = px.bar(\n",
    "    x=feedback_counts.index,\n",
    "    y=feedback_counts.values,\n",
    "    labels={'x': 'Feedback', 'y': 'Count'},\n",
    "    title=' Customer Feedback Distribution',\n",
    "    color=feedback_counts.values,\n",
    "    color_continuous_scale='Tealgrn' \n",
    ")\n",
    "\n",
    "fig.update_layout(\n",
    "    plot_bgcolor='white',\n",
    "    font=dict(size=16),\n",
    "    title_font=dict(size=22),\n",
    "    xaxis_title_font=dict(size=18),\n",
    "    yaxis_title_font=dict(size=18)\n",
    ")\n",
    "\n",
    "fig.show()\n"
   ]
  },
  {
   "cell_type": "code",
   "execution_count": 128,
   "metadata": {
    "execution": {
     "iopub.execute_input": "2024-12-10T13:08:55.427326Z",
     "iopub.status.busy": "2024-12-10T13:08:55.426981Z",
     "iopub.status.idle": "2024-12-10T13:08:55.72391Z",
     "shell.execute_reply": "2024-12-10T13:08:55.722889Z",
     "shell.execute_reply.started": "2024-12-10T13:08:55.427292Z"
    },
    "trusted": true
   },
   "outputs": [
    {
     "data": {
      "application/vnd.plotly.v1+json": {
       "config": {
        "plotlyServerURL": "https://plot.ly"
       },
       "data": [
        {
         "autobinx": false,
         "histnorm": "probability density",
         "legendgroup": "Product Weight",
         "marker": {
          "color": "#3B9CFF"
         },
         "name": "Product Weight",
         "opacity": 0.7,
         "type": "histogram",
         "x": {
          "bdata": "AAAAAAAAOUAAAAAAAAA2QAAAAAAAADJAAAAAAAAAMEAAAAAAAAA7QAAAAAAAADhAAAAAAAAAPUAAAAAAAAA7QAAAAAAAADhAAAAAAAAANUAAAAAAAAA0QAAAAAAAADJAAAAAAAAAPEAAAAAAAAA6QAAAAAAAAD5AAAAAAAAAPEAAAAAAAABAQAAAAAAAAD1AAAAAAAAANUAAAAAAAAAzQAAAAAAAAEJAAAAAAAAAQUAAAAAAAABEQAAAAAAAAENAAAAAAACAQUAAAAAAAIBAQAAAAAAAADZAAAAAAAAANEAAAAAAAAA+QAAAAAAAADxAAAAAAAAARUAAAAAAAABEQAAAAAAAADlAAAAAAAAANkAAAAAAAAAyQAAAAAAAADBAAAAAAAAAO0AAAAAAAAA4QAAAAAAAAD1AAAAAAAAAO0AAAAAAAAA4QAAAAAAAADVAAAAAAAAANEAAAAAAAAAyQAAAAAAAADxAAAAAAAAAOkAAAAAAAAA+QAAAAAAAADxAAAAAAAAAQEAAAAAAAAA9QAAAAAAAADVAAAAAAAAAM0AAAAAAAABCQAAAAAAAAEFAAAAAAAAAREAAAAAAAABDQAAAAAAAgEFAAAAAAACAQEAAAAAAAAA2QAAAAAAAADRAAAAAAAAAPkAAAAAAAAA8QAAAAAAAAEVAAAAAAAAAREAAAAAAAAA7QAAAAAAAADlAAAAAAAAAMkAAAAAAAAAwQAAAAAAAgEBAAAAAAAAAPkAAAAAAAABBQAAAAAAAAEBAAAAAAAAAJEAAAAAAAAAiQAAAAAAAADlAAAAAAAAAN0AAAAAAAAA9QAAAAAAAADtAAAAAAAAANEAAAAAAAAAyQA==",
          "dtype": "f8"
         },
         "xaxis": "x",
         "xbins": {
          "end": 42,
          "size": 1,
          "start": 9
         },
         "yaxis": "y"
        },
        {
         "legendgroup": "Product Weight",
         "marker": {
          "color": "#3B9CFF"
         },
         "mode": "lines",
         "name": "Product Weight",
         "showlegend": false,
         "type": "scatter",
         "x": [
          9,
          9.066,
          9.132,
          9.198,
          9.264,
          9.33,
          9.396,
          9.462,
          9.528,
          9.594,
          9.66,
          9.725999999999999,
          9.792,
          9.858,
          9.924,
          9.99,
          10.056000000000001,
          10.122,
          10.188,
          10.254,
          10.32,
          10.386,
          10.452,
          10.518,
          10.584,
          10.65,
          10.716,
          10.782,
          10.848,
          10.914,
          10.98,
          11.046,
          11.112,
          11.178,
          11.244,
          11.31,
          11.376,
          11.442,
          11.508,
          11.574,
          11.64,
          11.706,
          11.772,
          11.838000000000001,
          11.904,
          11.97,
          12.036,
          12.102,
          12.168,
          12.234,
          12.3,
          12.366,
          12.432,
          12.498000000000001,
          12.564,
          12.629999999999999,
          12.696,
          12.762,
          12.828,
          12.894,
          12.96,
          13.026,
          13.091999999999999,
          13.158000000000001,
          13.224,
          13.29,
          13.356,
          13.422,
          13.488,
          13.554,
          13.620000000000001,
          13.686,
          13.751999999999999,
          13.818,
          13.884,
          13.95,
          14.016,
          14.082,
          14.148,
          14.214,
          14.280000000000001,
          14.346,
          14.411999999999999,
          14.478,
          14.544,
          14.61,
          14.676,
          14.742,
          14.808,
          14.873999999999999,
          14.940000000000001,
          15.006,
          15.072,
          15.138,
          15.204,
          15.27,
          15.336,
          15.402000000000001,
          15.468,
          15.533999999999999,
          15.6,
          15.666,
          15.732,
          15.798,
          15.864,
          15.93,
          15.996,
          16.062,
          16.128,
          16.194,
          16.259999999999998,
          16.326,
          16.392,
          16.458,
          16.524,
          16.59,
          16.656,
          16.722,
          16.788,
          16.854,
          16.92,
          16.986,
          17.052,
          17.118000000000002,
          17.183999999999997,
          17.25,
          17.316000000000003,
          17.381999999999998,
          17.448,
          17.514,
          17.58,
          17.646,
          17.712,
          17.778,
          17.844,
          17.91,
          17.976,
          18.042,
          18.108,
          18.174,
          18.240000000000002,
          18.305999999999997,
          18.372,
          18.438000000000002,
          18.503999999999998,
          18.57,
          18.636,
          18.701999999999998,
          18.768,
          18.834,
          18.9,
          18.966,
          19.032,
          19.098,
          19.164,
          19.23,
          19.296,
          19.362000000000002,
          19.428,
          19.494,
          19.560000000000002,
          19.625999999999998,
          19.692,
          19.758,
          19.823999999999998,
          19.89,
          19.956,
          20.022,
          20.088,
          20.154,
          20.22,
          20.286,
          20.352,
          20.418,
          20.484,
          20.55,
          20.616,
          20.682000000000002,
          20.747999999999998,
          20.814,
          20.880000000000003,
          20.945999999999998,
          21.012,
          21.078,
          21.144,
          21.21,
          21.276,
          21.342,
          21.408,
          21.474,
          21.54,
          21.606,
          21.672,
          21.738,
          21.804000000000002,
          21.869999999999997,
          21.936,
          22.002000000000002,
          22.067999999999998,
          22.134,
          22.2,
          22.266,
          22.332,
          22.398,
          22.464,
          22.53,
          22.596,
          22.662,
          22.728,
          22.794,
          22.86,
          22.926000000000002,
          22.992,
          23.058,
          23.124000000000002,
          23.189999999999998,
          23.256,
          23.322,
          23.387999999999998,
          23.454,
          23.52,
          23.586,
          23.652,
          23.718,
          23.784,
          23.85,
          23.916,
          23.982,
          24.048000000000002,
          24.114,
          24.18,
          24.246000000000002,
          24.311999999999998,
          24.378,
          24.444000000000003,
          24.509999999999998,
          24.576,
          24.642,
          24.708,
          24.774,
          24.84,
          24.906,
          24.972,
          25.038,
          25.104,
          25.17,
          25.236,
          25.302,
          25.368,
          25.434,
          25.5,
          25.566,
          25.632,
          25.698,
          25.764,
          25.83,
          25.896,
          25.962,
          26.028,
          26.094,
          26.16,
          26.226,
          26.292,
          26.358,
          26.424,
          26.49,
          26.556,
          26.622,
          26.688,
          26.754,
          26.82,
          26.886,
          26.952,
          27.018,
          27.084,
          27.15,
          27.216,
          27.282,
          27.348,
          27.414,
          27.48,
          27.546,
          27.612,
          27.678,
          27.744,
          27.81,
          27.876,
          27.942,
          28.008,
          28.074,
          28.14,
          28.206,
          28.272,
          28.338,
          28.404,
          28.47,
          28.536,
          28.602,
          28.668,
          28.734,
          28.8,
          28.866,
          28.932,
          28.998,
          29.064,
          29.13,
          29.196,
          29.262,
          29.328,
          29.394,
          29.46,
          29.526,
          29.592,
          29.658,
          29.724,
          29.79,
          29.856,
          29.922,
          29.988,
          30.054,
          30.12,
          30.186,
          30.252,
          30.318,
          30.384,
          30.45,
          30.516,
          30.582,
          30.648,
          30.714,
          30.78,
          30.846,
          30.912,
          30.978,
          31.044,
          31.11,
          31.176,
          31.242,
          31.308,
          31.374,
          31.44,
          31.506,
          31.572,
          31.638,
          31.704,
          31.77,
          31.836,
          31.902,
          31.968,
          32.034,
          32.1,
          32.166,
          32.232,
          32.298,
          32.364000000000004,
          32.43,
          32.495999999999995,
          32.562,
          32.628,
          32.694,
          32.760000000000005,
          32.826,
          32.891999999999996,
          32.958,
          33.024,
          33.09,
          33.156,
          33.222,
          33.288,
          33.354,
          33.42,
          33.486000000000004,
          33.552,
          33.617999999999995,
          33.684,
          33.75,
          33.816,
          33.882000000000005,
          33.948,
          34.013999999999996,
          34.08,
          34.146,
          34.212,
          34.278,
          34.344,
          34.41,
          34.476,
          34.542,
          34.608000000000004,
          34.674,
          34.739999999999995,
          34.806,
          34.872,
          34.938,
          35.004000000000005,
          35.07,
          35.135999999999996,
          35.202,
          35.268,
          35.334,
          35.4,
          35.466,
          35.532,
          35.598,
          35.664,
          35.730000000000004,
          35.796,
          35.861999999999995,
          35.928,
          35.994,
          36.06,
          36.126000000000005,
          36.192,
          36.257999999999996,
          36.324,
          36.39,
          36.456,
          36.522,
          36.588,
          36.653999999999996,
          36.72,
          36.786,
          36.852000000000004,
          36.918,
          36.984,
          37.05,
          37.116,
          37.182,
          37.248000000000005,
          37.314,
          37.379999999999995,
          37.446,
          37.512,
          37.578,
          37.644,
          37.71,
          37.775999999999996,
          37.842,
          37.908,
          37.974000000000004,
          38.04,
          38.106,
          38.172,
          38.238,
          38.304,
          38.370000000000005,
          38.436,
          38.501999999999995,
          38.568,
          38.634,
          38.7,
          38.766,
          38.832,
          38.897999999999996,
          38.964,
          39.03,
          39.096000000000004,
          39.162,
          39.228,
          39.294,
          39.36,
          39.426,
          39.492000000000004,
          39.558,
          39.623999999999995,
          39.69,
          39.756,
          39.822,
          39.888000000000005,
          39.954,
          40.019999999999996,
          40.086,
          40.152,
          40.218,
          40.284,
          40.35,
          40.416,
          40.482,
          40.548,
          40.614000000000004,
          40.68,
          40.745999999999995,
          40.812,
          40.878,
          40.944,
          41.01,
          41.076,
          41.142,
          41.208,
          41.274,
          41.34,
          41.406,
          41.472,
          41.538,
          41.604,
          41.67,
          41.736,
          41.802,
          41.868,
          41.934
         ],
         "xaxis": "x",
         "y": {
          "bdata": "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",
          "dtype": "f8"
         },
         "yaxis": "y"
        }
       ],
       "layout": {
        "barmode": "overlay",
        "font": {
         "size": 16
        },
        "hovermode": "closest",
        "legend": {
         "traceorder": "reversed"
        },
        "plot_bgcolor": "white",
        "template": {
         "data": {
          "bar": [
           {
            "error_x": {
             "color": "#2a3f5f"
            },
            "error_y": {
             "color": "#2a3f5f"
            },
            "marker": {
             "line": {
              "color": "#E5ECF6",
              "width": 0.5
             },
             "pattern": {
              "fillmode": "overlay",
              "size": 10,
              "solidity": 0.2
             }
            },
            "type": "bar"
           }
          ],
          "barpolar": [
           {
            "marker": {
             "line": {
              "color": "#E5ECF6",
              "width": 0.5
             },
             "pattern": {
              "fillmode": "overlay",
              "size": 10,
              "solidity": 0.2
             }
            },
            "type": "barpolar"
           }
          ],
          "carpet": [
           {
            "aaxis": {
             "endlinecolor": "#2a3f5f",
             "gridcolor": "white",
             "linecolor": "white",
             "minorgridcolor": "white",
             "startlinecolor": "#2a3f5f"
            },
            "baxis": {
             "endlinecolor": "#2a3f5f",
             "gridcolor": "white",
             "linecolor": "white",
             "minorgridcolor": "white",
             "startlinecolor": "#2a3f5f"
            },
            "type": "carpet"
           }
          ],
          "choropleth": [
           {
            "colorbar": {
             "outlinewidth": 0,
             "ticks": ""
            },
            "type": "choropleth"
           }
          ],
          "contour": [
           {
            "colorbar": {
             "outlinewidth": 0,
             "ticks": ""
            },
            "colorscale": [
             [
              0,
              "#0d0887"
             ],
             [
              0.1111111111111111,
              "#46039f"
             ],
             [
              0.2222222222222222,
              "#7201a8"
             ],
             [
              0.3333333333333333,
              "#9c179e"
             ],
             [
              0.4444444444444444,
              "#bd3786"
             ],
             [
              0.5555555555555556,
              "#d8576b"
             ],
             [
              0.6666666666666666,
              "#ed7953"
             ],
             [
              0.7777777777777778,
              "#fb9f3a"
             ],
             [
              0.8888888888888888,
              "#fdca26"
             ],
             [
              1,
              "#f0f921"
             ]
            ],
            "type": "contour"
           }
          ],
          "contourcarpet": [
           {
            "colorbar": {
             "outlinewidth": 0,
             "ticks": ""
            },
            "type": "contourcarpet"
           }
          ],
          "heatmap": [
           {
            "colorbar": {
             "outlinewidth": 0,
             "ticks": ""
            },
            "colorscale": [
             [
              0,
              "#0d0887"
             ],
             [
              0.1111111111111111,
              "#46039f"
             ],
             [
              0.2222222222222222,
              "#7201a8"
             ],
             [
              0.3333333333333333,
              "#9c179e"
             ],
             [
              0.4444444444444444,
              "#bd3786"
             ],
             [
              0.5555555555555556,
              "#d8576b"
             ],
             [
              0.6666666666666666,
              "#ed7953"
             ],
             [
              0.7777777777777778,
              "#fb9f3a"
             ],
             [
              0.8888888888888888,
              "#fdca26"
             ],
             [
              1,
              "#f0f921"
             ]
            ],
            "type": "heatmap"
           }
          ],
          "histogram": [
           {
            "marker": {
             "pattern": {
              "fillmode": "overlay",
              "size": 10,
              "solidity": 0.2
             }
            },
            "type": "histogram"
           }
          ],
          "histogram2d": [
           {
            "colorbar": {
             "outlinewidth": 0,
             "ticks": ""
            },
            "colorscale": [
             [
              0,
              "#0d0887"
             ],
             [
              0.1111111111111111,
              "#46039f"
             ],
             [
              0.2222222222222222,
              "#7201a8"
             ],
             [
              0.3333333333333333,
              "#9c179e"
             ],
             [
              0.4444444444444444,
              "#bd3786"
             ],
             [
              0.5555555555555556,
              "#d8576b"
             ],
             [
              0.6666666666666666,
              "#ed7953"
             ],
             [
              0.7777777777777778,
              "#fb9f3a"
             ],
             [
              0.8888888888888888,
              "#fdca26"
             ],
             [
              1,
              "#f0f921"
             ]
            ],
            "type": "histogram2d"
           }
          ],
          "histogram2dcontour": [
           {
            "colorbar": {
             "outlinewidth": 0,
             "ticks": ""
            },
            "colorscale": [
             [
              0,
              "#0d0887"
             ],
             [
              0.1111111111111111,
              "#46039f"
             ],
             [
              0.2222222222222222,
              "#7201a8"
             ],
             [
              0.3333333333333333,
              "#9c179e"
             ],
             [
              0.4444444444444444,
              "#bd3786"
             ],
             [
              0.5555555555555556,
              "#d8576b"
             ],
             [
              0.6666666666666666,
              "#ed7953"
             ],
             [
              0.7777777777777778,
              "#fb9f3a"
             ],
             [
              0.8888888888888888,
              "#fdca26"
             ],
             [
              1,
              "#f0f921"
             ]
            ],
            "type": "histogram2dcontour"
           }
          ],
          "mesh3d": [
           {
            "colorbar": {
             "outlinewidth": 0,
             "ticks": ""
            },
            "type": "mesh3d"
           }
          ],
          "parcoords": [
           {
            "line": {
             "colorbar": {
              "outlinewidth": 0,
              "ticks": ""
             }
            },
            "type": "parcoords"
           }
          ],
          "pie": [
           {
            "automargin": true,
            "type": "pie"
           }
          ],
          "scatter": [
           {
            "fillpattern": {
             "fillmode": "overlay",
             "size": 10,
             "solidity": 0.2
            },
            "type": "scatter"
           }
          ],
          "scatter3d": [
           {
            "line": {
             "colorbar": {
              "outlinewidth": 0,
              "ticks": ""
             }
            },
            "marker": {
             "colorbar": {
              "outlinewidth": 0,
              "ticks": ""
             }
            },
            "type": "scatter3d"
           }
          ],
          "scattercarpet": [
           {
            "marker": {
             "colorbar": {
              "outlinewidth": 0,
              "ticks": ""
             }
            },
            "type": "scattercarpet"
           }
          ],
          "scattergeo": [
           {
            "marker": {
             "colorbar": {
              "outlinewidth": 0,
              "ticks": ""
             }
            },
            "type": "scattergeo"
           }
          ],
          "scattergl": [
           {
            "marker": {
             "colorbar": {
              "outlinewidth": 0,
              "ticks": ""
             }
            },
            "type": "scattergl"
           }
          ],
          "scattermap": [
           {
            "marker": {
             "colorbar": {
              "outlinewidth": 0,
              "ticks": ""
             }
            },
            "type": "scattermap"
           }
          ],
          "scattermapbox": [
           {
            "marker": {
             "colorbar": {
              "outlinewidth": 0,
              "ticks": ""
             }
            },
            "type": "scattermapbox"
           }
          ],
          "scatterpolar": [
           {
            "marker": {
             "colorbar": {
              "outlinewidth": 0,
              "ticks": ""
             }
            },
            "type": "scatterpolar"
           }
          ],
          "scatterpolargl": [
           {
            "marker": {
             "colorbar": {
              "outlinewidth": 0,
              "ticks": ""
             }
            },
            "type": "scatterpolargl"
           }
          ],
          "scatterternary": [
           {
            "marker": {
             "colorbar": {
              "outlinewidth": 0,
              "ticks": ""
             }
            },
            "type": "scatterternary"
           }
          ],
          "surface": [
           {
            "colorbar": {
             "outlinewidth": 0,
             "ticks": ""
            },
            "colorscale": [
             [
              0,
              "#0d0887"
             ],
             [
              0.1111111111111111,
              "#46039f"
             ],
             [
              0.2222222222222222,
              "#7201a8"
             ],
             [
              0.3333333333333333,
              "#9c179e"
             ],
             [
              0.4444444444444444,
              "#bd3786"
             ],
             [
              0.5555555555555556,
              "#d8576b"
             ],
             [
              0.6666666666666666,
              "#ed7953"
             ],
             [
              0.7777777777777778,
              "#fb9f3a"
             ],
             [
              0.8888888888888888,
              "#fdca26"
             ],
             [
              1,
              "#f0f921"
             ]
            ],
            "type": "surface"
           }
          ],
          "table": [
           {
            "cells": {
             "fill": {
              "color": "#EBF0F8"
             },
             "line": {
              "color": "white"
             }
            },
            "header": {
             "fill": {
              "color": "#C8D4E3"
             },
             "line": {
              "color": "white"
             }
            },
            "type": "table"
           }
          ]
         },
         "layout": {
          "annotationdefaults": {
           "arrowcolor": "#2a3f5f",
           "arrowhead": 0,
           "arrowwidth": 1
          },
          "autotypenumbers": "strict",
          "coloraxis": {
           "colorbar": {
            "outlinewidth": 0,
            "ticks": ""
           }
          },
          "colorscale": {
           "diverging": [
            [
             0,
             "#8e0152"
            ],
            [
             0.1,
             "#c51b7d"
            ],
            [
             0.2,
             "#de77ae"
            ],
            [
             0.3,
             "#f1b6da"
            ],
            [
             0.4,
             "#fde0ef"
            ],
            [
             0.5,
             "#f7f7f7"
            ],
            [
             0.6,
             "#e6f5d0"
            ],
            [
             0.7,
             "#b8e186"
            ],
            [
             0.8,
             "#7fbc41"
            ],
            [
             0.9,
             "#4d9221"
            ],
            [
             1,
             "#276419"
            ]
           ],
           "sequential": [
            [
             0,
             "#0d0887"
            ],
            [
             0.1111111111111111,
             "#46039f"
            ],
            [
             0.2222222222222222,
             "#7201a8"
            ],
            [
             0.3333333333333333,
             "#9c179e"
            ],
            [
             0.4444444444444444,
             "#bd3786"
            ],
            [
             0.5555555555555556,
             "#d8576b"
            ],
            [
             0.6666666666666666,
             "#ed7953"
            ],
            [
             0.7777777777777778,
             "#fb9f3a"
            ],
            [
             0.8888888888888888,
             "#fdca26"
            ],
            [
             1,
             "#f0f921"
            ]
           ],
           "sequentialminus": [
            [
             0,
             "#0d0887"
            ],
            [
             0.1111111111111111,
             "#46039f"
            ],
            [
             0.2222222222222222,
             "#7201a8"
            ],
            [
             0.3333333333333333,
             "#9c179e"
            ],
            [
             0.4444444444444444,
             "#bd3786"
            ],
            [
             0.5555555555555556,
             "#d8576b"
            ],
            [
             0.6666666666666666,
             "#ed7953"
            ],
            [
             0.7777777777777778,
             "#fb9f3a"
            ],
            [
             0.8888888888888888,
             "#fdca26"
            ],
            [
             1,
             "#f0f921"
            ]
           ]
          },
          "colorway": [
           "#636efa",
           "#EF553B",
           "#00cc96",
           "#ab63fa",
           "#FFA15A",
           "#19d3f3",
           "#FF6692",
           "#B6E880",
           "#FF97FF",
           "#FECB52"
          ],
          "font": {
           "color": "#2a3f5f"
          },
          "geo": {
           "bgcolor": "white",
           "lakecolor": "white",
           "landcolor": "#E5ECF6",
           "showlakes": true,
           "showland": true,
           "subunitcolor": "white"
          },
          "hoverlabel": {
           "align": "left"
          },
          "hovermode": "closest",
          "mapbox": {
           "style": "light"
          },
          "paper_bgcolor": "white",
          "plot_bgcolor": "#E5ECF6",
          "polar": {
           "angularaxis": {
            "gridcolor": "white",
            "linecolor": "white",
            "ticks": ""
           },
           "bgcolor": "#E5ECF6",
           "radialaxis": {
            "gridcolor": "white",
            "linecolor": "white",
            "ticks": ""
           }
          },
          "scene": {
           "xaxis": {
            "backgroundcolor": "#E5ECF6",
            "gridcolor": "white",
            "gridwidth": 2,
            "linecolor": "white",
            "showbackground": true,
            "ticks": "",
            "zerolinecolor": "white"
           },
           "yaxis": {
            "backgroundcolor": "#E5ECF6",
            "gridcolor": "white",
            "gridwidth": 2,
            "linecolor": "white",
            "showbackground": true,
            "ticks": "",
            "zerolinecolor": "white"
           },
           "zaxis": {
            "backgroundcolor": "#E5ECF6",
            "gridcolor": "white",
            "gridwidth": 2,
            "linecolor": "white",
            "showbackground": true,
            "ticks": "",
            "zerolinecolor": "white"
           }
          },
          "shapedefaults": {
           "line": {
            "color": "#2a3f5f"
           }
          },
          "ternary": {
           "aaxis": {
            "gridcolor": "white",
            "linecolor": "white",
            "ticks": ""
           },
           "baxis": {
            "gridcolor": "white",
            "linecolor": "white",
            "ticks": ""
           },
           "bgcolor": "#E5ECF6",
           "caxis": {
            "gridcolor": "white",
            "linecolor": "white",
            "ticks": ""
           }
          },
          "title": {
           "x": 0.05
          },
          "xaxis": {
           "automargin": true,
           "gridcolor": "white",
           "linecolor": "white",
           "ticks": "",
           "title": {
            "standoff": 15
           },
           "zerolinecolor": "white",
           "zerolinewidth": 2
          },
          "yaxis": {
           "automargin": true,
           "gridcolor": "white",
           "linecolor": "white",
           "ticks": "",
           "title": {
            "standoff": 15
           },
           "zerolinecolor": "white",
           "zerolinewidth": 2
          }
         }
        },
        "title": {
         "text": " Distribution of Product Weights"
        },
        "xaxis": {
         "anchor": "y2",
         "domain": [
          0,
          1
         ],
         "title": {
          "text": "Weight (kg)"
         },
         "zeroline": false
        },
        "yaxis": {
         "anchor": "free",
         "domain": [
          0,
          1
         ],
         "position": 0,
         "title": {
          "text": "Density"
         }
        }
       }
      }
     },
     "metadata": {},
     "output_type": "display_data"
    }
   ],
   "source": [
    "\n",
    "fig = ff.create_distplot(\n",
    "    [data['Product Weight']],  \n",
    "    group_labels=['Product Weight'],   \n",
    "    colors=['#3B9CFF'],               \n",
    "    show_hist=True,                     \n",
    "    show_rug=False                     \n",
    ")\n",
    "\n",
    "fig.update_layout(\n",
    "    title=' Distribution of Product Weights',\n",
    "    xaxis_title='Weight (kg)',\n",
    "    yaxis_title='Density',\n",
    "    font=dict(size=16),\n",
    "    plot_bgcolor='white'\n",
    ")\n",
    "\n",
    "fig.show()\n"
   ]
  },
  {
   "cell_type": "code",
   "execution_count": null,
   "metadata": {
    "execution": {
     "iopub.execute_input": "2024-12-10T13:08:55.725896Z",
     "iopub.status.busy": "2024-12-10T13:08:55.725387Z",
     "iopub.status.idle": "2024-12-10T13:08:56.037922Z",
     "shell.execute_reply": "2024-12-10T13:08:56.03679Z",
     "shell.execute_reply.started": "2024-12-10T13:08:55.725849Z"
    },
    "jupyter": {
     "source_hidden": true
    },
    "trusted": true
   },
   "outputs": [
    {
     "data": {
      "application/vnd.plotly.v1+json": {
       "config": {
        "plotlyServerURL": "https://plot.ly"
       },
       "data": [
        {
         "autobinx": false,
         "histnorm": "probability density",
         "legendgroup": "Product Price",
         "marker": {
          "color": "#3BFF5F"
         },
         "name": "Product Price",
         "opacity": 0.7,
         "type": "histogram",
         "x": {
          "bdata": "AAAAAADAkkAAAAAAAHCXQAAAAAAAIJxAAAAAAABooEAAAAAAAFCUQAAAAAAAAJlAAAAAAAAwoUAAAAAAAIijQAAAAAAAMJFAAAAAAADglUAAAAAAAJCaQAAAAAAAQJ9AAAAAAABwl0AAAAAAACCcQAAAAAAA+KFAAAAAAABQpEAAAAAAAFCUQAAAAAAAAJlAAAAAAACwnUAAAAAAADChQAAAAAAAQJ9AAAAAAAD4oUAAAAAAAHCnQAAAAAAAWKtAAAAAAABAn0AAAAAAAIijQAAAAAAAkJpAAAAAAABooEAAAAAAAHCXQAAAAAAAIJxAAAAAAAAAqUAAAAAAAOisQAAAAAAAwJJAAAAAAABwl0AAAAAAACCcQAAAAAAAaKBAAAAAAABQlEAAAAAAAACZQAAAAAAAMKFAAAAAAACIo0AAAAAAADCRQAAAAAAA4JVAAAAAAACQmkAAAAAAAECfQAAAAAAAcJdAAAAAAAAgnEAAAAAAAPihQAAAAAAAUKRAAAAAAABQlEAAAAAAAACZQAAAAAAAsJ1AAAAAAAAwoUAAAAAAAECfQAAAAAAA+KFAAAAAAABwp0AAAAAAAFirQAAAAAAAQJ9AAAAAAACIo0AAAAAAAJCaQAAAAAAAaKBAAAAAAABwl0AAAAAAACCcQAAAAAAAAKlAAAAAAADorEAAAAAAAMCSQAAAAAAAcJdAAAAAAADgpUAAAAAAAACpQAAAAAAAQJ9AAAAAAADAokAAAAAAAKimQAAAAAAAyKlAAAAAAADAYkAAAAAAAABpQAAAAAAAAHlAAAAAAADAgkAAAAAAACCcQAAAAAAAwKJAAAAAAABooEAAAAAAAFCkQA==",
          "dtype": "f8"
         },
         "xaxis": "x",
         "xbins": {
          "end": 3700,
          "size": 1,
          "start": 150
         },
         "yaxis": "y"
        },
        {
         "legendgroup": "Product Price",
         "marker": {
          "color": "#3BFF5F"
         },
         "mode": "lines",
         "name": "Product Price",
         "showlegend": false,
         "type": "scatter",
         "x": [
          150,
          157.1,
          164.2,
          171.3,
          178.4,
          185.5,
          192.6,
          199.7,
          206.8,
          213.9,
          221,
          228.1,
          235.2,
          242.3,
          249.4,
          256.5,
          263.6,
          270.7,
          277.8,
          284.9,
          292,
          299.1,
          306.2,
          313.3,
          320.4,
          327.5,
          334.6,
          341.7,
          348.8,
          355.9,
          363,
          370.1,
          377.2,
          384.3,
          391.4,
          398.5,
          405.6,
          412.7,
          419.8,
          426.9,
          434,
          441.1,
          448.2,
          455.3,
          462.4,
          469.5,
          476.6,
          483.7,
          490.8,
          497.9,
          505,
          512.1,
          519.2,
          526.3,
          533.4,
          540.5,
          547.6,
          554.7,
          561.8,
          568.9,
          576,
          583.1,
          590.2,
          597.3,
          604.4,
          611.5,
          618.6,
          625.7,
          632.8,
          639.9,
          647,
          654.1,
          661.2,
          668.3,
          675.4,
          682.5,
          689.6,
          696.7,
          703.8,
          710.9,
          718,
          725.1,
          732.2,
          739.3,
          746.4,
          753.5,
          760.6,
          767.7,
          774.8,
          781.9,
          789,
          796.1,
          803.2,
          810.3,
          817.4,
          824.5,
          831.6,
          838.7,
          845.8,
          852.9,
          860,
          867.1,
          874.2,
          881.3,
          888.4,
          895.5,
          902.6,
          909.7,
          916.8,
          923.9,
          931,
          938.1,
          945.2,
          952.3,
          959.4,
          966.5,
          973.6,
          980.7,
          987.8,
          994.9,
          1002,
          1009.1,
          1016.2,
          1023.3,
          1030.4,
          1037.5,
          1044.6,
          1051.7,
          1058.8,
          1065.9,
          1073,
          1080.1,
          1087.2,
          1094.3,
          1101.4,
          1108.5,
          1115.6,
          1122.7,
          1129.8,
          1136.9,
          1144,
          1151.1,
          1158.2,
          1165.3,
          1172.4,
          1179.5,
          1186.6,
          1193.7,
          1200.8,
          1207.9,
          1215,
          1222.1,
          1229.2,
          1236.3,
          1243.4,
          1250.5,
          1257.6,
          1264.7,
          1271.8,
          1278.9,
          1286,
          1293.1,
          1300.2,
          1307.3,
          1314.4,
          1321.5,
          1328.6,
          1335.7,
          1342.8,
          1349.9,
          1357,
          1364.1,
          1371.2,
          1378.3,
          1385.4,
          1392.5,
          1399.6,
          1406.7,
          1413.8,
          1420.9,
          1428,
          1435.1,
          1442.2,
          1449.3,
          1456.4,
          1463.5,
          1470.6,
          1477.7,
          1484.8,
          1491.9,
          1499,
          1506.1,
          1513.2,
          1520.3,
          1527.4,
          1534.5,
          1541.6,
          1548.7,
          1555.8,
          1562.9,
          1570,
          1577.1,
          1584.2,
          1591.3,
          1598.4,
          1605.5,
          1612.6,
          1619.7,
          1626.8,
          1633.9,
          1641,
          1648.1,
          1655.2,
          1662.3,
          1669.4,
          1676.5,
          1683.6,
          1690.7,
          1697.8,
          1704.9,
          1712,
          1719.1,
          1726.2,
          1733.3,
          1740.4,
          1747.5,
          1754.6,
          1761.7,
          1768.8,
          1775.9,
          1783,
          1790.1,
          1797.2,
          1804.3,
          1811.4,
          1818.5,
          1825.6,
          1832.7,
          1839.8,
          1846.9,
          1854,
          1861.1,
          1868.2,
          1875.3,
          1882.4,
          1889.5,
          1896.6,
          1903.7,
          1910.8,
          1917.9,
          1925,
          1932.1,
          1939.2,
          1946.3,
          1953.4,
          1960.5,
          1967.6,
          1974.7,
          1981.8,
          1988.9,
          1996,
          2003.1,
          2010.2,
          2017.3,
          2024.4,
          2031.5,
          2038.6,
          2045.7,
          2052.8,
          2059.9,
          2067,
          2074.1,
          2081.2,
          2088.3,
          2095.4,
          2102.5,
          2109.6,
          2116.7,
          2123.8,
          2130.9,
          2138,
          2145.1,
          2152.2,
          2159.3,
          2166.4,
          2173.5,
          2180.6,
          2187.7,
          2194.8,
          2201.9,
          2209,
          2216.1,
          2223.2,
          2230.3,
          2237.4,
          2244.5,
          2251.6,
          2258.7,
          2265.8,
          2272.9,
          2280,
          2287.1,
          2294.2,
          2301.3,
          2308.4,
          2315.5,
          2322.6,
          2329.7,
          2336.8,
          2343.9,
          2351,
          2358.1,
          2365.2,
          2372.3,
          2379.4,
          2386.5,
          2393.6,
          2400.7,
          2407.8,
          2414.9,
          2422,
          2429.1,
          2436.2,
          2443.3,
          2450.4,
          2457.5,
          2464.6,
          2471.7,
          2478.8,
          2485.9,
          2493,
          2500.1,
          2507.2,
          2514.3,
          2521.4,
          2528.5,
          2535.6,
          2542.7,
          2549.8,
          2556.9,
          2564,
          2571.1,
          2578.2,
          2585.3,
          2592.4,
          2599.5,
          2606.6,
          2613.7,
          2620.8,
          2627.9,
          2635,
          2642.1,
          2649.2,
          2656.3,
          2663.4,
          2670.5,
          2677.6,
          2684.7,
          2691.8,
          2698.9,
          2706,
          2713.1,
          2720.2,
          2727.3,
          2734.4,
          2741.5,
          2748.6,
          2755.7,
          2762.8,
          2769.9,
          2777,
          2784.1,
          2791.2,
          2798.3,
          2805.4,
          2812.5,
          2819.6,
          2826.7,
          2833.8,
          2840.9,
          2848,
          2855.1,
          2862.2,
          2869.3,
          2876.4,
          2883.5,
          2890.6,
          2897.7,
          2904.8,
          2911.9,
          2919,
          2926.1,
          2933.2,
          2940.3,
          2947.4,
          2954.5,
          2961.6,
          2968.7,
          2975.8,
          2982.9,
          2990,
          2997.1,
          3004.2,
          3011.3,
          3018.4,
          3025.5,
          3032.6,
          3039.7,
          3046.8,
          3053.9,
          3061,
          3068.1,
          3075.2,
          3082.3,
          3089.4,
          3096.5,
          3103.6,
          3110.7,
          3117.8,
          3124.9,
          3132,
          3139.1,
          3146.2,
          3153.3,
          3160.4,
          3167.5,
          3174.6,
          3181.7,
          3188.8,
          3195.9,
          3203,
          3210.1,
          3217.2,
          3224.3,
          3231.4,
          3238.5,
          3245.6,
          3252.7,
          3259.8,
          3266.9,
          3274,
          3281.1,
          3288.2,
          3295.3,
          3302.4,
          3309.5,
          3316.6,
          3323.7,
          3330.8,
          3337.9,
          3345,
          3352.1,
          3359.2,
          3366.3,
          3373.4,
          3380.5,
          3387.6,
          3394.7,
          3401.8,
          3408.9,
          3416,
          3423.1,
          3430.2,
          3437.3,
          3444.4,
          3451.5,
          3458.6,
          3465.7,
          3472.8,
          3479.9,
          3487,
          3494.1,
          3501.2,
          3508.3,
          3515.4,
          3522.5,
          3529.6,
          3536.7,
          3543.8,
          3550.9,
          3558,
          3565.1,
          3572.2,
          3579.3,
          3586.4,
          3593.5,
          3600.6,
          3607.7,
          3614.8,
          3621.9,
          3629,
          3636.1,
          3643.2,
          3650.3,
          3657.4,
          3664.5,
          3671.6,
          3678.7,
          3685.8,
          3692.9
         ],
         "xaxis": "x",
         "y": {
          "bdata": "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",
          "dtype": "f8"
         },
         "yaxis": "y"
        }
       ],
       "layout": {
        "barmode": "overlay",
        "font": {
         "size": 16
        },
        "hovermode": "closest",
        "legend": {
         "traceorder": "reversed"
        },
        "plot_bgcolor": "white",
        "template": {
         "data": {
          "bar": [
           {
            "error_x": {
             "color": "#2a3f5f"
            },
            "error_y": {
             "color": "#2a3f5f"
            },
            "marker": {
             "line": {
              "color": "#E5ECF6",
              "width": 0.5
             },
             "pattern": {
              "fillmode": "overlay",
              "size": 10,
              "solidity": 0.2
             }
            },
            "type": "bar"
           }
          ],
          "barpolar": [
           {
            "marker": {
             "line": {
              "color": "#E5ECF6",
              "width": 0.5
             },
             "pattern": {
              "fillmode": "overlay",
              "size": 10,
              "solidity": 0.2
             }
            },
            "type": "barpolar"
           }
          ],
          "carpet": [
           {
            "aaxis": {
             "endlinecolor": "#2a3f5f",
             "gridcolor": "white",
             "linecolor": "white",
             "minorgridcolor": "white",
             "startlinecolor": "#2a3f5f"
            },
            "baxis": {
             "endlinecolor": "#2a3f5f",
             "gridcolor": "white",
             "linecolor": "white",
             "minorgridcolor": "white",
             "startlinecolor": "#2a3f5f"
            },
            "type": "carpet"
           }
          ],
          "choropleth": [
           {
            "colorbar": {
             "outlinewidth": 0,
             "ticks": ""
            },
            "type": "choropleth"
           }
          ],
          "contour": [
           {
            "colorbar": {
             "outlinewidth": 0,
             "ticks": ""
            },
            "colorscale": [
             [
              0,
              "#0d0887"
             ],
             [
              0.1111111111111111,
              "#46039f"
             ],
             [
              0.2222222222222222,
              "#7201a8"
             ],
             [
              0.3333333333333333,
              "#9c179e"
             ],
             [
              0.4444444444444444,
              "#bd3786"
             ],
             [
              0.5555555555555556,
              "#d8576b"
             ],
             [
              0.6666666666666666,
              "#ed7953"
             ],
             [
              0.7777777777777778,
              "#fb9f3a"
             ],
             [
              0.8888888888888888,
              "#fdca26"
             ],
             [
              1,
              "#f0f921"
             ]
            ],
            "type": "contour"
           }
          ],
          "contourcarpet": [
           {
            "colorbar": {
             "outlinewidth": 0,
             "ticks": ""
            },
            "type": "contourcarpet"
           }
          ],
          "heatmap": [
           {
            "colorbar": {
             "outlinewidth": 0,
             "ticks": ""
            },
            "colorscale": [
             [
              0,
              "#0d0887"
             ],
             [
              0.1111111111111111,
              "#46039f"
             ],
             [
              0.2222222222222222,
              "#7201a8"
             ],
             [
              0.3333333333333333,
              "#9c179e"
             ],
             [
              0.4444444444444444,
              "#bd3786"
             ],
             [
              0.5555555555555556,
              "#d8576b"
             ],
             [
              0.6666666666666666,
              "#ed7953"
             ],
             [
              0.7777777777777778,
              "#fb9f3a"
             ],
             [
              0.8888888888888888,
              "#fdca26"
             ],
             [
              1,
              "#f0f921"
             ]
            ],
            "type": "heatmap"
           }
          ],
          "histogram": [
           {
            "marker": {
             "pattern": {
              "fillmode": "overlay",
              "size": 10,
              "solidity": 0.2
             }
            },
            "type": "histogram"
           }
          ],
          "histogram2d": [
           {
            "colorbar": {
             "outlinewidth": 0,
             "ticks": ""
            },
            "colorscale": [
             [
              0,
              "#0d0887"
             ],
             [
              0.1111111111111111,
              "#46039f"
             ],
             [
              0.2222222222222222,
              "#7201a8"
             ],
             [
              0.3333333333333333,
              "#9c179e"
             ],
             [
              0.4444444444444444,
              "#bd3786"
             ],
             [
              0.5555555555555556,
              "#d8576b"
             ],
             [
              0.6666666666666666,
              "#ed7953"
             ],
             [
              0.7777777777777778,
              "#fb9f3a"
             ],
             [
              0.8888888888888888,
              "#fdca26"
             ],
             [
              1,
              "#f0f921"
             ]
            ],
            "type": "histogram2d"
           }
          ],
          "histogram2dcontour": [
           {
            "colorbar": {
             "outlinewidth": 0,
             "ticks": ""
            },
            "colorscale": [
             [
              0,
              "#0d0887"
             ],
             [
              0.1111111111111111,
              "#46039f"
             ],
             [
              0.2222222222222222,
              "#7201a8"
             ],
             [
              0.3333333333333333,
              "#9c179e"
             ],
             [
              0.4444444444444444,
              "#bd3786"
             ],
             [
              0.5555555555555556,
              "#d8576b"
             ],
             [
              0.6666666666666666,
              "#ed7953"
             ],
             [
              0.7777777777777778,
              "#fb9f3a"
             ],
             [
              0.8888888888888888,
              "#fdca26"
             ],
             [
              1,
              "#f0f921"
             ]
            ],
            "type": "histogram2dcontour"
           }
          ],
          "mesh3d": [
           {
            "colorbar": {
             "outlinewidth": 0,
             "ticks": ""
            },
            "type": "mesh3d"
           }
          ],
          "parcoords": [
           {
            "line": {
             "colorbar": {
              "outlinewidth": 0,
              "ticks": ""
             }
            },
            "type": "parcoords"
           }
          ],
          "pie": [
           {
            "automargin": true,
            "type": "pie"
           }
          ],
          "scatter": [
           {
            "fillpattern": {
             "fillmode": "overlay",
             "size": 10,
             "solidity": 0.2
            },
            "type": "scatter"
           }
          ],
          "scatter3d": [
           {
            "line": {
             "colorbar": {
              "outlinewidth": 0,
              "ticks": ""
             }
            },
            "marker": {
             "colorbar": {
              "outlinewidth": 0,
              "ticks": ""
             }
            },
            "type": "scatter3d"
           }
          ],
          "scattercarpet": [
           {
            "marker": {
             "colorbar": {
              "outlinewidth": 0,
              "ticks": ""
             }
            },
            "type": "scattercarpet"
           }
          ],
          "scattergeo": [
           {
            "marker": {
             "colorbar": {
              "outlinewidth": 0,
              "ticks": ""
             }
            },
            "type": "scattergeo"
           }
          ],
          "scattergl": [
           {
            "marker": {
             "colorbar": {
              "outlinewidth": 0,
              "ticks": ""
             }
            },
            "type": "scattergl"
           }
          ],
          "scattermap": [
           {
            "marker": {
             "colorbar": {
              "outlinewidth": 0,
              "ticks": ""
             }
            },
            "type": "scattermap"
           }
          ],
          "scattermapbox": [
           {
            "marker": {
             "colorbar": {
              "outlinewidth": 0,
              "ticks": ""
             }
            },
            "type": "scattermapbox"
           }
          ],
          "scatterpolar": [
           {
            "marker": {
             "colorbar": {
              "outlinewidth": 0,
              "ticks": ""
             }
            },
            "type": "scatterpolar"
           }
          ],
          "scatterpolargl": [
           {
            "marker": {
             "colorbar": {
              "outlinewidth": 0,
              "ticks": ""
             }
            },
            "type": "scatterpolargl"
           }
          ],
          "scatterternary": [
           {
            "marker": {
             "colorbar": {
              "outlinewidth": 0,
              "ticks": ""
             }
            },
            "type": "scatterternary"
           }
          ],
          "surface": [
           {
            "colorbar": {
             "outlinewidth": 0,
             "ticks": ""
            },
            "colorscale": [
             [
              0,
              "#0d0887"
             ],
             [
              0.1111111111111111,
              "#46039f"
             ],
             [
              0.2222222222222222,
              "#7201a8"
             ],
             [
              0.3333333333333333,
              "#9c179e"
             ],
             [
              0.4444444444444444,
              "#bd3786"
             ],
             [
              0.5555555555555556,
              "#d8576b"
             ],
             [
              0.6666666666666666,
              "#ed7953"
             ],
             [
              0.7777777777777778,
              "#fb9f3a"
             ],
             [
              0.8888888888888888,
              "#fdca26"
             ],
             [
              1,
              "#f0f921"
             ]
            ],
            "type": "surface"
           }
          ],
          "table": [
           {
            "cells": {
             "fill": {
              "color": "#EBF0F8"
             },
             "line": {
              "color": "white"
             }
            },
            "header": {
             "fill": {
              "color": "#C8D4E3"
             },
             "line": {
              "color": "white"
             }
            },
            "type": "table"
           }
          ]
         },
         "layout": {
          "annotationdefaults": {
           "arrowcolor": "#2a3f5f",
           "arrowhead": 0,
           "arrowwidth": 1
          },
          "autotypenumbers": "strict",
          "coloraxis": {
           "colorbar": {
            "outlinewidth": 0,
            "ticks": ""
           }
          },
          "colorscale": {
           "diverging": [
            [
             0,
             "#8e0152"
            ],
            [
             0.1,
             "#c51b7d"
            ],
            [
             0.2,
             "#de77ae"
            ],
            [
             0.3,
             "#f1b6da"
            ],
            [
             0.4,
             "#fde0ef"
            ],
            [
             0.5,
             "#f7f7f7"
            ],
            [
             0.6,
             "#e6f5d0"
            ],
            [
             0.7,
             "#b8e186"
            ],
            [
             0.8,
             "#7fbc41"
            ],
            [
             0.9,
             "#4d9221"
            ],
            [
             1,
             "#276419"
            ]
           ],
           "sequential": [
            [
             0,
             "#0d0887"
            ],
            [
             0.1111111111111111,
             "#46039f"
            ],
            [
             0.2222222222222222,
             "#7201a8"
            ],
            [
             0.3333333333333333,
             "#9c179e"
            ],
            [
             0.4444444444444444,
             "#bd3786"
            ],
            [
             0.5555555555555556,
             "#d8576b"
            ],
            [
             0.6666666666666666,
             "#ed7953"
            ],
            [
             0.7777777777777778,
             "#fb9f3a"
            ],
            [
             0.8888888888888888,
             "#fdca26"
            ],
            [
             1,
             "#f0f921"
            ]
           ],
           "sequentialminus": [
            [
             0,
             "#0d0887"
            ],
            [
             0.1111111111111111,
             "#46039f"
            ],
            [
             0.2222222222222222,
             "#7201a8"
            ],
            [
             0.3333333333333333,
             "#9c179e"
            ],
            [
             0.4444444444444444,
             "#bd3786"
            ],
            [
             0.5555555555555556,
             "#d8576b"
            ],
            [
             0.6666666666666666,
             "#ed7953"
            ],
            [
             0.7777777777777778,
             "#fb9f3a"
            ],
            [
             0.8888888888888888,
             "#fdca26"
            ],
            [
             1,
             "#f0f921"
            ]
           ]
          },
          "colorway": [
           "#636efa",
           "#EF553B",
           "#00cc96",
           "#ab63fa",
           "#FFA15A",
           "#19d3f3",
           "#FF6692",
           "#B6E880",
           "#FF97FF",
           "#FECB52"
          ],
          "font": {
           "color": "#2a3f5f"
          },
          "geo": {
           "bgcolor": "white",
           "lakecolor": "white",
           "landcolor": "#E5ECF6",
           "showlakes": true,
           "showland": true,
           "subunitcolor": "white"
          },
          "hoverlabel": {
           "align": "left"
          },
          "hovermode": "closest",
          "mapbox": {
           "style": "light"
          },
          "paper_bgcolor": "white",
          "plot_bgcolor": "#E5ECF6",
          "polar": {
           "angularaxis": {
            "gridcolor": "white",
            "linecolor": "white",
            "ticks": ""
           },
           "bgcolor": "#E5ECF6",
           "radialaxis": {
            "gridcolor": "white",
            "linecolor": "white",
            "ticks": ""
           }
          },
          "scene": {
           "xaxis": {
            "backgroundcolor": "#E5ECF6",
            "gridcolor": "white",
            "gridwidth": 2,
            "linecolor": "white",
            "showbackground": true,
            "ticks": "",
            "zerolinecolor": "white"
           },
           "yaxis": {
            "backgroundcolor": "#E5ECF6",
            "gridcolor": "white",
            "gridwidth": 2,
            "linecolor": "white",
            "showbackground": true,
            "ticks": "",
            "zerolinecolor": "white"
           },
           "zaxis": {
            "backgroundcolor": "#E5ECF6",
            "gridcolor": "white",
            "gridwidth": 2,
            "linecolor": "white",
            "showbackground": true,
            "ticks": "",
            "zerolinecolor": "white"
           }
          },
          "shapedefaults": {
           "line": {
            "color": "#2a3f5f"
           }
          },
          "ternary": {
           "aaxis": {
            "gridcolor": "white",
            "linecolor": "white",
            "ticks": ""
           },
           "baxis": {
            "gridcolor": "white",
            "linecolor": "white",
            "ticks": ""
           },
           "bgcolor": "#E5ECF6",
           "caxis": {
            "gridcolor": "white",
            "linecolor": "white",
            "ticks": ""
           }
          },
          "title": {
           "x": 0.05
          },
          "xaxis": {
           "automargin": true,
           "gridcolor": "white",
           "linecolor": "white",
           "ticks": "",
           "title": {
            "standoff": 15
           },
           "zerolinecolor": "white",
           "zerolinewidth": 2
          },
          "yaxis": {
           "automargin": true,
           "gridcolor": "white",
           "linecolor": "white",
           "ticks": "",
           "title": {
            "standoff": 15
           },
           "zerolinecolor": "white",
           "zerolinewidth": 2
          }
         }
        },
        "title": {
         "text": "Distribution of Product Prices"
        },
        "xaxis": {
         "anchor": "y2",
         "domain": [
          0,
          1
         ],
         "title": {
          "text": "Price($)"
         },
         "zeroline": false
        },
        "yaxis": {
         "anchor": "free",
         "domain": [
          0,
          1
         ],
         "position": 0,
         "title": {
          "text": "Frequency"
         }
        }
       }
      }
     },
     "metadata": {},
     "output_type": "display_data"
    }
   ],
   "source": [
    "\n",
    "fig = ff.create_distplot(\n",
    "    [data['Product Price']],  \n",
    "    group_labels=['Product Price'],   \n",
    "    colors=[\"#3BFF5F\"],               \n",
    "    show_hist=True,                     \n",
    "    show_rug=False  ,                   \n",
    ")\n",
    "\n",
    "fig.update_layout(\n",
    "    title='Distribution of Product Prices',\n",
    "    xaxis_title='Price($)',\n",
    "    yaxis_title='Frequency',\n",
    "    font=dict(size=16),\n",
    "    plot_bgcolor='white'\n",
    ")\n",
    "\n",
    "fig.show()\n"
   ]
  },
  {
   "cell_type": "code",
   "execution_count": 133,
   "metadata": {
    "execution": {
     "iopub.execute_input": "2024-12-10T13:08:56.039553Z",
     "iopub.status.busy": "2024-12-10T13:08:56.039169Z",
     "iopub.status.idle": "2024-12-10T13:08:57.036759Z",
     "shell.execute_reply": "2024-12-10T13:08:57.035588Z",
     "shell.execute_reply.started": "2024-12-10T13:08:56.039484Z"
    },
    "trusted": true
   },
   "outputs": [
    {
     "name": "stderr",
     "output_type": "stream",
     "text": [
      "C:\\Users\\Mohamed\\AppData\\Local\\Temp\\ipykernel_26436\\3881052819.py:2: FutureWarning:\n",
      "\n",
      "\n",
      "\n",
      "Passing `palette` without assigning `hue` is deprecated and will be removed in v0.14.0. Assign the `x` variable to `hue` and set `legend=False` for the same effect.\n",
      "\n",
      "\n"
     ]
    },
    {
     "data": {
      "image/png": "[encoded data removed]",
      "text/plain": [
       "<Figure size 1200x600 with 1 Axes>"
      ]
     },
     "metadata": {},
     "output_type": "display_data"
    }
   ],
   "source": [
    "plt.figure(figsize=(12, 6))\n",
    "sns.barplot(x='Product Name', y='Order Quantity', data=data, estimator=sum, palette='crest')\n",
    "plt.title('Total Order Quantity by Product')\n",
    "plt.xticks(rotation=90)\n",
    "plt.xlabel('Product Name')\n",
    "plt.ylabel('Total Quantity Sold')\n",
    "plt.show()"
   ]
  },
  {
   "cell_type": "code",
   "execution_count": 62,
   "metadata": {
    "execution": {
     "iopub.execute_input": "2024-12-10T13:08:57.038815Z",
     "iopub.status.busy": "2024-12-10T13:08:57.038345Z",
     "iopub.status.idle": "2024-12-10T13:08:57.046819Z",
     "shell.execute_reply": "2024-12-10T13:08:57.045672Z",
     "shell.execute_reply.started": "2024-12-10T13:08:57.038764Z"
    },
    "trusted": true
   },
   "outputs": [],
   "source": [
    "sales_by_status = data.groupby('Order Status')['Order Total'].sum().reset_index()"
   ]
  },
  {
   "cell_type": "code",
   "execution_count": 135,
   "metadata": {
    "execution": {
     "iopub.execute_input": "2024-12-10T13:08:57.04961Z",
     "iopub.status.busy": "2024-12-10T13:08:57.049193Z",
     "iopub.status.idle": "2024-12-10T13:08:57.275531Z",
     "shell.execute_reply": "2024-12-10T13:08:57.274396Z",
     "shell.execute_reply.started": "2024-12-10T13:08:57.049575Z"
    },
    "trusted": true
   },
   "outputs": [
    {
     "data": {
      "application/vnd.plotly.v1+json": {
       "config": {
        "plotlyServerURL": "https://plot.ly"
       },
       "data": [
        {
         "hovertemplate": "Total Sales ($)=%{marker.color}<br>Order Status=%{y}<extra></extra>",
         "legendgroup": "",
         "marker": {
          "color": {
           "bdata": "AAAAAADU50AAAAAAgOD3QAAAAABAPghB",
           "dtype": "f8"
          },
          "coloraxis": "coloraxis",
          "pattern": {
           "shape": ""
          }
         },
         "name": "",
         "orientation": "h",
         "showlegend": false,
         "textposition": "auto",
         "type": "bar",
         "x": {
          "bdata": "AAAAAADU50AAAAAAgOD3QAAAAABAPghB",
          "dtype": "f8"
         },
         "xaxis": "x",
         "y": [
          "Cancelled",
          "Processing",
          "Shipped"
         ],
         "yaxis": "y"
        }
       ],
       "layout": {
        "barmode": "relative",
        "coloraxis": {
         "colorbar": {
          "title": {
           "text": "Total Sales ($)"
          }
         },
         "colorscale": [
          [
           0,
           "rgb(103,0,31)"
          ],
          [
           0.1,
           "rgb(178,24,43)"
          ],
          [
           0.2,
           "rgb(214,96,77)"
          ],
          [
           0.3,
           "rgb(244,165,130)"
          ],
          [
           0.4,
           "rgb(253,219,199)"
          ],
          [
           0.5,
           "rgb(247,247,247)"
          ],
          [
           0.6,
           "rgb(209,229,240)"
          ],
          [
           0.7,
           "rgb(146,197,222)"
          ],
          [
           0.8,
           "rgb(67,147,195)"
          ],
          [
           0.9,
           "rgb(33,102,172)"
          ],
          [
           1,
           "rgb(5,48,97)"
          ]
         ]
        },
        "font": {
         "size": 16
        },
        "legend": {
         "tracegroupgap": 0
        },
        "plot_bgcolor": "white",
        "template": {
         "data": {
          "bar": [
           {
            "error_x": {
             "color": "#2a3f5f"
            },
            "error_y": {
             "color": "#2a3f5f"
            },
            "marker": {
             "line": {
              "color": "#E5ECF6",
              "width": 0.5
             },
             "pattern": {
              "fillmode": "overlay",
              "size": 10,
              "solidity": 0.2
             }
            },
            "type": "bar"
           }
          ],
          "barpolar": [
           {
            "marker": {
             "line": {
              "color": "#E5ECF6",
              "width": 0.5
             },
             "pattern": {
              "fillmode": "overlay",
              "size": 10,
              "solidity": 0.2
             }
            },
            "type": "barpolar"
           }
          ],
          "carpet": [
           {
            "aaxis": {
             "endlinecolor": "#2a3f5f",
             "gridcolor": "white",
             "linecolor": "white",
             "minorgridcolor": "white",
             "startlinecolor": "#2a3f5f"
            },
            "baxis": {
             "endlinecolor": "#2a3f5f",
             "gridcolor": "white",
             "linecolor": "white",
             "minorgridcolor": "white",
             "startlinecolor": "#2a3f5f"
            },
            "type": "carpet"
           }
          ],
          "choropleth": [
           {
            "colorbar": {
             "outlinewidth": 0,
             "ticks": ""
            },
            "type": "choropleth"
           }
          ],
          "contour": [
           {
            "colorbar": {
             "outlinewidth": 0,
             "ticks": ""
            },
            "colorscale": [
             [
              0,
              "#0d0887"
             ],
             [
              0.1111111111111111,
              "#46039f"
             ],
             [
              0.2222222222222222,
              "#7201a8"
             ],
             [
              0.3333333333333333,
              "#9c179e"
             ],
             [
              0.4444444444444444,
              "#bd3786"
             ],
             [
              0.5555555555555556,
              "#d8576b"
             ],
             [
              0.6666666666666666,
              "#ed7953"
             ],
             [
              0.7777777777777778,
              "#fb9f3a"
             ],
             [
              0.8888888888888888,
              "#fdca26"
             ],
             [
              1,
              "#f0f921"
             ]
            ],
            "type": "contour"
           }
          ],
          "contourcarpet": [
           {
            "colorbar": {
             "outlinewidth": 0,
             "ticks": ""
            },
            "type": "contourcarpet"
           }
          ],
          "heatmap": [
           {
            "colorbar": {
             "outlinewidth": 0,
             "ticks": ""
            },
            "colorscale": [
             [
              0,
              "#0d0887"
             ],
             [
              0.1111111111111111,
              "#46039f"
             ],
             [
              0.2222222222222222,
              "#7201a8"
             ],
             [
              0.3333333333333333,
              "#9c179e"
             ],
             [
              0.4444444444444444,
              "#bd3786"
             ],
             [
              0.5555555555555556,
              "#d8576b"
             ],
             [
              0.6666666666666666,
              "#ed7953"
             ],
             [
              0.7777777777777778,
              "#fb9f3a"
             ],
             [
              0.8888888888888888,
              "#fdca26"
             ],
             [
              1,
              "#f0f921"
             ]
            ],
            "type": "heatmap"
           }
          ],
          "histogram": [
           {
            "marker": {
             "pattern": {
              "fillmode": "overlay",
              "size": 10,
              "solidity": 0.2
             }
            },
            "type": "histogram"
           }
          ],
          "histogram2d": [
           {
            "colorbar": {
             "outlinewidth": 0,
             "ticks": ""
            },
            "colorscale": [
             [
              0,
              "#0d0887"
             ],
             [
              0.1111111111111111,
              "#46039f"
             ],
             [
              0.2222222222222222,
              "#7201a8"
             ],
             [
              0.3333333333333333,
              "#9c179e"
             ],
             [
              0.4444444444444444,
              "#bd3786"
             ],
             [
              0.5555555555555556,
              "#d8576b"
             ],
             [
              0.6666666666666666,
              "#ed7953"
             ],
             [
              0.7777777777777778,
              "#fb9f3a"
             ],
             [
              0.8888888888888888,
              "#fdca26"
             ],
             [
              1,
              "#f0f921"
             ]
            ],
            "type": "histogram2d"
           }
          ],
          "histogram2dcontour": [
           {
            "colorbar": {
             "outlinewidth": 0,
             "ticks": ""
            },
            "colorscale": [
             [
              0,
              "#0d0887"
             ],
             [
              0.1111111111111111,
              "#46039f"
             ],
             [
              0.2222222222222222,
              "#7201a8"
             ],
             [
              0.3333333333333333,
              "#9c179e"
             ],
             [
              0.4444444444444444,
              "#bd3786"
             ],
             [
              0.5555555555555556,
              "#d8576b"
             ],
             [
              0.6666666666666666,
              "#ed7953"
             ],
             [
              0.7777777777777778,
              "#fb9f3a"
             ],
             [
              0.8888888888888888,
              "#fdca26"
             ],
             [
              1,
              "#f0f921"
             ]
            ],
            "type": "histogram2dcontour"
           }
          ],
          "mesh3d": [
           {
            "colorbar": {
             "outlinewidth": 0,
             "ticks": ""
            },
            "type": "mesh3d"
           }
          ],
          "parcoords": [
           {
            "line": {
             "colorbar": {
              "outlinewidth": 0,
              "ticks": ""
             }
            },
            "type": "parcoords"
           }
          ],
          "pie": [
           {
            "automargin": true,
            "type": "pie"
           }
          ],
          "scatter": [
           {
            "fillpattern": {
             "fillmode": "overlay",
             "size": 10,
             "solidity": 0.2
            },
            "type": "scatter"
           }
          ],
          "scatter3d": [
           {
            "line": {
             "colorbar": {
              "outlinewidth": 0,
              "ticks": ""
             }
            },
            "marker": {
             "colorbar": {
              "outlinewidth": 0,
              "ticks": ""
             }
            },
            "type": "scatter3d"
           }
          ],
          "scattercarpet": [
           {
            "marker": {
             "colorbar": {
              "outlinewidth": 0,
              "ticks": ""
             }
            },
            "type": "scattercarpet"
           }
          ],
          "scattergeo": [
           {
            "marker": {
             "colorbar": {
              "outlinewidth": 0,
              "ticks": ""
             }
            },
            "type": "scattergeo"
           }
          ],
          "scattergl": [
           {
            "marker": {
             "colorbar": {
              "outlinewidth": 0,
              "ticks": ""
             }
            },
            "type": "scattergl"
           }
          ],
          "scattermap": [
           {
            "marker": {
             "colorbar": {
              "outlinewidth": 0,
              "ticks": ""
             }
            },
            "type": "scattermap"
           }
          ],
          "scattermapbox": [
           {
            "marker": {
             "colorbar": {
              "outlinewidth": 0,
              "ticks": ""
             }
            },
            "type": "scattermapbox"
           }
          ],
          "scatterpolar": [
           {
            "marker": {
             "colorbar": {
              "outlinewidth": 0,
              "ticks": ""
             }
            },
            "type": "scatterpolar"
           }
          ],
          "scatterpolargl": [
           {
            "marker": {
             "colorbar": {
              "outlinewidth": 0,
              "ticks": ""
             }
            },
            "type": "scatterpolargl"
           }
          ],
          "scatterternary": [
           {
            "marker": {
             "colorbar": {
              "outlinewidth": 0,
              "ticks": ""
             }
            },
            "type": "scatterternary"
           }
          ],
          "surface": [
           {
            "colorbar": {
             "outlinewidth": 0,
             "ticks": ""
            },
            "colorscale": [
             [
              0,
              "#0d0887"
             ],
             [
              0.1111111111111111,
              "#46039f"
             ],
             [
              0.2222222222222222,
              "#7201a8"
             ],
             [
              0.3333333333333333,
              "#9c179e"
             ],
             [
              0.4444444444444444,
              "#bd3786"
             ],
             [
              0.5555555555555556,
              "#d8576b"
             ],
             [
              0.6666666666666666,
              "#ed7953"
             ],
             [
              0.7777777777777778,
              "#fb9f3a"
             ],
             [
              0.8888888888888888,
              "#fdca26"
             ],
             [
              1,
              "#f0f921"
             ]
            ],
            "type": "surface"
           }
          ],
          "table": [
           {
            "cells": {
             "fill": {
              "color": "#EBF0F8"
             },
             "line": {
              "color": "white"
             }
            },
            "header": {
             "fill": {
              "color": "#C8D4E3"
             },
             "line": {
              "color": "white"
             }
            },
            "type": "table"
           }
          ]
         },
         "layout": {
          "annotationdefaults": {
           "arrowcolor": "#2a3f5f",
           "arrowhead": 0,
           "arrowwidth": 1
          },
          "autotypenumbers": "strict",
          "coloraxis": {
           "colorbar": {
            "outlinewidth": 0,
            "ticks": ""
           }
          },
          "colorscale": {
           "diverging": [
            [
             0,
             "#8e0152"
            ],
            [
             0.1,
             "#c51b7d"
            ],
            [
             0.2,
             "#de77ae"
            ],
            [
             0.3,
             "#f1b6da"
            ],
            [
             0.4,
             "#fde0ef"
            ],
            [
             0.5,
             "#f7f7f7"
            ],
            [
             0.6,
             "#e6f5d0"
            ],
            [
             0.7,
             "#b8e186"
            ],
            [
             0.8,
             "#7fbc41"
            ],
            [
             0.9,
             "#4d9221"
            ],
            [
             1,
             "#276419"
            ]
           ],
           "sequential": [
            [
             0,
             "#0d0887"
            ],
            [
             0.1111111111111111,
             "#46039f"
            ],
            [
             0.2222222222222222,
             "#7201a8"
            ],
            [
             0.3333333333333333,
             "#9c179e"
            ],
            [
             0.4444444444444444,
             "#bd3786"
            ],
            [
             0.5555555555555556,
             "#d8576b"
            ],
            [
             0.6666666666666666,
             "#ed7953"
            ],
            [
             0.7777777777777778,
             "#fb9f3a"
            ],
            [
             0.8888888888888888,
             "#fdca26"
            ],
            [
             1,
             "#f0f921"
            ]
           ],
           "sequentialminus": [
            [
             0,
             "#0d0887"
            ],
            [
             0.1111111111111111,
             "#46039f"
            ],
            [
             0.2222222222222222,
             "#7201a8"
            ],
            [
             0.3333333333333333,
             "#9c179e"
            ],
            [
             0.4444444444444444,
             "#bd3786"
            ],
            [
             0.5555555555555556,
             "#d8576b"
            ],
            [
             0.6666666666666666,
             "#ed7953"
            ],
            [
             0.7777777777777778,
             "#fb9f3a"
            ],
            [
             0.8888888888888888,
             "#fdca26"
            ],
            [
             1,
             "#f0f921"
            ]
           ]
          },
          "colorway": [
           "#636efa",
           "#EF553B",
           "#00cc96",
           "#ab63fa",
           "#FFA15A",
           "#19d3f3",
           "#FF6692",
           "#B6E880",
           "#FF97FF",
           "#FECB52"
          ],
          "font": {
           "color": "#2a3f5f"
          },
          "geo": {
           "bgcolor": "white",
           "lakecolor": "white",
           "landcolor": "#E5ECF6",
           "showlakes": true,
           "showland": true,
           "subunitcolor": "white"
          },
          "hoverlabel": {
           "align": "left"
          },
          "hovermode": "closest",
          "mapbox": {
           "style": "light"
          },
          "paper_bgcolor": "white",
          "plot_bgcolor": "#E5ECF6",
          "polar": {
           "angularaxis": {
            "gridcolor": "white",
            "linecolor": "white",
            "ticks": ""
           },
           "bgcolor": "#E5ECF6",
           "radialaxis": {
            "gridcolor": "white",
            "linecolor": "white",
            "ticks": ""
           }
          },
          "scene": {
           "xaxis": {
            "backgroundcolor": "#E5ECF6",
            "gridcolor": "white",
            "gridwidth": 2,
            "linecolor": "white",
            "showbackground": true,
            "ticks": "",
            "zerolinecolor": "white"
           },
           "yaxis": {
            "backgroundcolor": "#E5ECF6",
            "gridcolor": "white",
            "gridwidth": 2,
            "linecolor": "white",
            "showbackground": true,
            "ticks": "",
            "zerolinecolor": "white"
           },
           "zaxis": {
            "backgroundcolor": "#E5ECF6",
            "gridcolor": "white",
            "gridwidth": 2,
            "linecolor": "white",
            "showbackground": true,
            "ticks": "",
            "zerolinecolor": "white"
           }
          },
          "shapedefaults": {
           "line": {
            "color": "#2a3f5f"
           }
          },
          "ternary": {
           "aaxis": {
            "gridcolor": "white",
            "linecolor": "white",
            "ticks": ""
           },
           "baxis": {
            "gridcolor": "white",
            "linecolor": "white",
            "ticks": ""
           },
           "bgcolor": "#E5ECF6",
           "caxis": {
            "gridcolor": "white",
            "linecolor": "white",
            "ticks": ""
           }
          },
          "title": {
           "x": 0.05
          },
          "xaxis": {
           "automargin": true,
           "gridcolor": "white",
           "linecolor": "white",
           "ticks": "",
           "title": {
            "standoff": 15
           },
           "zerolinecolor": "white",
           "zerolinewidth": 2
          },
          "yaxis": {
           "automargin": true,
           "gridcolor": "white",
           "linecolor": "white",
           "ticks": "",
           "title": {
            "standoff": 15
           },
           "zerolinecolor": "white",
           "zerolinewidth": 2
          }
         }
        },
        "title": {
         "font": {
          "size": 22
         },
         "text": " Total Sales by Order Status"
        },
        "xaxis": {
         "anchor": "y",
         "domain": [
          0,
          1
         ],
         "tickangle": -45,
         "title": {
          "font": {
           "size": 18
          },
          "text": "Total Sales ($)"
         }
        },
        "yaxis": {
         "anchor": "x",
         "domain": [
          0,
          1
         ],
         "title": {
          "font": {
           "size": 18
          },
          "text": "Order Status"
         }
        }
       }
      }
     },
     "metadata": {},
     "output_type": "display_data"
    }
   ],
   "source": [
    "fig = px.bar(\n",
    "    sales_by_status,\n",
    "    x='Order Total',\n",
    "    y='Order Status',\n",
    "    orientation='h',\n",
    "    color='Order Total',\n",
    "    color_continuous_scale='RdBu',\n",
    "    title=' Total Sales by Order Status',\n",
    "    labels={\n",
    "        'Order Total': 'Total Sales ($)',\n",
    "        'Order Status': 'Order Status'\n",
    "    }\n",
    ")\n",
    "figlayout(fig)\n",
    "\n",
    "fig.show()"
   ]
  },
  {
   "cell_type": "code",
   "execution_count": 137,
   "metadata": {
    "execution": {
     "iopub.execute_input": "2024-12-10T13:08:57.277181Z",
     "iopub.status.busy": "2024-12-10T13:08:57.276852Z",
     "iopub.status.idle": "2024-12-10T13:08:57.580623Z",
     "shell.execute_reply": "2024-12-10T13:08:57.579235Z",
     "shell.execute_reply.started": "2024-12-10T13:08:57.277149Z"
    },
    "trusted": true
   },
   "outputs": [
    {
     "data": {
      "application/vnd.plotly.v1+json": {
       "config": {
        "plotlyServerURL": "https://plot.ly"
       },
       "data": [
        {
         "alignmentgroup": "True",
         "boxpoints": "outliers",
         "hovertemplate": "Product Category=%{x}<br>Product Price $=%{y}<extra></extra>",
         "legendgroup": "Mountain Bikes",
         "marker": {
          "color": "#636efa"
         },
         "name": "Mountain Bikes",
         "notched": false,
         "offsetgroup": "Mountain Bikes",
         "orientation": "v",
         "showlegend": true,
         "type": "box",
         "x": [
          "Mountain Bikes",
          "Mountain Bikes",
          "Mountain Bikes",
          "Mountain Bikes",
          "Mountain Bikes",
          "Mountain Bikes",
          "Mountain Bikes",
          "Mountain Bikes",
          "Mountain Bikes",
          "Mountain Bikes",
          "Mountain Bikes",
          "Mountain Bikes",
          "Mountain Bikes",
          "Mountain Bikes",
          "Mountain Bikes",
          "Mountain Bikes",
          "Mountain Bikes",
          "Mountain Bikes",
          "Mountain Bikes",
          "Mountain Bikes",
          "Mountain Bikes",
          "Mountain Bikes",
          "Mountain Bikes",
          "Mountain Bikes",
          "Mountain Bikes",
          "Mountain Bikes",
          "Mountain Bikes",
          "Mountain Bikes"
         ],
         "x0": " ",
         "xaxis": "x",
         "y": {
          "bdata": "AAAAAADAkkAAAAAAAHCXQAAAAAAAMKFAAAAAAACIo0AAAAAAADCRQAAAAAAA4JVAAAAAAAD4oUAAAAAAAFCkQAAAAAAAUJRAAAAAAAAAmUAAAAAAAHCnQAAAAAAAWKtAAAAAAADAkkAAAAAAAHCXQAAAAAAAMKFAAAAAAACIo0AAAAAAADCRQAAAAAAA4JVAAAAAAAD4oUAAAAAAAFCkQAAAAAAAUJRAAAAAAAAAmUAAAAAAAHCnQAAAAAAAWKtAAAAAAACopkAAAAAAAMipQAAAAAAAIJxAAAAAAADAokA=",
          "dtype": "f8"
         },
         "y0": " ",
         "yaxis": "y"
        },
        {
         "alignmentgroup": "True",
         "boxpoints": "outliers",
         "hovertemplate": "Product Category=%{x}<br>Product Price $=%{y}<extra></extra>",
         "legendgroup": "Road Bikes",
         "marker": {
          "color": "#EF553B"
         },
         "name": "Road Bikes",
         "notched": false,
         "offsetgroup": "Road Bikes",
         "orientation": "v",
         "showlegend": true,
         "type": "box",
         "x": [
          "Road Bikes",
          "Road Bikes",
          "Road Bikes",
          "Road Bikes",
          "Road Bikes",
          "Road Bikes",
          "Road Bikes",
          "Road Bikes",
          "Road Bikes",
          "Road Bikes",
          "Road Bikes",
          "Road Bikes",
          "Road Bikes",
          "Road Bikes",
          "Road Bikes",
          "Road Bikes",
          "Road Bikes",
          "Road Bikes",
          "Road Bikes",
          "Road Bikes"
         ],
         "x0": " ",
         "xaxis": "x",
         "y": {
          "bdata": "AAAAAAAgnEAAAAAAAGigQAAAAAAAkJpAAAAAAABAn0AAAAAAALCdQAAAAAAAMKFAAAAAAACQmkAAAAAAAGigQAAAAAAAIJxAAAAAAABooEAAAAAAAJCaQAAAAAAAQJ9AAAAAAACwnUAAAAAAADChQAAAAAAAkJpAAAAAAABooEAAAAAAAOClQAAAAAAAAKlAAAAAAABooEAAAAAAAFCkQA==",
          "dtype": "f8"
         },
         "y0": " ",
         "yaxis": "y"
        },
        {
         "alignmentgroup": "True",
         "boxpoints": "outliers",
         "hovertemplate": "Product Category=%{x}<br>Product Price $=%{y}<extra></extra>",
         "legendgroup": "Touring Bikes",
         "marker": {
          "color": "#00cc96"
         },
         "name": "Touring Bikes",
         "notched": false,
         "offsetgroup": "Touring Bikes",
         "orientation": "v",
         "showlegend": true,
         "type": "box",
         "x": [
          "Touring Bikes",
          "Touring Bikes",
          "Touring Bikes",
          "Touring Bikes",
          "Touring Bikes",
          "Touring Bikes",
          "Touring Bikes",
          "Touring Bikes",
          "Touring Bikes",
          "Touring Bikes",
          "Touring Bikes",
          "Touring Bikes",
          "Touring Bikes",
          "Touring Bikes",
          "Touring Bikes",
          "Touring Bikes",
          "Touring Bikes",
          "Touring Bikes"
         ],
         "x0": " ",
         "xaxis": "x",
         "y": {
          "bdata": "AAAAAABQlEAAAAAAAACZQAAAAAAAcJdAAAAAAAAgnEAAAAAAAECfQAAAAAAA+KFAAAAAAABwl0AAAAAAACCcQAAAAAAAUJRAAAAAAAAAmUAAAAAAAHCXQAAAAAAAIJxAAAAAAABAn0AAAAAAAPihQAAAAAAAcJdAAAAAAAAgnEAAAAAAAECfQAAAAAAAwKJA",
          "dtype": "f8"
         },
         "y0": " ",
         "yaxis": "y"
        },
        {
         "alignmentgroup": "True",
         "boxpoints": "outliers",
         "hovertemplate": "Product Category=%{x}<br>Product Price $=%{y}<extra></extra>",
         "legendgroup": "E-Bikes",
         "marker": {
          "color": "#ab63fa"
         },
         "name": "E-Bikes",
         "notched": false,
         "offsetgroup": "E-Bikes",
         "orientation": "v",
         "showlegend": true,
         "type": "box",
         "x": [
          "E-Bikes",
          "E-Bikes",
          "E-Bikes",
          "E-Bikes",
          "E-Bikes",
          "E-Bikes",
          "E-Bikes",
          "E-Bikes"
         ],
         "x0": " ",
         "xaxis": "x",
         "y": {
          "bdata": "AAAAAABAn0AAAAAAAIijQAAAAAAAAKlAAAAAAADorEAAAAAAAECfQAAAAAAAiKNAAAAAAAAAqUAAAAAAAOisQA==",
          "dtype": "f8"
         },
         "y0": " ",
         "yaxis": "y"
        },
        {
         "alignmentgroup": "True",
         "boxpoints": "outliers",
         "hovertemplate": "Product Category=%{x}<br>Product Price $=%{y}<extra></extra>",
         "legendgroup": "Hybrid Bikes",
         "marker": {
          "color": "#FFA15A"
         },
         "name": "Hybrid Bikes",
         "notched": false,
         "offsetgroup": "Hybrid Bikes",
         "orientation": "v",
         "showlegend": true,
         "type": "box",
         "x": [
          "Hybrid Bikes",
          "Hybrid Bikes"
         ],
         "x0": " ",
         "xaxis": "x",
         "y": {
          "bdata": "AAAAAADAkkAAAAAAAHCXQA==",
          "dtype": "f8"
         },
         "y0": " ",
         "yaxis": "y"
        },
        {
         "alignmentgroup": "True",
         "boxpoints": "outliers",
         "hovertemplate": "Product Category=%{x}<br>Product Price $=%{y}<extra></extra>",
         "legendgroup": "Kids Bikes",
         "marker": {
          "color": "#19d3f3"
         },
         "name": "Kids Bikes",
         "notched": false,
         "offsetgroup": "Kids Bikes",
         "orientation": "v",
         "showlegend": true,
         "type": "box",
         "x": [
          "Kids Bikes",
          "Kids Bikes"
         ],
         "x0": " ",
         "xaxis": "x",
         "y": {
          "bdata": "AAAAAADAYkAAAAAAAABpQA==",
          "dtype": "f8"
         },
         "y0": " ",
         "yaxis": "y"
        },
        {
         "alignmentgroup": "True",
         "boxpoints": "outliers",
         "hovertemplate": "Product Category=%{x}<br>Product Price $=%{y}<extra></extra>",
         "legendgroup": "BMX Bikes",
         "marker": {
          "color": "#FF6692"
         },
         "name": "BMX Bikes",
         "notched": false,
         "offsetgroup": "BMX Bikes",
         "orientation": "v",
         "showlegend": true,
         "type": "box",
         "x": [
          "BMX Bikes",
          "BMX Bikes"
         ],
         "x0": " ",
         "xaxis": "x",
         "y": {
          "bdata": "AAAAAAAAeUAAAAAAAMCCQA==",
          "dtype": "f8"
         },
         "y0": " ",
         "yaxis": "y"
        }
       ],
       "layout": {
        "boxmode": "overlay",
        "font": {
         "size": 14
        },
        "legend": {
         "title": {
          "text": "Product Category"
         },
         "tracegroupgap": 0
        },
        "plot_bgcolor": "white",
        "template": {
         "data": {
          "bar": [
           {
            "error_x": {
             "color": "#2a3f5f"
            },
            "error_y": {
             "color": "#2a3f5f"
            },
            "marker": {
             "line": {
              "color": "#E5ECF6",
              "width": 0.5
             },
             "pattern": {
              "fillmode": "overlay",
              "size": 10,
              "solidity": 0.2
             }
            },
            "type": "bar"
           }
          ],
          "barpolar": [
           {
            "marker": {
             "line": {
              "color": "#E5ECF6",
              "width": 0.5
             },
             "pattern": {
              "fillmode": "overlay",
              "size": 10,
              "solidity": 0.2
             }
            },
            "type": "barpolar"
           }
          ],
          "carpet": [
           {
            "aaxis": {
             "endlinecolor": "#2a3f5f",
             "gridcolor": "white",
             "linecolor": "white",
             "minorgridcolor": "white",
             "startlinecolor": "#2a3f5f"
            },
            "baxis": {
             "endlinecolor": "#2a3f5f",
             "gridcolor": "white",
             "linecolor": "white",
             "minorgridcolor": "white",
             "startlinecolor": "#2a3f5f"
            },
            "type": "carpet"
           }
          ],
          "choropleth": [
           {
            "colorbar": {
             "outlinewidth": 0,
             "ticks": ""
            },
            "type": "choropleth"
           }
          ],
          "contour": [
           {
            "colorbar": {
             "outlinewidth": 0,
             "ticks": ""
            },
            "colorscale": [
             [
              0,
              "#0d0887"
             ],
             [
              0.1111111111111111,
              "#46039f"
             ],
             [
              0.2222222222222222,
              "#7201a8"
             ],
             [
              0.3333333333333333,
              "#9c179e"
             ],
             [
              0.4444444444444444,
              "#bd3786"
             ],
             [
              0.5555555555555556,
              "#d8576b"
             ],
             [
              0.6666666666666666,
              "#ed7953"
             ],
             [
              0.7777777777777778,
              "#fb9f3a"
             ],
             [
              0.8888888888888888,
              "#fdca26"
             ],
             [
              1,
              "#f0f921"
             ]
            ],
            "type": "contour"
           }
          ],
          "contourcarpet": [
           {
            "colorbar": {
             "outlinewidth": 0,
             "ticks": ""
            },
            "type": "contourcarpet"
           }
          ],
          "heatmap": [
           {
            "colorbar": {
             "outlinewidth": 0,
             "ticks": ""
            },
            "colorscale": [
             [
              0,
              "#0d0887"
             ],
             [
              0.1111111111111111,
              "#46039f"
             ],
             [
              0.2222222222222222,
              "#7201a8"
             ],
             [
              0.3333333333333333,
              "#9c179e"
             ],
             [
              0.4444444444444444,
              "#bd3786"
             ],
             [
              0.5555555555555556,
              "#d8576b"
             ],
             [
              0.6666666666666666,
              "#ed7953"
             ],
             [
              0.7777777777777778,
              "#fb9f3a"
             ],
             [
              0.8888888888888888,
              "#fdca26"
             ],
             [
              1,
              "#f0f921"
             ]
            ],
            "type": "heatmap"
           }
          ],
          "histogram": [
           {
            "marker": {
             "pattern": {
              "fillmode": "overlay",
              "size": 10,
              "solidity": 0.2
             }
            },
            "type": "histogram"
           }
          ],
          "histogram2d": [
           {
            "colorbar": {
             "outlinewidth": 0,
             "ticks": ""
            },
            "colorscale": [
             [
              0,
              "#0d0887"
             ],
             [
              0.1111111111111111,
              "#46039f"
             ],
             [
              0.2222222222222222,
              "#7201a8"
             ],
             [
              0.3333333333333333,
              "#9c179e"
             ],
             [
              0.4444444444444444,
              "#bd3786"
             ],
             [
              0.5555555555555556,
              "#d8576b"
             ],
             [
              0.6666666666666666,
              "#ed7953"
             ],
             [
              0.7777777777777778,
              "#fb9f3a"
             ],
             [
              0.8888888888888888,
              "#fdca26"
             ],
             [
              1,
              "#f0f921"
             ]
            ],
            "type": "histogram2d"
           }
          ],
          "histogram2dcontour": [
           {
            "colorbar": {
             "outlinewidth": 0,
             "ticks": ""
            },
            "colorscale": [
             [
              0,
              "#0d0887"
             ],
             [
              0.1111111111111111,
              "#46039f"
             ],
             [
              0.2222222222222222,
              "#7201a8"
             ],
             [
              0.3333333333333333,
              "#9c179e"
             ],
             [
              0.4444444444444444,
              "#bd3786"
             ],
             [
              0.5555555555555556,
              "#d8576b"
             ],
             [
              0.6666666666666666,
              "#ed7953"
             ],
             [
              0.7777777777777778,
              "#fb9f3a"
             ],
             [
              0.8888888888888888,
              "#fdca26"
             ],
             [
              1,
              "#f0f921"
             ]
            ],
            "type": "histogram2dcontour"
           }
          ],
          "mesh3d": [
           {
            "colorbar": {
             "outlinewidth": 0,
             "ticks": ""
            },
            "type": "mesh3d"
           }
          ],
          "parcoords": [
           {
            "line": {
             "colorbar": {
              "outlinewidth": 0,
              "ticks": ""
             }
            },
            "type": "parcoords"
           }
          ],
          "pie": [
           {
            "automargin": true,
            "type": "pie"
           }
          ],
          "scatter": [
           {
            "fillpattern": {
             "fillmode": "overlay",
             "size": 10,
             "solidity": 0.2
            },
            "type": "scatter"
           }
          ],
          "scatter3d": [
           {
            "line": {
             "colorbar": {
              "outlinewidth": 0,
              "ticks": ""
             }
            },
            "marker": {
             "colorbar": {
              "outlinewidth": 0,
              "ticks": ""
             }
            },
            "type": "scatter3d"
           }
          ],
          "scattercarpet": [
           {
            "marker": {
             "colorbar": {
              "outlinewidth": 0,
              "ticks": ""
             }
            },
            "type": "scattercarpet"
           }
          ],
          "scattergeo": [
           {
            "marker": {
             "colorbar": {
              "outlinewidth": 0,
              "ticks": ""
             }
            },
            "type": "scattergeo"
           }
          ],
          "scattergl": [
           {
            "marker": {
             "colorbar": {
              "outlinewidth": 0,
              "ticks": ""
             }
            },
            "type": "scattergl"
           }
          ],
          "scattermap": [
           {
            "marker": {
             "colorbar": {
              "outlinewidth": 0,
              "ticks": ""
             }
            },
            "type": "scattermap"
           }
          ],
          "scattermapbox": [
           {
            "marker": {
             "colorbar": {
              "outlinewidth": 0,
              "ticks": ""
             }
            },
            "type": "scattermapbox"
           }
          ],
          "scatterpolar": [
           {
            "marker": {
             "colorbar": {
              "outlinewidth": 0,
              "ticks": ""
             }
            },
            "type": "scatterpolar"
           }
          ],
          "scatterpolargl": [
           {
            "marker": {
             "colorbar": {
              "outlinewidth": 0,
              "ticks": ""
             }
            },
            "type": "scatterpolargl"
           }
          ],
          "scatterternary": [
           {
            "marker": {
             "colorbar": {
              "outlinewidth": 0,
              "ticks": ""
             }
            },
            "type": "scatterternary"
           }
          ],
          "surface": [
           {
            "colorbar": {
             "outlinewidth": 0,
             "ticks": ""
            },
            "colorscale": [
             [
              0,
              "#0d0887"
             ],
             [
              0.1111111111111111,
              "#46039f"
             ],
             [
              0.2222222222222222,
              "#7201a8"
             ],
             [
              0.3333333333333333,
              "#9c179e"
             ],
             [
              0.4444444444444444,
              "#bd3786"
             ],
             [
              0.5555555555555556,
              "#d8576b"
             ],
             [
              0.6666666666666666,
              "#ed7953"
             ],
             [
              0.7777777777777778,
              "#fb9f3a"
             ],
             [
              0.8888888888888888,
              "#fdca26"
             ],
             [
              1,
              "#f0f921"
             ]
            ],
            "type": "surface"
           }
          ],
          "table": [
           {
            "cells": {
             "fill": {
              "color": "#EBF0F8"
             },
             "line": {
              "color": "white"
             }
            },
            "header": {
             "fill": {
              "color": "#C8D4E3"
             },
             "line": {
              "color": "white"
             }
            },
            "type": "table"
           }
          ]
         },
         "layout": {
          "annotationdefaults": {
           "arrowcolor": "#2a3f5f",
           "arrowhead": 0,
           "arrowwidth": 1
          },
          "autotypenumbers": "strict",
          "coloraxis": {
           "colorbar": {
            "outlinewidth": 0,
            "ticks": ""
           }
          },
          "colorscale": {
           "diverging": [
            [
             0,
             "#8e0152"
            ],
            [
             0.1,
             "#c51b7d"
            ],
            [
             0.2,
             "#de77ae"
            ],
            [
             0.3,
             "#f1b6da"
            ],
            [
             0.4,
             "#fde0ef"
            ],
            [
             0.5,
             "#f7f7f7"
            ],
            [
             0.6,
             "#e6f5d0"
            ],
            [
             0.7,
             "#b8e186"
            ],
            [
             0.8,
             "#7fbc41"
            ],
            [
             0.9,
             "#4d9221"
            ],
            [
             1,
             "#276419"
            ]
           ],
           "sequential": [
            [
             0,
             "#0d0887"
            ],
            [
             0.1111111111111111,
             "#46039f"
            ],
            [
             0.2222222222222222,
             "#7201a8"
            ],
            [
             0.3333333333333333,
             "#9c179e"
            ],
            [
             0.4444444444444444,
             "#bd3786"
            ],
            [
             0.5555555555555556,
             "#d8576b"
            ],
            [
             0.6666666666666666,
             "#ed7953"
            ],
            [
             0.7777777777777778,
             "#fb9f3a"
            ],
            [
             0.8888888888888888,
             "#fdca26"
            ],
            [
             1,
             "#f0f921"
            ]
           ],
           "sequentialminus": [
            [
             0,
             "#0d0887"
            ],
            [
             0.1111111111111111,
             "#46039f"
            ],
            [
             0.2222222222222222,
             "#7201a8"
            ],
            [
             0.3333333333333333,
             "#9c179e"
            ],
            [
             0.4444444444444444,
             "#bd3786"
            ],
            [
             0.5555555555555556,
             "#d8576b"
            ],
            [
             0.6666666666666666,
             "#ed7953"
            ],
            [
             0.7777777777777778,
             "#fb9f3a"
            ],
            [
             0.8888888888888888,
             "#fdca26"
            ],
            [
             1,
             "#f0f921"
            ]
           ]
          },
          "colorway": [
           "#636efa",
           "#EF553B",
           "#00cc96",
           "#ab63fa",
           "#FFA15A",
           "#19d3f3",
           "#FF6692",
           "#B6E880",
           "#FF97FF",
           "#FECB52"
          ],
          "font": {
           "color": "#2a3f5f"
          },
          "geo": {
           "bgcolor": "white",
           "lakecolor": "white",
           "landcolor": "#E5ECF6",
           "showlakes": true,
           "showland": true,
           "subunitcolor": "white"
          },
          "hoverlabel": {
           "align": "left"
          },
          "hovermode": "closest",
          "mapbox": {
           "style": "light"
          },
          "paper_bgcolor": "white",
          "plot_bgcolor": "#E5ECF6",
          "polar": {
           "angularaxis": {
            "gridcolor": "white",
            "linecolor": "white",
            "ticks": ""
           },
           "bgcolor": "#E5ECF6",
           "radialaxis": {
            "gridcolor": "white",
            "linecolor": "white",
            "ticks": ""
           }
          },
          "scene": {
           "xaxis": {
            "backgroundcolor": "#E5ECF6",
            "gridcolor": "white",
            "gridwidth": 2,
            "linecolor": "white",
            "showbackground": true,
            "ticks": "",
            "zerolinecolor": "white"
           },
           "yaxis": {
            "backgroundcolor": "#E5ECF6",
            "gridcolor": "white",
            "gridwidth": 2,
            "linecolor": "white",
            "showbackground": true,
            "ticks": "",
            "zerolinecolor": "white"
           },
           "zaxis": {
            "backgroundcolor": "#E5ECF6",
            "gridcolor": "white",
            "gridwidth": 2,
            "linecolor": "white",
            "showbackground": true,
            "ticks": "",
            "zerolinecolor": "white"
           }
          },
          "shapedefaults": {
           "line": {
            "color": "#2a3f5f"
           }
          },
          "ternary": {
           "aaxis": {
            "gridcolor": "white",
            "linecolor": "white",
            "ticks": ""
           },
           "baxis": {
            "gridcolor": "white",
            "linecolor": "white",
            "ticks": ""
           },
           "bgcolor": "#E5ECF6",
           "caxis": {
            "gridcolor": "white",
            "linecolor": "white",
            "ticks": ""
           }
          },
          "title": {
           "x": 0.05
          },
          "xaxis": {
           "automargin": true,
           "gridcolor": "white",
           "linecolor": "white",
           "ticks": "",
           "title": {
            "standoff": 15
           },
           "zerolinecolor": "white",
           "zerolinewidth": 2
          },
          "yaxis": {
           "automargin": true,
           "gridcolor": "white",
           "linecolor": "white",
           "ticks": "",
           "title": {
            "standoff": 15
           },
           "zerolinecolor": "white",
           "zerolinewidth": 2
          }
         }
        },
        "title": {
         "font": {
          "size": 20
         },
         "text": "Box Plot of Product Prices by Category"
        },
        "xaxis": {
         "anchor": "y",
         "categoryarray": [
          "Mountain Bikes",
          "Road Bikes",
          "Touring Bikes",
          "E-Bikes",
          "Hybrid Bikes",
          "Kids Bikes",
          "BMX Bikes"
         ],
         "categoryorder": "array",
         "domain": [
          0,
          1
         ],
         "tickangle": -45,
         "title": {
          "font": {
           "size": 16
          },
          "text": "Product Category"
         }
        },
        "yaxis": {
         "anchor": "x",
         "domain": [
          0,
          1
         ],
         "title": {
          "font": {
           "size": 16
          },
          "text": "Product Price $"
         }
        }
       }
      }
     },
     "metadata": {},
     "output_type": "display_data"
    }
   ],
   "source": [
    "import plotly.express as px\n",
    "\n",
    "fig = px.box(\n",
    "    data,\n",
    "    x='Product Category',\n",
    "    y='Product Price',\n",
    "    points='outliers', \n",
    "    title='Box Plot of Product Prices by Category',\n",
    "    labels={\n",
    "        'Product Category': 'Product Category',\n",
    "        'Product Price': 'Product Price $'  \n",
    "    },\n",
    "    color='Product Category',  \n",
    ")\n",
    "\n",
    "fig.update_layout(\n",
    "    plot_bgcolor='white',\n",
    "    font=dict(size=14),\n",
    "    title_font=dict(size=20),\n",
    "    xaxis_title_font=dict(size=16),\n",
    "    yaxis_title_font=dict(size=16),\n",
    "    xaxis_tickangle=-45\n",
    ")\n",
    "\n",
    "fig.show()\n",
    "\n"
   ]
  },
  {
   "cell_type": "code",
   "execution_count": 139,
   "metadata": {
    "execution": {
     "iopub.execute_input": "2024-12-10T13:08:57.582321Z",
     "iopub.status.busy": "2024-12-10T13:08:57.581987Z",
     "iopub.status.idle": "2024-12-10T13:08:57.945262Z",
     "shell.execute_reply": "2024-12-10T13:08:57.944196Z",
     "shell.execute_reply.started": "2024-12-10T13:08:57.582288Z"
    },
    "trusted": true
   },
   "outputs": [
    {
     "data": {
      "image/png": "[encoded data removed]",
      "text/plain": [
       "<Figure size 1200x600 with 1 Axes>"
      ]
     },
     "metadata": {},
     "output_type": "display_data"
    }
   ],
   "source": [
    "plt.figure(figsize=(12, 6))\n",
    "sns.regplot(x='Product Weight', y='Product Price', data=data, scatter_kws={'alpha':0.5})\n",
    "plt.title('Price vs Weight of Products')\n",
    "plt.xlabel('Weight (kg)')\n",
    "\n",
    "plt.ylabel('Price ($)')\n",
    "plt.tight_layout()\n",
    "plt.show()"
   ]
  },
  {
   "cell_type": "code",
   "execution_count": 140,
   "metadata": {
    "execution": {
     "iopub.execute_input": "2024-12-10T13:08:57.947157Z",
     "iopub.status.busy": "2024-12-10T13:08:57.946842Z",
     "iopub.status.idle": "2024-12-10T13:08:58.211718Z",
     "shell.execute_reply": "2024-12-10T13:08:58.210564Z",
     "shell.execute_reply.started": "2024-12-10T13:08:57.947127Z"
    },
    "trusted": true
   },
   "outputs": [
    {
     "name": "stderr",
     "output_type": "stream",
     "text": [
      "C:\\Users\\Mohamed\\AppData\\Local\\Temp\\ipykernel_26436\\1574348577.py:3: FutureWarning:\n",
      "\n",
      "\n",
      "\n",
      "Passing `palette` without assigning `hue` is deprecated and will be removed in v0.14.0. Assign the `y` variable to `hue` and set `legend=False` for the same effect.\n",
      "\n",
      "\n"
     ]
    },
    {
     "data": {
      "image/png": "[encoded data removed]",
      "text/plain": [
       "<Figure size 1200x600 with 1 Axes>"
      ]
     },
     "metadata": {},
     "output_type": "display_data"
    }
   ],
   "source": [
    "sales_by_shipping = data.groupby('Shipping Method')['Order Total'].sum().reset_index()\n",
    "plt.figure(figsize=(12, 6))\n",
    "sns.barplot(x='Order Total', y='Shipping Method', data=sales_by_shipping, palette='magma')\n",
    "plt.title('Total Sales by Shipping Method')\n",
    "plt.xlabel('Total Sales ($)')\n",
    "plt.ylabel('Shipping Method')\n",
    "plt.tight_layout()\n",
    "plt.show()"
   ]
  },
  {
   "cell_type": "code",
   "execution_count": 67,
   "metadata": {
    "execution": {
     "iopub.execute_input": "2024-12-10T13:08:58.213414Z",
     "iopub.status.busy": "2024-12-10T13:08:58.213066Z",
     "iopub.status.idle": "2024-12-10T13:08:58.606808Z",
     "shell.execute_reply": "2024-12-10T13:08:58.605463Z",
     "shell.execute_reply.started": "2024-12-10T13:08:58.21338Z"
    },
    "trusted": true
   },
   "outputs": [
    {
     "data": {
      "image/png": "[encoded data removed]",
      "text/plain": [
       "<Figure size 1200x600 with 1 Axes>"
      ]
     },
     "metadata": {},
     "output_type": "display_data"
    }
   ],
   "source": [
    "plt.figure(figsize=(12, 6))\n",
    "sns.histplot(data['Order Quantity'], bins=20, kde=True, color='purple')\n",
    "plt.title('Distribution of Order Quantities')\n",
    "plt.xlabel('Order Quantity')\n",
    "plt.ylabel('Frequency')\n",
    "plt.tight_layout()\n",
    "plt.show()"
   ]
  },
  {
   "cell_type": "code",
   "execution_count": 68,
   "metadata": {
    "execution": {
     "iopub.execute_input": "2024-12-10T13:08:58.610033Z",
     "iopub.status.busy": "2024-12-10T13:08:58.609654Z",
     "iopub.status.idle": "2024-12-10T13:08:58.972049Z",
     "shell.execute_reply": "2024-12-10T13:08:58.970916Z",
     "shell.execute_reply.started": "2024-12-10T13:08:58.609997Z"
    },
    "trusted": true
   },
   "outputs": [
    {
     "name": "stderr",
     "output_type": "stream",
     "text": [
      "C:\\Users\\Mohamed\\AppData\\Local\\Temp\\ipykernel_26436\\2648806843.py:3: FutureWarning: \n",
      "\n",
      "Passing `palette` without assigning `hue` is deprecated and will be removed in v0.14.0. Assign the `y` variable to `hue` and set `legend=False` for the same effect.\n",
      "\n",
      "  sns.barplot(x='Order Total', y='Customer Location', data=sales_by_country.sort_values('Order Total', ascending=False).head(10), palette='coolwarm')\n"
     ]
    },
    {
     "data": {
      "image/png": "[encoded data removed]",
      "text/plain": [
       "<Figure size 1200x600 with 1 Axes>"
      ]
     },
     "metadata": {},
     "output_type": "display_data"
    }
   ],
   "source": [
    "sales_by_country = data.groupby('Customer Location')['Order Total'].sum().reset_index()\n",
    "plt.figure(figsize=(12, 6))\n",
    "sns.barplot(x='Order Total', y='Customer Location', data=sales_by_country.sort_values('Order Total', ascending=False).head(10), palette='coolwarm')\n",
    "plt.title('Top 10 Countries by Total Sales')\n",
    "plt.xlabel('Total Sales ($)')\n",
    "plt.ylabel('Country')\n",
    "plt.tight_layout()\n",
    "plt.show()"
   ]
  },
  {
   "cell_type": "code",
   "execution_count": 69,
   "metadata": {
    "execution": {
     "iopub.execute_input": "2024-12-10T13:08:58.974351Z",
     "iopub.status.busy": "2024-12-10T13:08:58.973891Z",
     "iopub.status.idle": "2024-12-10T13:08:59.291675Z",
     "shell.execute_reply": "2024-12-10T13:08:59.290561Z",
     "shell.execute_reply.started": "2024-12-10T13:08:58.974301Z"
    },
    "trusted": true
   },
   "outputs": [
    {
     "data": {
      "image/png": "[encoded data removed]",
      "text/plain": [
       "<Figure size 1200x600 with 1 Axes>"
      ]
     },
     "metadata": {},
     "output_type": "display_data"
    }
   ],
   "source": [
    "plt.figure(figsize=(12, 6))\n",
    "sns.boxplot(x='Payment Method', y='Shipping Time (in Days)', data=data)\n",
    "plt.title('Shipping Time by Payment Method')\n",
    "plt.xticks(rotation=45)\n",
    "plt.tight_layout()\n",
    "plt.show()"
   ]
  },
  {
   "cell_type": "code",
   "execution_count": 70,
   "metadata": {
    "execution": {
     "iopub.execute_input": "2024-12-10T13:08:59.29357Z",
     "iopub.status.busy": "2024-12-10T13:08:59.293087Z",
     "iopub.status.idle": "2024-12-10T13:08:59.618301Z",
     "shell.execute_reply": "2024-12-10T13:08:59.617061Z",
     "shell.execute_reply.started": "2024-12-10T13:08:59.293526Z"
    },
    "trusted": true
   },
   "outputs": [
    {
     "name": "stderr",
     "output_type": "stream",
     "text": [
      "C:\\Users\\Mohamed\\AppData\\Local\\Temp\\ipykernel_26436\\2642860771.py:3: FutureWarning: \n",
      "\n",
      "Passing `palette` without assigning `hue` is deprecated and will be removed in v0.14.0. Assign the `y` variable to `hue` and set `legend=False` for the same effect.\n",
      "\n",
      "  sns.barplot(x='Order Total', y='Product Color', data=sales_by_color, palette='Set2')\n"
     ]
    },
    {
     "data": {
      "image/png": "[encoded data removed]",
      "text/plain": [
       "<Figure size 1200x600 with 1 Axes>"
      ]
     },
     "metadata": {},
     "output_type": "display_data"
    }
   ],
   "source": [
    "sales_by_color = data.groupby('Product Color')['Order Total'].sum().reset_index()\n",
    "plt.figure(figsize=(12, 6))\n",
    "sns.barplot(x='Order Total', y='Product Color', data=sales_by_color, palette='Set2')\n",
    "plt.title('Total Sales by Product Color')\n",
    "plt.xlabel('Total Sales ($)')\n",
    "plt.ylabel('Product Color')\n",
    "plt.tight_layout()\n",
    "plt.show()"
   ]
  },
  {
   "cell_type": "code",
   "execution_count": 71,
   "metadata": {
    "execution": {
     "iopub.execute_input": "2024-12-10T13:09:00.010165Z",
     "iopub.status.busy": "2024-12-10T13:09:00.009824Z",
     "iopub.status.idle": "2024-12-10T13:09:00.319045Z",
     "shell.execute_reply": "2024-12-10T13:09:00.317952Z",
     "shell.execute_reply.started": "2024-12-10T13:09:00.01013Z"
    },
    "trusted": true
   },
   "outputs": [
    {
     "name": "stderr",
     "output_type": "stream",
     "text": [
      "C:\\Users\\Mohamed\\AppData\\Local\\Temp\\ipykernel_26436\\2547197128.py:3: FutureWarning: \n",
      "\n",
      "Passing `palette` without assigning `hue` is deprecated and will be removed in v0.14.0. Assign the `y` variable to `hue` and set `legend=False` for the same effect.\n",
      "\n",
      "  sns.barplot(x='Order Quantity', y='Product Category', data=quantity_by_category, palette='pastel')\n"
     ]
    },
    {
     "data": {
      "image/png": "[encoded data removed]",
      "text/plain": [
       "<Figure size 1200x600 with 1 Axes>"
      ]
     },
     "metadata": {},
     "output_type": "display_data"
    }
   ],
   "source": [
    "quantity_by_category = data.groupby('Product Category')['Order Quantity'].sum().reset_index()\n",
    "plt.figure(figsize=(12, 6))\n",
    "sns.barplot(x='Order Quantity', y='Product Category', data=quantity_by_category, palette='pastel')\n",
    "plt.title('Total Order Quantity by Product Category')\n",
    "plt.xlabel('Total Quantity Sold')\n",
    "plt.ylabel('Product Category')\n",
    "plt.tight_layout()\n",
    "plt.show()"
   ]
  },
  {
   "cell_type": "code",
   "execution_count": 72,
   "metadata": {
    "execution": {
     "iopub.execute_input": "2024-12-10T13:09:00.320942Z",
     "iopub.status.busy": "2024-12-10T13:09:00.320507Z",
     "iopub.status.idle": "2024-12-10T13:09:00.595742Z",
     "shell.execute_reply": "2024-12-10T13:09:00.594594Z",
     "shell.execute_reply.started": "2024-12-10T13:09:00.320896Z"
    },
    "trusted": true
   },
   "outputs": [
    {
     "name": "stderr",
     "output_type": "stream",
     "text": [
      "C:\\Users\\Mohamed\\AppData\\Local\\Temp\\ipykernel_26436\\3283589026.py:3: FutureWarning: \n",
      "\n",
      "Passing `palette` without assigning `hue` is deprecated and will be removed in v0.14.0. Assign the `y` variable to `hue` and set `legend=False` for the same effect.\n",
      "\n",
      "  sns.barplot(x='Order Total', y='Customer Feedback', data=sales_by_feedback, palette='spring')\n"
     ]
    },
    {
     "data": {
      "image/png": "[encoded data removed]",
      "text/plain": [
       "<Figure size 1200x600 with 1 Axes>"
      ]
     },
     "metadata": {},
     "output_type": "display_data"
    }
   ],
   "source": [
    "sales_by_feedback = data.groupby('Customer Feedback')['Order Total'].sum().reset_index()\n",
    "plt.figure(figsize=(12, 6))\n",
    "sns.barplot(x='Order Total', y='Customer Feedback', data=sales_by_feedback, palette='spring')\n",
    "plt.title('Total Sales by Customer Feedback')\n",
    "plt.xlabel('Total Sales ($)')\n",
    "plt.ylabel('Customer Feedback')\n",
    "plt.tight_layout()\n",
    "plt.show()"
   ]
  },
  {
   "cell_type": "markdown",
   "metadata": {},
   "source": [
    "# ***6--Make training models***"
   ]
  },
  {
   "cell_type": "code",
   "execution_count": 73,
   "metadata": {
    "execution": {
     "iopub.execute_input": "2024-12-10T13:09:01.663755Z",
     "iopub.status.busy": "2024-12-10T13:09:01.663333Z",
     "iopub.status.idle": "2024-12-10T13:09:01.669941Z",
     "shell.execute_reply": "2024-12-10T13:09:01.668706Z",
     "shell.execute_reply.started": "2024-12-10T13:09:01.663719Z"
    },
    "trusted": true
   },
   "outputs": [],
   "source": [
    "features = data[['Product Price', 'Product Weight', 'Order Quantity']]\n",
    "target = data['Order Total']"
   ]
  },
  {
   "cell_type": "code",
   "execution_count": 74,
   "metadata": {
    "execution": {
     "iopub.execute_input": "2024-12-10T13:09:02.186529Z",
     "iopub.status.busy": "2024-12-10T13:09:02.186092Z",
     "iopub.status.idle": "2024-12-10T13:09:02.195624Z",
     "shell.execute_reply": "2024-12-10T13:09:02.194352Z",
     "shell.execute_reply.started": "2024-12-10T13:09:02.186462Z"
    },
    "trusted": true
   },
   "outputs": [],
   "source": [
    "X_train, X_test, y_train, y_test = train_test_split(features, target, test_size=0.2,train_size=.8, random_state=42)"
   ]
  },
  {
   "cell_type": "markdown",
   "metadata": {},
   "source": [
    "# ***7-- training the models***"
   ]
  },
  {
   "cell_type": "code",
   "execution_count": null,
   "metadata": {
    "execution": {
     "iopub.execute_input": "2024-12-10T13:09:02.26047Z",
     "iopub.status.busy": "2024-12-10T13:09:02.260073Z",
     "iopub.status.idle": "2024-12-10T13:09:02.266366Z",
     "shell.execute_reply": "2024-12-10T13:09:02.265219Z",
     "shell.execute_reply.started": "2024-12-10T13:09:02.260436Z"
    },
    "trusted": true
   },
   "outputs": [],
   "source": [
    "def train_model(X_train, y_train):\n",
    "    models = {\n",
    "        'Linear Regression': LinearRegression(),\n",
    "        'Random Forest': RandomForestRegressor(),\n",
    "        'Gradient Boosting': GradientBoostingRegressor()\n",
    "    }\n",
    "\n",
    "    results = {}\n",
    "    for model_name, model in models.items():\n",
    "        model.fit(X_train, y_train)\n",
    "        results[model_name] = model\n",
    "\n",
    "    return results\n"
   ]
  },
  {
   "cell_type": "markdown",
   "metadata": {},
   "source": [
    "# ***8--evaluatino***"
   ]
  },
  {
   "cell_type": "code",
   "execution_count": 76,
   "metadata": {
    "execution": {
     "iopub.execute_input": "2024-12-10T13:09:02.362925Z",
     "iopub.status.busy": "2024-12-10T13:09:02.362471Z",
     "iopub.status.idle": "2024-12-10T13:09:02.368577Z",
     "shell.execute_reply": "2024-12-10T13:09:02.367557Z",
     "shell.execute_reply.started": "2024-12-10T13:09:02.362888Z"
    },
    "trusted": true
   },
   "outputs": [],
   "source": [
    "def evaluate_models(models, X_test, y_test):\n",
    "   \n",
    "    results = {}\n",
    "    \n",
    "    for model_name, model in models.items():\n",
    "        y_pred = model.predict(X_test)\n",
    "        mse = mean_squared_error(y_test, y_pred)\n",
    "        r2 = r2_score(y_test, y_pred)\n",
    "        results[model_name] = {\n",
    "            'Mean Squared Error': mse,\n",
    "            'R^2 Score': r2\n",
    "        }\n",
    "    return results\n"
   ]
  },
  {
   "cell_type": "code",
   "execution_count": 157,
   "metadata": {
    "execution": {
     "iopub.execute_input": "2024-12-10T13:09:02.396912Z",
     "iopub.status.busy": "2024-12-10T13:09:02.396471Z",
     "iopub.status.idle": "2024-12-10T13:09:02.604625Z",
     "shell.execute_reply": "2024-12-10T13:09:02.603278Z",
     "shell.execute_reply.started": "2024-12-10T13:09:02.396874Z"
    },
    "trusted": true
   },
   "outputs": [
    {
     "name": "stdout",
     "output_type": "stream",
     "text": [
      "✅ Linear Regression model saved as model.pkl\n",
      "Model: Linear Regression\n",
      "  Mean Squared Error: 4397618.79\n",
      "  R^2 Score: 0.86\n",
      "\n",
      "Model: Random Forest\n",
      "  Mean Squared Error: 10700286.25\n",
      "  R^2 Score: 0.66\n",
      "\n",
      "Model: Gradient Boosting\n",
      "  Mean Squared Error: 8122880.88\n",
      "  R^2 Score: 0.74\n",
      "\n"
     ]
    }
   ],
   "source": [
    "def print_results(results):\n",
    "    for model_name, metrics in results.items():\n",
    "        print(f'Model: {model_name}')\n",
    "        print(f\"  Mean Squared Error: {metrics['Mean Squared Error']:.2f}\")\n",
    "        print(f\"  R^2 Score: {metrics['R^2 Score']:.2f}\\n\")\n",
    "        \n",
    "\n",
    "models = train_model(X_train, y_train)\n",
    "results = evaluate_models(models, X_test, y_test)\n",
    "print_results(results)"
   ]
  },
  {
   "cell_type": "markdown",
   "metadata": {},
   "source": [
    "# ***9--Visual the results***"
   ]
  },
  {
   "cell_type": "code",
   "execution_count": 142,
   "metadata": {
    "execution": {
     "iopub.execute_input": "2024-12-10T13:09:02.606956Z",
     "iopub.status.busy": "2024-12-10T13:09:02.606616Z",
     "iopub.status.idle": "2024-12-10T13:09:03.306905Z",
     "shell.execute_reply": "2024-12-10T13:09:03.305792Z",
     "shell.execute_reply.started": "2024-12-10T13:09:02.606923Z"
    },
    "trusted": true
   },
   "outputs": [
    {
     "name": "stdout",
     "output_type": "stream",
     "text": [
      "Model: Linear Regression\n",
      "  Mean Squared Error: 4397618.79\n",
      "  R^2 Score: 0.86\n",
      "\n",
      "Model: Random Forest\n",
      "  Mean Squared Error: 10420330.06\n",
      "  R^2 Score: 0.67\n",
      "\n",
      "Model: Gradient Boosting\n",
      "  Mean Squared Error: 8144315.25\n",
      "  R^2 Score: 0.74\n",
      "\n"
     ]
    },
    {
     "data": {
      "image/png": "[encoded data removed]",
      "text/plain": [
       "<Figure size 1200x800 with 3 Axes>"
      ]
     },
     "metadata": {},
     "output_type": "display_data"
    }
   ],
   "source": [
    "def plot_results(models, X_test, y_test):\n",
    "    plt.figure(figsize=(12, 8))\n",
    "    \n",
    "    for i, (model_name, model) in enumerate(models.items()):\n",
    "        y_pred = model.predict(X_test)\n",
    "        plt.subplot(2, 2, i + 1)\n",
    "        sns.scatterplot(x=y_test, y=y_pred, label=model_name)\n",
    "        plt.plot([y_test.min(), y_test.max()], [y_test.min(), y_test.max()], 'r--')  # خط مرجعي\n",
    "        plt.title(model_name)\n",
    "        plt.xlabel('Actual Values')\n",
    "        plt.ylabel('Predicted Values')\n",
    "        plt.xlim(y_test.min(), y_test.max())\n",
    "        plt.ylim(y_test.min(), y_test.max())\n",
    "    \n",
    "    plt.tight_layout()\n",
    "    plt.show()\n",
    "print_results(results)\n",
    "plot_results(models, X_test, y_test)"
   ]
  },
  {
   "cell_type": "markdown",
   "metadata": {},
   "source": [
    "# ***10--bYe***"
   ]
  }
 ],
 "metadata": {
  "kaggle": {
   "accelerator": "none",
   "dataSources": [
    {
     "datasetId": 6271727,
     "sourceId": 10157633,
     "sourceType": "datasetVersion"
    }
   ],
   "dockerImageVersionId": 30804,
   "isGpuEnabled": false,
   "isInternetEnabled": true,
   "language": "python",
   "sourceType": "notebook"
  },
  "kernelspec": {
   "display_name": "Python 3",
   "language": "python",
   "name": "python3"
  },
  "language_info": {
   "codemirror_mode": {
    "name": "ipython",
    "version": 3
   },
   "file_extension": ".py",
   "mimetype": "text/x-python",
   "name": "python",
   "nbconvert_exporter": "python",
   "pygments_lexer": "ipython3",
   "version": "3.12.5"
  }
 },
 "nbformat": 4,
 "nbformat_minor": 4
}
